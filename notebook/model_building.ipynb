{
 "cells": [
  {
   "cell_type": "code",
   "execution_count": 1,
   "id": "5c2e52e5-671a-4635-a2b5-43530a3a1178",
   "metadata": {},
   "outputs": [],
   "source": [
    "import numpy as np\n",
    "import pandas as pd\n",
    "import matplotlib.pyplot as plt"
   ]
  },
  {
   "cell_type": "code",
   "execution_count": 2,
   "id": "41a75c39-3411-4ed7-8970-1a7475e29a2a",
   "metadata": {},
   "outputs": [],
   "source": [
    "data_raw = pd.read_csv('../artifacts/movie.csv')"
   ]
  },
  {
   "cell_type": "code",
   "execution_count": 3,
   "id": "ec8886f8-654b-44ec-bc6d-f4e2eabc8b07",
   "metadata": {},
   "outputs": [
    {
     "data": {
      "text/html": [
       "<div>\n",
       "<style scoped>\n",
       "    .dataframe tbody tr th:only-of-type {\n",
       "        vertical-align: middle;\n",
       "    }\n",
       "\n",
       "    .dataframe tbody tr th {\n",
       "        vertical-align: top;\n",
       "    }\n",
       "\n",
       "    .dataframe thead th {\n",
       "        text-align: right;\n",
       "    }\n",
       "</style>\n",
       "<table border=\"1\" class=\"dataframe\">\n",
       "  <thead>\n",
       "    <tr style=\"text-align: right;\">\n",
       "      <th></th>\n",
       "      <th>text</th>\n",
       "      <th>label</th>\n",
       "    </tr>\n",
       "  </thead>\n",
       "  <tbody>\n",
       "    <tr>\n",
       "      <th>0</th>\n",
       "      <td>I grew up (b. 1965) watching and loving the Th...</td>\n",
       "      <td>0</td>\n",
       "    </tr>\n",
       "    <tr>\n",
       "      <th>1</th>\n",
       "      <td>When I put this movie in my DVD player, and sa...</td>\n",
       "      <td>0</td>\n",
       "    </tr>\n",
       "    <tr>\n",
       "      <th>2</th>\n",
       "      <td>Why do people who do not know what a particula...</td>\n",
       "      <td>0</td>\n",
       "    </tr>\n",
       "    <tr>\n",
       "      <th>3</th>\n",
       "      <td>Even though I have great interest in Biblical ...</td>\n",
       "      <td>0</td>\n",
       "    </tr>\n",
       "    <tr>\n",
       "      <th>4</th>\n",
       "      <td>Im a die hard Dads Army fan and nothing will e...</td>\n",
       "      <td>1</td>\n",
       "    </tr>\n",
       "  </tbody>\n",
       "</table>\n",
       "</div>"
      ],
      "text/plain": [
       "                                                text  label\n",
       "0  I grew up (b. 1965) watching and loving the Th...      0\n",
       "1  When I put this movie in my DVD player, and sa...      0\n",
       "2  Why do people who do not know what a particula...      0\n",
       "3  Even though I have great interest in Biblical ...      0\n",
       "4  Im a die hard Dads Army fan and nothing will e...      1"
      ]
     },
     "execution_count": 3,
     "metadata": {},
     "output_type": "execute_result"
    }
   ],
   "source": [
    "data_raw.head()"
   ]
  },
  {
   "cell_type": "code",
   "execution_count": 4,
   "id": "ddcddf6f-2078-4254-81ee-64ba837c8dc9",
   "metadata": {},
   "outputs": [],
   "source": [
    "##Data Preprocessing"
   ]
  },
  {
   "cell_type": "code",
   "execution_count": 5,
   "id": "ca01e2a9-d56f-4158-aaa3-0efb0c93192d",
   "metadata": {},
   "outputs": [
    {
     "data": {
      "text/plain": [
       "(40000, 2)"
      ]
     },
     "execution_count": 5,
     "metadata": {},
     "output_type": "execute_result"
    }
   ],
   "source": [
    "data_raw.shape"
   ]
  },
  {
   "cell_type": "code",
   "execution_count": 6,
   "id": "2017c7d2-359f-43ef-84bd-7afb8da4289f",
   "metadata": {},
   "outputs": [
    {
     "data": {
      "text/plain": [
       "0        False\n",
       "1        False\n",
       "2        False\n",
       "3        False\n",
       "4        False\n",
       "         ...  \n",
       "39995    False\n",
       "39996    False\n",
       "39997    False\n",
       "39998    False\n",
       "39999    False\n",
       "Length: 40000, dtype: bool"
      ]
     },
     "execution_count": 6,
     "metadata": {},
     "output_type": "execute_result"
    }
   ],
   "source": [
    "data_raw.duplicated()"
   ]
  },
  {
   "cell_type": "code",
   "execution_count": 7,
   "id": "919468bf-48cf-4134-bbd3-f00d596d2722",
   "metadata": {},
   "outputs": [
    {
     "data": {
      "text/plain": [
       "np.int64(277)"
      ]
     },
     "execution_count": 7,
     "metadata": {},
     "output_type": "execute_result"
    }
   ],
   "source": [
    "data_raw.duplicated().sum()"
   ]
  },
  {
   "cell_type": "code",
   "execution_count": 10,
   "id": "b2a148d5-c4b4-4012-b958-dbd9fd2e92f2",
   "metadata": {},
   "outputs": [],
   "source": [
    "# Remove duplicate rows and keep only the first occurrence\n",
    "data = data_raw.drop_duplicates()"
   ]
  },
  {
   "cell_type": "code",
   "execution_count": 11,
   "id": "56b08cff-afb4-4147-ab7d-8502a92f8108",
   "metadata": {},
   "outputs": [
    {
     "data": {
      "text/plain": [
       "np.int64(0)"
      ]
     },
     "execution_count": 11,
     "metadata": {},
     "output_type": "execute_result"
    }
   ],
   "source": [
    "data.duplicated().sum()"
   ]
  },
  {
   "cell_type": "code",
   "execution_count": 12,
   "id": "d3025509-e569-4449-a253-0f4463db07e6",
   "metadata": {},
   "outputs": [
    {
     "data": {
      "text/html": [
       "<div>\n",
       "<style scoped>\n",
       "    .dataframe tbody tr th:only-of-type {\n",
       "        vertical-align: middle;\n",
       "    }\n",
       "\n",
       "    .dataframe tbody tr th {\n",
       "        vertical-align: top;\n",
       "    }\n",
       "\n",
       "    .dataframe thead th {\n",
       "        text-align: right;\n",
       "    }\n",
       "</style>\n",
       "<table border=\"1\" class=\"dataframe\">\n",
       "  <thead>\n",
       "    <tr style=\"text-align: right;\">\n",
       "      <th></th>\n",
       "      <th>text</th>\n",
       "      <th>label</th>\n",
       "    </tr>\n",
       "  </thead>\n",
       "  <tbody>\n",
       "    <tr>\n",
       "      <th>0</th>\n",
       "      <td>False</td>\n",
       "      <td>False</td>\n",
       "    </tr>\n",
       "    <tr>\n",
       "      <th>1</th>\n",
       "      <td>False</td>\n",
       "      <td>False</td>\n",
       "    </tr>\n",
       "    <tr>\n",
       "      <th>2</th>\n",
       "      <td>False</td>\n",
       "      <td>False</td>\n",
       "    </tr>\n",
       "    <tr>\n",
       "      <th>3</th>\n",
       "      <td>False</td>\n",
       "      <td>False</td>\n",
       "    </tr>\n",
       "    <tr>\n",
       "      <th>4</th>\n",
       "      <td>False</td>\n",
       "      <td>False</td>\n",
       "    </tr>\n",
       "    <tr>\n",
       "      <th>...</th>\n",
       "      <td>...</td>\n",
       "      <td>...</td>\n",
       "    </tr>\n",
       "    <tr>\n",
       "      <th>39995</th>\n",
       "      <td>False</td>\n",
       "      <td>False</td>\n",
       "    </tr>\n",
       "    <tr>\n",
       "      <th>39996</th>\n",
       "      <td>False</td>\n",
       "      <td>False</td>\n",
       "    </tr>\n",
       "    <tr>\n",
       "      <th>39997</th>\n",
       "      <td>False</td>\n",
       "      <td>False</td>\n",
       "    </tr>\n",
       "    <tr>\n",
       "      <th>39998</th>\n",
       "      <td>False</td>\n",
       "      <td>False</td>\n",
       "    </tr>\n",
       "    <tr>\n",
       "      <th>39999</th>\n",
       "      <td>False</td>\n",
       "      <td>False</td>\n",
       "    </tr>\n",
       "  </tbody>\n",
       "</table>\n",
       "<p>39723 rows × 2 columns</p>\n",
       "</div>"
      ],
      "text/plain": [
       "        text  label\n",
       "0      False  False\n",
       "1      False  False\n",
       "2      False  False\n",
       "3      False  False\n",
       "4      False  False\n",
       "...      ...    ...\n",
       "39995  False  False\n",
       "39996  False  False\n",
       "39997  False  False\n",
       "39998  False  False\n",
       "39999  False  False\n",
       "\n",
       "[39723 rows x 2 columns]"
      ]
     },
     "execution_count": 12,
     "metadata": {},
     "output_type": "execute_result"
    }
   ],
   "source": [
    "data.isnull()"
   ]
  },
  {
   "cell_type": "code",
   "execution_count": 13,
   "id": "4a844b90-8884-4978-8339-53859df8c766",
   "metadata": {},
   "outputs": [
    {
     "data": {
      "text/plain": [
       "text     0\n",
       "label    0\n",
       "dtype: int64"
      ]
     },
     "execution_count": 13,
     "metadata": {},
     "output_type": "execute_result"
    }
   ],
   "source": [
    "data.isnull().sum()"
   ]
  },
  {
   "cell_type": "code",
   "execution_count": 14,
   "id": "0218d310-cd7a-4490-ac77-249cb4d46b53",
   "metadata": {},
   "outputs": [],
   "source": [
    "#Text preprocessing"
   ]
  },
  {
   "cell_type": "code",
   "execution_count": 15,
   "id": "254097ae-8a69-4053-afb5-010571dd2ceb",
   "metadata": {},
   "outputs": [],
   "source": [
    "import re   #regular expression\n",
    "import string"
   ]
  },
  {
   "cell_type": "code",
   "execution_count": 16,
   "id": "7d691e8e-0b4f-4d39-8f78-88f53a650a59",
   "metadata": {},
   "outputs": [
    {
     "data": {
      "text/plain": [
       "0    I grew up (b. 1965) watching and loving the Th...\n",
       "1    When I put this movie in my DVD player, and sa...\n",
       "2    Why do people who do not know what a particula...\n",
       "3    Even though I have great interest in Biblical ...\n",
       "4    Im a die hard Dads Army fan and nothing will e...\n",
       "Name: text, dtype: object"
      ]
     },
     "execution_count": 16,
     "metadata": {},
     "output_type": "execute_result"
    }
   ],
   "source": [
    "data[\"text\"].head(5)"
   ]
  },
  {
   "cell_type": "code",
   "execution_count": 17,
   "id": "912bcbc7-4331-413f-bfe2-2217845f6c6b",
   "metadata": {},
   "outputs": [],
   "source": [
    "#uppercase to lower case"
   ]
  },
  {
   "cell_type": "code",
   "execution_count": 18,
   "id": "971bf375-9419-4f65-91b5-358087cffe28",
   "metadata": {},
   "outputs": [
    {
     "name": "stderr",
     "output_type": "stream",
     "text": [
      "C:\\Users\\anuja\\AppData\\Local\\Temp\\ipykernel_15604\\2054086580.py:1: SettingWithCopyWarning: \n",
      "A value is trying to be set on a copy of a slice from a DataFrame.\n",
      "Try using .loc[row_indexer,col_indexer] = value instead\n",
      "\n",
      "See the caveats in the documentation: https://pandas.pydata.org/pandas-docs/stable/user_guide/indexing.html#returning-a-view-versus-a-copy\n",
      "  data[\"text\"] = data[\"text\"].apply(lambda x: \" \".join(x.lower() for x in x.split()))\n"
     ]
    }
   ],
   "source": [
    "data[\"text\"] = data[\"text\"].apply(lambda x: \" \".join(x.lower() for x in x.split()))"
   ]
  },
  {
   "cell_type": "code",
   "execution_count": 19,
   "id": "acd60ac7-0cf1-4609-b747-3b1fb3348cca",
   "metadata": {},
   "outputs": [
    {
     "data": {
      "text/plain": [
       "0    i grew up (b. 1965) watching and loving the th...\n",
       "1    when i put this movie in my dvd player, and sa...\n",
       "2    why do people who do not know what a particula...\n",
       "3    even though i have great interest in biblical ...\n",
       "4    im a die hard dads army fan and nothing will e...\n",
       "Name: text, dtype: object"
      ]
     },
     "execution_count": 19,
     "metadata": {},
     "output_type": "execute_result"
    }
   ],
   "source": [
    "data[\"text\"].head(5)"
   ]
  },
  {
   "cell_type": "code",
   "execution_count": 20,
   "id": "4372f643-4e9e-4e81-8b1a-7eb2a9160978",
   "metadata": {},
   "outputs": [],
   "source": [
    "#remove links"
   ]
  },
  {
   "cell_type": "code",
   "execution_count": 21,
   "id": "feeb29d6-68e4-451c-b405-98aa2defbbd4",
   "metadata": {},
   "outputs": [
    {
     "name": "stderr",
     "output_type": "stream",
     "text": [
      "C:\\Users\\anuja\\AppData\\Local\\Temp\\ipykernel_15604\\1746344332.py:1: SettingWithCopyWarning: \n",
      "A value is trying to be set on a copy of a slice from a DataFrame.\n",
      "Try using .loc[row_indexer,col_indexer] = value instead\n",
      "\n",
      "See the caveats in the documentation: https://pandas.pydata.org/pandas-docs/stable/user_guide/indexing.html#returning-a-view-versus-a-copy\n",
      "  data[\"text\"] = data['text'].apply(lambda x: \" \".join(re.sub(r'^https?:\\/\\/.*[\\r\\n]*', '', x, flags=re.MULTILINE) for x in x.split()))\n"
     ]
    }
   ],
   "source": [
    "data[\"text\"] = data['text'].apply(lambda x: \" \".join(re.sub(r'^https?:\\/\\/.*[\\r\\n]*', '', x, flags=re.MULTILINE) for x in x.split()))"
   ]
  },
  {
   "cell_type": "code",
   "execution_count": 22,
   "id": "ed5aecb6-1e0d-4420-87e7-f68eaaa418ba",
   "metadata": {},
   "outputs": [
    {
     "data": {
      "text/plain": [
       "0    i grew up (b. 1965) watching and loving the th...\n",
       "1    when i put this movie in my dvd player, and sa...\n",
       "2    why do people who do not know what a particula...\n",
       "3    even though i have great interest in biblical ...\n",
       "4    im a die hard dads army fan and nothing will e...\n",
       "Name: text, dtype: object"
      ]
     },
     "execution_count": 22,
     "metadata": {},
     "output_type": "execute_result"
    }
   ],
   "source": [
    "data[\"text\"].head(5)"
   ]
  },
  {
   "cell_type": "code",
   "execution_count": 23,
   "id": "0df18646-3f9c-4550-be5f-1f18e8af7d73",
   "metadata": {},
   "outputs": [],
   "source": [
    "#remove punctuation"
   ]
  },
  {
   "cell_type": "code",
   "execution_count": 24,
   "id": "7abfcfea-3490-4c6d-b879-c9cbf803cd7b",
   "metadata": {},
   "outputs": [
    {
     "data": {
      "text/plain": [
       "'!\"#$%&\\'()*+,-./:;<=>?@[\\\\]^_`{|}~'"
      ]
     },
     "execution_count": 24,
     "metadata": {},
     "output_type": "execute_result"
    }
   ],
   "source": [
    "string.punctuation"
   ]
  },
  {
   "cell_type": "code",
   "execution_count": 25,
   "id": "61421504-7638-47cd-8292-ae052ce09ca4",
   "metadata": {},
   "outputs": [
    {
     "name": "stderr",
     "output_type": "stream",
     "text": [
      "C:\\Users\\anuja\\AppData\\Local\\Temp\\ipykernel_15604\\179781057.py:6: SettingWithCopyWarning: \n",
      "A value is trying to be set on a copy of a slice from a DataFrame.\n",
      "Try using .loc[row_indexer,col_indexer] = value instead\n",
      "\n",
      "See the caveats in the documentation: https://pandas.pydata.org/pandas-docs/stable/user_guide/indexing.html#returning-a-view-versus-a-copy\n",
      "  data[\"text\"] = data[\"text\"].apply(remove_punctuations)\n"
     ]
    }
   ],
   "source": [
    "def remove_punctuations(text):\n",
    "    for punctuation in string.punctuation:\n",
    "        text = text.replace(punctuation, '')\n",
    "    return text\n",
    "\n",
    "data[\"text\"] = data[\"text\"].apply(remove_punctuations)"
   ]
  },
  {
   "cell_type": "code",
   "execution_count": 26,
   "id": "8481c476-374a-437c-b7ab-cc5f2e74162a",
   "metadata": {},
   "outputs": [
    {
     "data": {
      "text/plain": [
       "0    i grew up b 1965 watching and loving the thund...\n",
       "1    when i put this movie in my dvd player and sat...\n",
       "2    why do people who do not know what a particula...\n",
       "3    even though i have great interest in biblical ...\n",
       "4    im a die hard dads army fan and nothing will e...\n",
       "Name: text, dtype: object"
      ]
     },
     "execution_count": 26,
     "metadata": {},
     "output_type": "execute_result"
    }
   ],
   "source": [
    "data[\"text\"].head(5)"
   ]
  },
  {
   "cell_type": "code",
   "execution_count": 27,
   "id": "c73d9ae4-9ed4-4728-a09b-29c4b03d0e37",
   "metadata": {},
   "outputs": [],
   "source": [
    "#remove numbers"
   ]
  },
  {
   "cell_type": "code",
   "execution_count": 28,
   "id": "b6634578-6274-4293-ad56-3c6ea8095d91",
   "metadata": {},
   "outputs": [
    {
     "name": "stderr",
     "output_type": "stream",
     "text": [
      "C:\\Users\\anuja\\AppData\\Local\\Temp\\ipykernel_15604\\549046709.py:1: SettingWithCopyWarning: \n",
      "A value is trying to be set on a copy of a slice from a DataFrame.\n",
      "Try using .loc[row_indexer,col_indexer] = value instead\n",
      "\n",
      "See the caveats in the documentation: https://pandas.pydata.org/pandas-docs/stable/user_guide/indexing.html#returning-a-view-versus-a-copy\n",
      "  data[\"text\"] = data['text'].str.replace(r'\\d+', '', regex=True)\n"
     ]
    }
   ],
   "source": [
    "data[\"text\"] = data['text'].str.replace(r'\\d+', '', regex=True)"
   ]
  },
  {
   "cell_type": "code",
   "execution_count": 29,
   "id": "ab8c5034-155c-4932-8d84-4f6110b5496e",
   "metadata": {},
   "outputs": [
    {
     "data": {
      "text/plain": [
       "0    i grew up b  watching and loving the thunderbi...\n",
       "1    when i put this movie in my dvd player and sat...\n",
       "2    why do people who do not know what a particula...\n",
       "3    even though i have great interest in biblical ...\n",
       "4    im a die hard dads army fan and nothing will e...\n",
       "Name: text, dtype: object"
      ]
     },
     "execution_count": 29,
     "metadata": {},
     "output_type": "execute_result"
    }
   ],
   "source": [
    "data[\"text\"].head(5)"
   ]
  },
  {
   "cell_type": "code",
   "execution_count": 30,
   "id": "426c6167-ee2f-498b-8aab-24de196b2e9f",
   "metadata": {},
   "outputs": [],
   "source": [
    "#remove stop words"
   ]
  },
  {
   "cell_type": "code",
   "execution_count": 42,
   "id": "e2680700-4cf9-4e7e-8c55-edb4ec6520c9",
   "metadata": {},
   "outputs": [
    {
     "name": "stdout",
     "output_type": "stream",
     "text": [
      "Collecting nltk\n",
      "  Using cached nltk-3.9.1-py3-none-any.whl.metadata (2.9 kB)\n",
      "Collecting click (from nltk)\n",
      "  Using cached click-8.1.7-py3-none-any.whl.metadata (3.0 kB)\n",
      "Collecting joblib (from nltk)\n",
      "  Using cached joblib-1.4.2-py3-none-any.whl.metadata (5.4 kB)\n",
      "Collecting regex>=2021.8.3 (from nltk)\n",
      "  Using cached regex-2024.9.11-cp312-cp312-win_amd64.whl.metadata (41 kB)\n",
      "Requirement already satisfied: tqdm in f:\\sliit\\y3s1\\irwa\\project_my_part\\text_summarization_project\\env\\lib\\site-packages (from nltk) (4.66.5)\n",
      "Requirement already satisfied: colorama in f:\\sliit\\y3s1\\irwa\\project_my_part\\text_summarization_project\\env\\lib\\site-packages (from click->nltk) (0.4.6)\n",
      "Using cached nltk-3.9.1-py3-none-any.whl (1.5 MB)\n",
      "Using cached regex-2024.9.11-cp312-cp312-win_amd64.whl (273 kB)\n",
      "Using cached click-8.1.7-py3-none-any.whl (97 kB)\n",
      "Using cached joblib-1.4.2-py3-none-any.whl (301 kB)\n",
      "Installing collected packages: regex, joblib, click, nltk\n",
      "Successfully installed click-8.1.7 joblib-1.4.2 nltk-3.9.1 regex-2024.9.11\n"
     ]
    }
   ],
   "source": [
    "!pip install nltk"
   ]
  },
  {
   "cell_type": "code",
   "execution_count": 31,
   "id": "64e73e24-6006-4812-9441-ac251903bf74",
   "metadata": {},
   "outputs": [],
   "source": [
    "import nltk"
   ]
  },
  {
   "cell_type": "code",
   "execution_count": 32,
   "id": "d5c72ec0-d8d3-4f2e-b87f-37ecd77cc282",
   "metadata": {},
   "outputs": [
    {
     "name": "stderr",
     "output_type": "stream",
     "text": [
      "[nltk_data] Downloading package stopwords to ../static/model...\n",
      "[nltk_data]   Unzipping corpora\\stopwords.zip.\n"
     ]
    },
    {
     "data": {
      "text/plain": [
       "True"
      ]
     },
     "execution_count": 32,
     "metadata": {},
     "output_type": "execute_result"
    }
   ],
   "source": [
    "nltk.download('stopwords', download_dir='../static/model')"
   ]
  },
  {
   "cell_type": "code",
   "execution_count": 33,
   "id": "a0dc3f68-d43a-4eb3-9746-81dfab71e761",
   "metadata": {},
   "outputs": [],
   "source": [
    "with open('../static/model/corpora/stopwords/english', 'r') as file:\n",
    "    sw = file.read().splitlines()"
   ]
  },
  {
   "cell_type": "code",
   "execution_count": 34,
   "id": "d5406187-eeab-443a-bea3-052fd5b375d4",
   "metadata": {},
   "outputs": [
    {
     "data": {
      "text/plain": [
       "['i',\n",
       " 'me',\n",
       " 'my',\n",
       " 'myself',\n",
       " 'we',\n",
       " 'our',\n",
       " 'ours',\n",
       " 'ourselves',\n",
       " 'you',\n",
       " \"you're\",\n",
       " \"you've\",\n",
       " \"you'll\",\n",
       " \"you'd\",\n",
       " 'your',\n",
       " 'yours',\n",
       " 'yourself',\n",
       " 'yourselves',\n",
       " 'he',\n",
       " 'him',\n",
       " 'his',\n",
       " 'himself',\n",
       " 'she',\n",
       " \"she's\",\n",
       " 'her',\n",
       " 'hers',\n",
       " 'herself',\n",
       " 'it',\n",
       " \"it's\",\n",
       " 'its',\n",
       " 'itself',\n",
       " 'they',\n",
       " 'them',\n",
       " 'their',\n",
       " 'theirs',\n",
       " 'themselves',\n",
       " 'what',\n",
       " 'which',\n",
       " 'who',\n",
       " 'whom',\n",
       " 'this',\n",
       " 'that',\n",
       " \"that'll\",\n",
       " 'these',\n",
       " 'those',\n",
       " 'am',\n",
       " 'is',\n",
       " 'are',\n",
       " 'was',\n",
       " 'were',\n",
       " 'be',\n",
       " 'been',\n",
       " 'being',\n",
       " 'have',\n",
       " 'has',\n",
       " 'had',\n",
       " 'having',\n",
       " 'do',\n",
       " 'does',\n",
       " 'did',\n",
       " 'doing',\n",
       " 'a',\n",
       " 'an',\n",
       " 'the',\n",
       " 'and',\n",
       " 'but',\n",
       " 'if',\n",
       " 'or',\n",
       " 'because',\n",
       " 'as',\n",
       " 'until',\n",
       " 'while',\n",
       " 'of',\n",
       " 'at',\n",
       " 'by',\n",
       " 'for',\n",
       " 'with',\n",
       " 'about',\n",
       " 'against',\n",
       " 'between',\n",
       " 'into',\n",
       " 'through',\n",
       " 'during',\n",
       " 'before',\n",
       " 'after',\n",
       " 'above',\n",
       " 'below',\n",
       " 'to',\n",
       " 'from',\n",
       " 'up',\n",
       " 'down',\n",
       " 'in',\n",
       " 'out',\n",
       " 'on',\n",
       " 'off',\n",
       " 'over',\n",
       " 'under',\n",
       " 'again',\n",
       " 'further',\n",
       " 'then',\n",
       " 'once',\n",
       " 'here',\n",
       " 'there',\n",
       " 'when',\n",
       " 'where',\n",
       " 'why',\n",
       " 'how',\n",
       " 'all',\n",
       " 'any',\n",
       " 'both',\n",
       " 'each',\n",
       " 'few',\n",
       " 'more',\n",
       " 'most',\n",
       " 'other',\n",
       " 'some',\n",
       " 'such',\n",
       " 'no',\n",
       " 'nor',\n",
       " 'not',\n",
       " 'only',\n",
       " 'own',\n",
       " 'same',\n",
       " 'so',\n",
       " 'than',\n",
       " 'too',\n",
       " 'very',\n",
       " 's',\n",
       " 't',\n",
       " 'can',\n",
       " 'will',\n",
       " 'just',\n",
       " 'don',\n",
       " \"don't\",\n",
       " 'should',\n",
       " \"should've\",\n",
       " 'now',\n",
       " 'd',\n",
       " 'll',\n",
       " 'm',\n",
       " 'o',\n",
       " 're',\n",
       " 've',\n",
       " 'y',\n",
       " 'ain',\n",
       " 'aren',\n",
       " \"aren't\",\n",
       " 'couldn',\n",
       " \"couldn't\",\n",
       " 'didn',\n",
       " \"didn't\",\n",
       " 'doesn',\n",
       " \"doesn't\",\n",
       " 'hadn',\n",
       " \"hadn't\",\n",
       " 'hasn',\n",
       " \"hasn't\",\n",
       " 'haven',\n",
       " \"haven't\",\n",
       " 'isn',\n",
       " \"isn't\",\n",
       " 'ma',\n",
       " 'mightn',\n",
       " \"mightn't\",\n",
       " 'mustn',\n",
       " \"mustn't\",\n",
       " 'needn',\n",
       " \"needn't\",\n",
       " 'shan',\n",
       " \"shan't\",\n",
       " 'shouldn',\n",
       " \"shouldn't\",\n",
       " 'wasn',\n",
       " \"wasn't\",\n",
       " 'weren',\n",
       " \"weren't\",\n",
       " 'won',\n",
       " \"won't\",\n",
       " 'wouldn',\n",
       " \"wouldn't\"]"
      ]
     },
     "execution_count": 34,
     "metadata": {},
     "output_type": "execute_result"
    }
   ],
   "source": [
    "sw"
   ]
  },
  {
   "cell_type": "code",
   "execution_count": 35,
   "id": "40b804a8-885e-4408-94b6-06f82605a4ba",
   "metadata": {},
   "outputs": [
    {
     "name": "stderr",
     "output_type": "stream",
     "text": [
      "C:\\Users\\anuja\\AppData\\Local\\Temp\\ipykernel_15604\\3233826974.py:1: SettingWithCopyWarning: \n",
      "A value is trying to be set on a copy of a slice from a DataFrame.\n",
      "Try using .loc[row_indexer,col_indexer] = value instead\n",
      "\n",
      "See the caveats in the documentation: https://pandas.pydata.org/pandas-docs/stable/user_guide/indexing.html#returning-a-view-versus-a-copy\n",
      "  data[\"text\"] = data[\"text\"].apply(lambda x: \" \".join(x for x in x.split() if x not in sw))\n"
     ]
    }
   ],
   "source": [
    "data[\"text\"] = data[\"text\"].apply(lambda x: \" \".join(x for x in x.split() if x not in sw))"
   ]
  },
  {
   "cell_type": "code",
   "execution_count": 36,
   "id": "a750d6aa-1bc4-4fdb-9421-4e52308313e1",
   "metadata": {},
   "outputs": [
    {
     "data": {
      "text/plain": [
       "0    grew b watching loving thunderbirds mates scho...\n",
       "1    put movie dvd player sat coke chips expectatio...\n",
       "2    people know particular time past like feel nee...\n",
       "3    even though great interest biblical movies bor...\n",
       "4    im die hard dads army fan nothing ever change ...\n",
       "Name: text, dtype: object"
      ]
     },
     "execution_count": 36,
     "metadata": {},
     "output_type": "execute_result"
    }
   ],
   "source": [
    "data[\"text\"].head()"
   ]
  },
  {
   "cell_type": "code",
   "execution_count": 37,
   "id": "391d32ca-b804-4b53-a289-bf826e960f24",
   "metadata": {},
   "outputs": [],
   "source": [
    "#stemming"
   ]
  },
  {
   "cell_type": "code",
   "execution_count": 38,
   "id": "65dfdcf5-87c9-4f0e-9d97-31476e8e2e06",
   "metadata": {},
   "outputs": [],
   "source": [
    "from nltk.stem import PorterStemmer\n",
    "ps = PorterStemmer()"
   ]
  },
  {
   "cell_type": "code",
   "execution_count": 39,
   "id": "c4cc5123-ab9f-42df-ae12-9d6dd5ecd41c",
   "metadata": {},
   "outputs": [
    {
     "name": "stderr",
     "output_type": "stream",
     "text": [
      "C:\\Users\\anuja\\AppData\\Local\\Temp\\ipykernel_15604\\476065267.py:1: SettingWithCopyWarning: \n",
      "A value is trying to be set on a copy of a slice from a DataFrame.\n",
      "Try using .loc[row_indexer,col_indexer] = value instead\n",
      "\n",
      "See the caveats in the documentation: https://pandas.pydata.org/pandas-docs/stable/user_guide/indexing.html#returning-a-view-versus-a-copy\n",
      "  data[\"text\"] = data[\"text\"].apply(lambda x: \" \".join(ps.stem(x) for x in x.split()))\n"
     ]
    }
   ],
   "source": [
    "data[\"text\"] = data[\"text\"].apply(lambda x: \" \".join(ps.stem(x) for x in x.split()))"
   ]
  },
  {
   "cell_type": "code",
   "execution_count": 40,
   "id": "94c17e1b-cff0-492a-9cb9-8bbf75d14ac3",
   "metadata": {},
   "outputs": [
    {
     "data": {
      "text/plain": [
       "0    grew b watch love thunderbird mate school watc...\n",
       "1    put movi dvd player sat coke chip expect hope ...\n",
       "2    peopl know particular time past like feel need...\n",
       "3    even though great interest biblic movi bore de...\n",
       "4    im die hard dad armi fan noth ever chang got t...\n",
       "Name: text, dtype: object"
      ]
     },
     "execution_count": 40,
     "metadata": {},
     "output_type": "execute_result"
    }
   ],
   "source": [
    "data[\"text\"].head()"
   ]
  },
  {
   "cell_type": "code",
   "execution_count": 41,
   "id": "de97ec32-4b23-4d99-9606-b6a3e55dfd29",
   "metadata": {},
   "outputs": [],
   "source": [
    "#building vocabulary"
   ]
  },
  {
   "cell_type": "code",
   "execution_count": 42,
   "id": "9c072c26-dd89-433e-a3a4-ca3b2a045867",
   "metadata": {},
   "outputs": [],
   "source": [
    "from collections import Counter\n",
    "vocab = Counter()"
   ]
  },
  {
   "cell_type": "code",
   "execution_count": 43,
   "id": "e50daba3-6b3a-4c4b-b371-b7f41064a34b",
   "metadata": {},
   "outputs": [
    {
     "data": {
      "text/plain": [
       "Counter()"
      ]
     },
     "execution_count": 43,
     "metadata": {},
     "output_type": "execute_result"
    }
   ],
   "source": [
    "vocab"
   ]
  },
  {
   "cell_type": "code",
   "execution_count": 44,
   "id": "cf4418dd-9e41-47cd-a71e-4abf200b6980",
   "metadata": {},
   "outputs": [],
   "source": [
    "for sentence in data['text']:\n",
    "    vocab.update(sentence.split())"
   ]
  },
  {
   "cell_type": "code",
   "execution_count": 45,
   "id": "332da775-a25e-46f4-8803-cf6289601530",
   "metadata": {},
   "outputs": [
    {
     "data": {
      "text/plain": [
       "Counter({'br': 91358,\n",
       "         'movi': 78855,\n",
       "         'film': 73237,\n",
       "         'one': 42427,\n",
       "         'like': 35087,\n",
       "         'time': 23717,\n",
       "         'good': 23187,\n",
       "         'make': 22840,\n",
       "         'get': 22152,\n",
       "         'see': 22021,\n",
       "         'charact': 21999,\n",
       "         'watch': 21655,\n",
       "         'even': 19949,\n",
       "         'stori': 19294,\n",
       "         'would': 19079,\n",
       "         'realli': 18332,\n",
       "         'scene': 16430,\n",
       "         'look': 15446,\n",
       "         'show': 15367,\n",
       "         'well': 15358,\n",
       "         'much': 15050,\n",
       "         'end': 14498,\n",
       "         'peopl': 14355,\n",
       "         'also': 14343,\n",
       "         'great': 14330,\n",
       "         'love': 14227,\n",
       "         'go': 14161,\n",
       "         'bad': 14076,\n",
       "         'think': 13763,\n",
       "         'play': 13541,\n",
       "         'first': 13527,\n",
       "         'dont': 13428,\n",
       "         'act': 13392,\n",
       "         'way': 13156,\n",
       "         'thing': 12882,\n",
       "         'made': 12125,\n",
       "         'could': 12064,\n",
       "         'know': 11863,\n",
       "         'say': 11711,\n",
       "         'seem': 11308,\n",
       "         'mani': 10604,\n",
       "         'work': 10483,\n",
       "         'seen': 10477,\n",
       "         'plot': 10447,\n",
       "         'actor': 10391,\n",
       "         'want': 10387,\n",
       "         'two': 10336,\n",
       "         'come': 10308,\n",
       "         'take': 10266,\n",
       "         'never': 10256,\n",
       "         'littl': 9900,\n",
       "         'tri': 9886,\n",
       "         'best': 9827,\n",
       "         'year': 9753,\n",
       "         'life': 9393,\n",
       "         'ever': 9267,\n",
       "         'give': 9067,\n",
       "         'man': 8816,\n",
       "         'better': 8812,\n",
       "         'still': 8645,\n",
       "         'find': 8491,\n",
       "         'perform': 8258,\n",
       "         'feel': 8085,\n",
       "         'part': 8046,\n",
       "         'use': 8004,\n",
       "         'actual': 7989,\n",
       "         'someth': 7866,\n",
       "         'lot': 7652,\n",
       "         'back': 7594,\n",
       "         'im': 7492,\n",
       "         'interest': 7402,\n",
       "         'director': 7319,\n",
       "         'real': 7232,\n",
       "         'guy': 7122,\n",
       "         'doesnt': 7115,\n",
       "         'didnt': 7007,\n",
       "         'though': 6725,\n",
       "         'live': 6705,\n",
       "         'cast': 6684,\n",
       "         'anoth': 6671,\n",
       "         'music': 6652,\n",
       "         'enjoy': 6597,\n",
       "         'noth': 6534,\n",
       "         'funni': 6527,\n",
       "         'role': 6428,\n",
       "         'new': 6359,\n",
       "         'start': 6354,\n",
       "         'everi': 6323,\n",
       "         'old': 6253,\n",
       "         'us': 6113,\n",
       "         'star': 6111,\n",
       "         'point': 6093,\n",
       "         'believ': 6020,\n",
       "         'set': 6012,\n",
       "         'quit': 5982,\n",
       "         'girl': 5981,\n",
       "         'origin': 5938,\n",
       "         'cant': 5931,\n",
       "         'that': 5864,\n",
       "         'turn': 5853,\n",
       "         'thought': 5811,\n",
       "         'kill': 5800,\n",
       "         'world': 5791,\n",
       "         'fact': 5785,\n",
       "         'pretti': 5754,\n",
       "         'minut': 5680,\n",
       "         'day': 5665,\n",
       "         'direct': 5622,\n",
       "         'around': 5589,\n",
       "         'young': 5587,\n",
       "         'horror': 5574,\n",
       "         'happen': 5539,\n",
       "         'wonder': 5537,\n",
       "         'effect': 5537,\n",
       "         'got': 5493,\n",
       "         'comedi': 5448,\n",
       "         'howev': 5409,\n",
       "         'enough': 5403,\n",
       "         'right': 5356,\n",
       "         'big': 5330,\n",
       "         'ive': 5274,\n",
       "         'action': 5239,\n",
       "         'fan': 5213,\n",
       "         'may': 5211,\n",
       "         'bit': 5164,\n",
       "         'need': 5146,\n",
       "         'long': 5132,\n",
       "         'friend': 5090,\n",
       "         'without': 5058,\n",
       "         'person': 5046,\n",
       "         'alway': 5023,\n",
       "         'isnt': 5020,\n",
       "         'line': 5020,\n",
       "         'saw': 5007,\n",
       "         'script': 5004,\n",
       "         'beauti': 4982,\n",
       "         'almost': 4938,\n",
       "         'becom': 4934,\n",
       "         'seri': 4925,\n",
       "         'there': 4907,\n",
       "         'last': 4905,\n",
       "         'final': 4891,\n",
       "         'put': 4889,\n",
       "         'famili': 4865,\n",
       "         'tell': 4859,\n",
       "         'must': 4855,\n",
       "         'complet': 4850,\n",
       "         'kid': 4848,\n",
       "         'reason': 4815,\n",
       "         'least': 4797,\n",
       "         'whole': 4795,\n",
       "         'sure': 4731,\n",
       "         'done': 4714,\n",
       "         'expect': 4679,\n",
       "         'laugh': 4642,\n",
       "         'kind': 4638,\n",
       "         'he': 4618,\n",
       "         'might': 4585,\n",
       "         'shot': 4575,\n",
       "         'differ': 4562,\n",
       "         'far': 4535,\n",
       "         'mean': 4532,\n",
       "         'probabl': 4524,\n",
       "         'sinc': 4496,\n",
       "         'anyth': 4496,\n",
       "         'name': 4479,\n",
       "         'place': 4478,\n",
       "         'let': 4456,\n",
       "         'begin': 4385,\n",
       "         'help': 4380,\n",
       "         'book': 4289,\n",
       "         'tv': 4282,\n",
       "         'call': 4278,\n",
       "         'entertain': 4263,\n",
       "         'lead': 4261,\n",
       "         'yet': 4260,\n",
       "         'woman': 4230,\n",
       "         'away': 4226,\n",
       "         'anyon': 4219,\n",
       "         'read': 4196,\n",
       "         'worst': 4177,\n",
       "         'rather': 4176,\n",
       "         'moment': 4174,\n",
       "         'found': 4105,\n",
       "         'fun': 4100,\n",
       "         'idea': 4041,\n",
       "         'run': 4038,\n",
       "         'keep': 4038,\n",
       "         'audienc': 4023,\n",
       "         'screen': 4020,\n",
       "         'hope': 3926,\n",
       "         'appear': 3924,\n",
       "         'although': 3913,\n",
       "         'bore': 3905,\n",
       "         'especi': 3889,\n",
       "         'american': 3867,\n",
       "         'cours': 3860,\n",
       "         'episod': 3845,\n",
       "         'dvd': 3814,\n",
       "         'hard': 3768,\n",
       "         'everyth': 3758,\n",
       "         'goe': 3746,\n",
       "         'war': 3731,\n",
       "         'move': 3712,\n",
       "         'sens': 3708,\n",
       "         'main': 3681,\n",
       "         'worth': 3681,\n",
       "         'recommend': 3671,\n",
       "         'mayb': 3660,\n",
       "         'job': 3660,\n",
       "         'someon': 3654,\n",
       "         'wasnt': 3593,\n",
       "         'sound': 3592,\n",
       "         'three': 3561,\n",
       "         'everyon': 3515,\n",
       "         'problem': 3508,\n",
       "         'special': 3503,\n",
       "         'true': 3486,\n",
       "         'leav': 3473,\n",
       "         'nice': 3459,\n",
       "         'follow': 3443,\n",
       "         'excel': 3436,\n",
       "         'money': 3419,\n",
       "         'night': 3413,\n",
       "         'version': 3411,\n",
       "         'wast': 3396,\n",
       "         'product': 3392,\n",
       "         'understand': 3392,\n",
       "         'human': 3389,\n",
       "         'said': 3381,\n",
       "         'togeth': 3376,\n",
       "         'review': 3375,\n",
       "         'second': 3373,\n",
       "         'instead': 3358,\n",
       "         'face': 3350,\n",
       "         'boy': 3337,\n",
       "         'black': 3336,\n",
       "         'talk': 3308,\n",
       "         'later': 3284,\n",
       "         'classic': 3284,\n",
       "         'left': 3278,\n",
       "         'view': 3274,\n",
       "         'miss': 3273,\n",
       "         'care': 3268,\n",
       "         'john': 3265,\n",
       "         'death': 3261,\n",
       "         'anim': 3253,\n",
       "         'mind': 3243,\n",
       "         'open': 3234,\n",
       "         'short': 3203,\n",
       "         'hous': 3202,\n",
       "         'write': 3172,\n",
       "         'rate': 3160,\n",
       "         'total': 3153,\n",
       "         'chang': 3146,\n",
       "         'hour': 3142,\n",
       "         'rememb': 3138,\n",
       "         'involv': 3120,\n",
       "         'surpris': 3119,\n",
       "         'entir': 3097,\n",
       "         'gener': 3089,\n",
       "         'die': 3087,\n",
       "         'viewer': 3078,\n",
       "         'high': 3077,\n",
       "         'fall': 3077,\n",
       "         'wife': 3075,\n",
       "         'murder': 3069,\n",
       "         'includ': 3061,\n",
       "         'simpli': 3058,\n",
       "         'head': 3055,\n",
       "         'coupl': 3050,\n",
       "         'your': 3050,\n",
       "         'piec': 3049,\n",
       "         'els': 3037,\n",
       "         'attempt': 3027,\n",
       "         'fight': 3014,\n",
       "         'usual': 2999,\n",
       "         'poor': 2998,\n",
       "         'father': 2994,\n",
       "         'hand': 2987,\n",
       "         'stupid': 2977,\n",
       "         'eye': 2973,\n",
       "         'terribl': 2972,\n",
       "         'men': 2964,\n",
       "         'along': 2956,\n",
       "         'definit': 2938,\n",
       "         'absolut': 2935,\n",
       "         'home': 2930,\n",
       "         'portray': 2929,\n",
       "         'pictur': 2929,\n",
       "         'suppos': 2920,\n",
       "         'releas': 2900,\n",
       "         'lack': 2885,\n",
       "         'featur': 2880,\n",
       "         'possibl': 2875,\n",
       "         'power': 2865,\n",
       "         'song': 2851,\n",
       "         'given': 2841,\n",
       "         'word': 2825,\n",
       "         'rest': 2806,\n",
       "         'hollywood': 2802,\n",
       "         'disappoint': 2793,\n",
       "         'except': 2791,\n",
       "         'decid': 2789,\n",
       "         'less': 2781,\n",
       "         'half': 2778,\n",
       "         'aw': 2765,\n",
       "         'wrong': 2763,\n",
       "         'women': 2756,\n",
       "         'produc': 2748,\n",
       "         'either': 2745,\n",
       "         'emot': 2744,\n",
       "         'truli': 2743,\n",
       "         'perfect': 2729,\n",
       "         'titl': 2717,\n",
       "         'school': 2716,\n",
       "         'camera': 2711,\n",
       "         'video': 2707,\n",
       "         'dead': 2695,\n",
       "         'save': 2694,\n",
       "         'talent': 2682,\n",
       "         'next': 2671,\n",
       "         'game': 2641,\n",
       "         'full': 2631,\n",
       "         'sever': 2630,\n",
       "         'sort': 2626,\n",
       "         'mr': 2606,\n",
       "         'came': 2600,\n",
       "         'perhap': 2598,\n",
       "         'top': 2590,\n",
       "         'bring': 2585,\n",
       "         'budget': 2577,\n",
       "         'case': 2574,\n",
       "         'sex': 2568,\n",
       "         'creat': 2564,\n",
       "         'comment': 2555,\n",
       "         'humor': 2542,\n",
       "         'dialogu': 2535,\n",
       "         'other': 2517,\n",
       "         'meet': 2509,\n",
       "         'base': 2495,\n",
       "         'guess': 2494,\n",
       "         'small': 2485,\n",
       "         'dark': 2470,\n",
       "         'flick': 2464,\n",
       "         'mother': 2456,\n",
       "         'earli': 2450,\n",
       "         'joke': 2448,\n",
       "         'sequenc': 2441,\n",
       "         'consid': 2430,\n",
       "         'style': 2422,\n",
       "         'often': 2414,\n",
       "         'couldnt': 2405,\n",
       "         'experi': 2386,\n",
       "         'unfortun': 2374,\n",
       "         'forc': 2368,\n",
       "         'mention': 2365,\n",
       "         'went': 2364,\n",
       "         'close': 2362,\n",
       "         'certainli': 2362,\n",
       "         'amaz': 2346,\n",
       "         'exampl': 2332,\n",
       "         'children': 2327,\n",
       "         'manag': 2325,\n",
       "         'felt': 2314,\n",
       "         'ye': 2312,\n",
       "         'ask': 2305,\n",
       "         'lost': 2304,\n",
       "         'horribl': 2299,\n",
       "         'develop': 2287,\n",
       "         'extrem': 2286,\n",
       "         'stop': 2284,\n",
       "         'drama': 2283,\n",
       "         'brother': 2281,\n",
       "         'overal': 2277,\n",
       "         'qualiti': 2275,\n",
       "         'cinema': 2274,\n",
       "         'age': 2274,\n",
       "         'art': 2271,\n",
       "         'killer': 2266,\n",
       "         'imagin': 2264,\n",
       "         'light': 2250,\n",
       "         'basic': 2249,\n",
       "         'actress': 2249,\n",
       "         'impress': 2244,\n",
       "         'car': 2230,\n",
       "         'written': 2227,\n",
       "         'matter': 2223,\n",
       "         'wors': 2221,\n",
       "         'fail': 2215,\n",
       "         'oh': 2196,\n",
       "         'support': 2195,\n",
       "         'side': 2189,\n",
       "         'present': 2188,\n",
       "         'low': 2183,\n",
       "         'cut': 2178,\n",
       "         'writer': 2177,\n",
       "         'learn': 2172,\n",
       "         'son': 2170,\n",
       "         'she': 2161,\n",
       "         'id': 2158,\n",
       "         'favorit': 2152,\n",
       "         'natur': 2152,\n",
       "         'despit': 2128,\n",
       "         'youll': 2120,\n",
       "         'wont': 2118,\n",
       "         'evil': 2114,\n",
       "         'wait': 2113,\n",
       "         'white': 2109,\n",
       "         'hit': 2093,\n",
       "         'heart': 2083,\n",
       "         'alreadi': 2082,\n",
       "         'walk': 2080,\n",
       "         'throughout': 2071,\n",
       "         'michael': 2050,\n",
       "         'filmmak': 2046,\n",
       "         'deal': 2046,\n",
       "         'type': 2046,\n",
       "         'abl': 2043,\n",
       "         'voic': 2029,\n",
       "         'number': 2026,\n",
       "         'hero': 2025,\n",
       "         'fine': 2023,\n",
       "         'question': 2023,\n",
       "         'wish': 2020,\n",
       "         'relationship': 2017,\n",
       "         'realiz': 2010,\n",
       "         'success': 1997,\n",
       "         'danc': 1994,\n",
       "         'theyr': 1993,\n",
       "         'stay': 1989,\n",
       "         'credit': 1988,\n",
       "         'stand': 1987,\n",
       "         'mysteri': 1975,\n",
       "         'sit': 1959,\n",
       "         'hate': 1959,\n",
       "         'group': 1955,\n",
       "         'histori': 1948,\n",
       "         'late': 1945,\n",
       "         'town': 1944,\n",
       "         'daughter': 1937,\n",
       "         'rent': 1929,\n",
       "         'twist': 1929,\n",
       "         'score': 1927,\n",
       "         'robert': 1922,\n",
       "         'past': 1921,\n",
       "         'genr': 1917,\n",
       "         'today': 1913,\n",
       "         'touch': 1911,\n",
       "         'add': 1908,\n",
       "         'sometim': 1906,\n",
       "         'deserv': 1903,\n",
       "         'gave': 1893,\n",
       "         'ill': 1892,\n",
       "         'behind': 1885,\n",
       "         'event': 1884,\n",
       "         'situat': 1884,\n",
       "         'theme': 1882,\n",
       "         'god': 1882,\n",
       "         '\\x96': 1873,\n",
       "         'obvious': 1869,\n",
       "         'incred': 1865,\n",
       "         'appar': 1865,\n",
       "         'citi': 1863,\n",
       "         'pleas': 1849,\n",
       "         'stuff': 1846,\n",
       "         'edit': 1841,\n",
       "         'brilliant': 1836,\n",
       "         'order': 1834,\n",
       "         'annoy': 1829,\n",
       "         'chanc': 1819,\n",
       "         'major': 1818,\n",
       "         'highli': 1818,\n",
       "         'child': 1814,\n",
       "         'return': 1807,\n",
       "         'continu': 1807,\n",
       "         'bodi': 1804,\n",
       "         'soon': 1798,\n",
       "         'hilari': 1792,\n",
       "         'took': 1780,\n",
       "         'level': 1774,\n",
       "         'anyway': 1774,\n",
       "         'decent': 1770,\n",
       "         'heard': 1765,\n",
       "         'figur': 1763,\n",
       "         'hell': 1753,\n",
       "         'thank': 1748,\n",
       "         'speak': 1744,\n",
       "         'comic': 1743,\n",
       "         'ridicul': 1742,\n",
       "         'strang': 1716,\n",
       "         'blood': 1710,\n",
       "         'element': 1686,\n",
       "         'monster': 1680,\n",
       "         'pick': 1673,\n",
       "         'compar': 1671,\n",
       "         'pain': 1671,\n",
       "         'import': 1669,\n",
       "         'wouldnt': 1668,\n",
       "         'critic': 1668,\n",
       "         'recent': 1666,\n",
       "         'sad': 1665,\n",
       "         'hold': 1662,\n",
       "         'caus': 1661,\n",
       "         'etc': 1661,\n",
       "         'countri': 1657,\n",
       "         'predict': 1653,\n",
       "         'huge': 1652,\n",
       "         'cannot': 1652,\n",
       "         'novel': 1647,\n",
       "         'told': 1643,\n",
       "         'polic': 1642,\n",
       "         'slow': 1642,\n",
       "         'david': 1636,\n",
       "         'taken': 1635,\n",
       "         'particularli': 1633,\n",
       "         'local': 1632,\n",
       "         'shoot': 1630,\n",
       "         'documentari': 1629,\n",
       "         'cool': 1626,\n",
       "         'simpl': 1624,\n",
       "         'seriou': 1619,\n",
       "         'visual': 1616,\n",
       "         'career': 1611,\n",
       "         'shown': 1610,\n",
       "         'pace': 1610,\n",
       "         'offer': 1610,\n",
       "         'provid': 1609,\n",
       "         'strong': 1605,\n",
       "         'realiti': 1604,\n",
       "         'opinion': 1601,\n",
       "         'husband': 1601,\n",
       "         'ok': 1601,\n",
       "         'happi': 1601,\n",
       "         'state': 1599,\n",
       "         'deliv': 1595,\n",
       "         'ladi': 1594,\n",
       "         'explain': 1592,\n",
       "         'sister': 1590,\n",
       "         'obviou': 1589,\n",
       "         'effort': 1588,\n",
       "         'exactli': 1588,\n",
       "         'violenc': 1587,\n",
       "         'jame': 1587,\n",
       "         'itbr': 1586,\n",
       "         'allow': 1585,\n",
       "         'suspens': 1582,\n",
       "         'result': 1574,\n",
       "         'femal': 1572,\n",
       "         'zombi': 1568,\n",
       "         'serious': 1566,\n",
       "         'hear': 1557,\n",
       "         'across': 1555,\n",
       "         'break': 1555,\n",
       "         'known': 1553,\n",
       "         'theater': 1548,\n",
       "         'dream': 1546,\n",
       "         'buy': 1542,\n",
       "         'sequel': 1540,\n",
       "         'ago': 1540,\n",
       "         'silli': 1539,\n",
       "         'crap': 1531,\n",
       "         'none': 1530,\n",
       "         'confus': 1529,\n",
       "         'whose': 1529,\n",
       "         'note': 1525,\n",
       "         'check': 1525,\n",
       "         'valu': 1520,\n",
       "         'cinematographi': 1518,\n",
       "         'subject': 1517,\n",
       "         'dog': 1512,\n",
       "         'similar': 1506,\n",
       "         'convinc': 1503,\n",
       "         'room': 1502,\n",
       "         'dialog': 1493,\n",
       "         'rock': 1488,\n",
       "         'shock': 1486,\n",
       "         'alon': 1484,\n",
       "         'english': 1484,\n",
       "         'knew': 1480,\n",
       "         'avoid': 1474,\n",
       "         'polit': 1474,\n",
       "         'gore': 1473,\n",
       "         'team': 1472,\n",
       "         'pull': 1466,\n",
       "         'beyond': 1461,\n",
       "         'mostli': 1455,\n",
       "         'excit': 1451,\n",
       "         'apart': 1450,\n",
       "         'cover': 1450,\n",
       "         'tale': 1449,\n",
       "         'offic': 1447,\n",
       "         'somewhat': 1447,\n",
       "         'cop': 1445,\n",
       "         'carri': 1442,\n",
       "         'typic': 1440,\n",
       "         'pass': 1439,\n",
       "         'parent': 1432,\n",
       "         'form': 1428,\n",
       "         'sexual': 1428,\n",
       "         'unlik': 1425,\n",
       "         'season': 1413,\n",
       "         'attent': 1412,\n",
       "         'escap': 1411,\n",
       "         'messag': 1410,\n",
       "         'jack': 1410,\n",
       "         'due': 1410,\n",
       "         'remind': 1409,\n",
       "         'charm': 1407,\n",
       "         'scari': 1406,\n",
       "         'singl': 1405,\n",
       "         'clearli': 1403,\n",
       "         'four': 1403,\n",
       "         'detail': 1401,\n",
       "         'cheap': 1400,\n",
       "         'king': 1399,\n",
       "         'thriller': 1399,\n",
       "         'build': 1398,\n",
       "         'doubt': 1397,\n",
       "         'upon': 1395,\n",
       "         'train': 1390,\n",
       "         'william': 1390,\n",
       "         'modern': 1388,\n",
       "         'pay': 1386,\n",
       "         'remain': 1380,\n",
       "         'street': 1379,\n",
       "         'televis': 1378,\n",
       "         'toward': 1378,\n",
       "         'prove': 1376,\n",
       "         'what': 1374,\n",
       "         'georg': 1374,\n",
       "         'arent': 1373,\n",
       "         'imag': 1371,\n",
       "         'atmospher': 1368,\n",
       "         'member': 1365,\n",
       "         'villain': 1362,\n",
       "         'sing': 1361,\n",
       "         'marri': 1359,\n",
       "         'win': 1357,\n",
       "         'moviebr': 1357,\n",
       "         'fit': 1353,\n",
       "         'gun': 1349,\n",
       "         'discov': 1341,\n",
       "         'space': 1335,\n",
       "         'british': 1332,\n",
       "         'western': 1331,\n",
       "         'fill': 1329,\n",
       "         'storylin': 1327,\n",
       "         'plan': 1325,\n",
       "         'respect': 1322,\n",
       "         'soundtrack': 1320,\n",
       "         'fire': 1314,\n",
       "         'teenag': 1313,\n",
       "         'ten': 1309,\n",
       "         'whether': 1308,\n",
       "         'class': 1307,\n",
       "         'drug': 1307,\n",
       "         'weak': 1304,\n",
       "         'posit': 1300,\n",
       "         'futur': 1298,\n",
       "         'captur': 1298,\n",
       "         'havent': 1297,\n",
       "         'spend': 1297,\n",
       "         'easili': 1295,\n",
       "         'romant': 1295,\n",
       "         'clear': 1295,\n",
       "         'crime': 1294,\n",
       "         'stage': 1292,\n",
       "         'battl': 1291,\n",
       "         'earth': 1291,\n",
       "         'appreci': 1287,\n",
       "         'intellig': 1286,\n",
       "         'french': 1285,\n",
       "         'artist': 1283,\n",
       "         'notic': 1282,\n",
       "         'date': 1281,\n",
       "         'five': 1279,\n",
       "         'realist': 1277,\n",
       "         'mark': 1277,\n",
       "         'peter': 1277,\n",
       "         'forget': 1275,\n",
       "         'aspect': 1275,\n",
       "         'richard': 1274,\n",
       "         'copi': 1273,\n",
       "         'exist': 1272,\n",
       "         'spoiler': 1271,\n",
       "         'drive': 1269,\n",
       "         'ad': 1267,\n",
       "         'filmbr': 1264,\n",
       "         'bunch': 1263,\n",
       "         'certain': 1262,\n",
       "         'within': 1262,\n",
       "         'chase': 1260,\n",
       "         'dull': 1258,\n",
       "         'attack': 1257,\n",
       "         'alien': 1251,\n",
       "         'soldier': 1251,\n",
       "         'fantast': 1249,\n",
       "         'air': 1246,\n",
       "         'easi': 1244,\n",
       "         'doctor': 1243,\n",
       "         'middl': 1242,\n",
       "         'adult': 1237,\n",
       "         'sorri': 1235,\n",
       "         'master': 1231,\n",
       "         'near': 1231,\n",
       "         'agre': 1229,\n",
       "         'larg': 1226,\n",
       "         'accept': 1223,\n",
       "         'adapt': 1222,\n",
       "         'bill': 1213,\n",
       "         'materi': 1211,\n",
       "         'locat': 1211,\n",
       "         'cartoon': 1209,\n",
       "         'eventu': 1209,\n",
       "         'victim': 1206,\n",
       "         'greatest': 1202,\n",
       "         'contain': 1201,\n",
       "         'truth': 1201,\n",
       "         'box': 1199,\n",
       "         'among': 1198,\n",
       "         'suggest': 1198,\n",
       "         'oscar': 1197,\n",
       "         'lose': 1196,\n",
       "         'inspir': 1196,\n",
       "         'kept': 1191,\n",
       "         'standard': 1189,\n",
       "         'match': 1188,\n",
       "         'nearli': 1183,\n",
       "         'troubl': 1182,\n",
       "         'tom': 1177,\n",
       "         'gone': 1177,\n",
       "         'color': 1176,\n",
       "         'suffer': 1174,\n",
       "         'cri': 1173,\n",
       "         'finish': 1170,\n",
       "         'straight': 1168,\n",
       "         'dr': 1166,\n",
       "         'describ': 1162,\n",
       "         'famou': 1162,\n",
       "         'student': 1159,\n",
       "         'period': 1158,\n",
       "         'suck': 1156,\n",
       "         'reveal': 1153,\n",
       "         'busi': 1153,\n",
       "         'youv': 1152,\n",
       "         'normal': 1152,\n",
       "         'brought': 1151,\n",
       "         'america': 1151,\n",
       "         'rare': 1150,\n",
       "         'particular': 1147,\n",
       "         'ultim': 1143,\n",
       "         'throw': 1142,\n",
       "         'refer': 1141,\n",
       "         'water': 1140,\n",
       "         'somehow': 1138,\n",
       "         'paul': 1138,\n",
       "         'list': 1136,\n",
       "         'mess': 1136,\n",
       "         'red': 1133,\n",
       "         'romanc': 1132,\n",
       "         'pure': 1131,\n",
       "         'premis': 1130,\n",
       "         'th': 1129,\n",
       "         'mix': 1123,\n",
       "         'cultur': 1123,\n",
       "         'attract': 1121,\n",
       "         'issu': 1119,\n",
       "         'admit': 1119,\n",
       "         'prison': 1119,\n",
       "         'dramat': 1119,\n",
       "         'memor': 1118,\n",
       "         'okay': 1115,\n",
       "         'shame': 1115,\n",
       "         'deep': 1110,\n",
       "         'express': 1109,\n",
       "         'fast': 1104,\n",
       "         'bother': 1100,\n",
       "         'lame': 1097,\n",
       "         'scare': 1097,\n",
       "         'who': 1096,\n",
       "         'cheesi': 1095,\n",
       "         'background': 1090,\n",
       "         'depict': 1089,\n",
       "         'treat': 1089,\n",
       "         'warn': 1087,\n",
       "         'relat': 1086,\n",
       "         'vampir': 1086,\n",
       "         'societi': 1085,\n",
       "         'adventur': 1084,\n",
       "         'masterpiec': 1081,\n",
       "         'crew': 1079,\n",
       "         'fear': 1076,\n",
       "         'parti': 1074,\n",
       "         'lie': 1070,\n",
       "         'whatev': 1068,\n",
       "         'odd': 1068,\n",
       "         'german': 1067,\n",
       "         'averag': 1067,\n",
       "         'third': 1067,\n",
       "         'inde': 1067,\n",
       "         'choic': 1066,\n",
       "         'wear': 1064,\n",
       "         'becam': 1061,\n",
       "         'scifi': 1060,\n",
       "         'weird': 1059,\n",
       "         'york': 1059,\n",
       "         'island': 1059,\n",
       "         'male': 1058,\n",
       "         'poorli': 1058,\n",
       "         'la': 1058,\n",
       "         'studio': 1055,\n",
       "         'secret': 1053,\n",
       "         'mad': 1052,\n",
       "         'appeal': 1052,\n",
       "         'remak': 1051,\n",
       "         'difficult': 1050,\n",
       "         'wit': 1045,\n",
       "         'screenplay': 1044,\n",
       "         'gay': 1044,\n",
       "         'de': 1043,\n",
       "         'unless': 1041,\n",
       "         'uniqu': 1040,\n",
       "         'struggl': 1039,\n",
       "         'hot': 1039,\n",
       "         'cliché': 1037,\n",
       "         'babi': 1035,\n",
       "         'imdb': 1035,\n",
       "         'project': 1034,\n",
       "         'fli': 1033,\n",
       "         'footag': 1031,\n",
       "         'otherwis': 1029,\n",
       "         'outsid': 1024,\n",
       "         'stereotyp': 1024,\n",
       "         'lee': 1023,\n",
       "         'potenti': 1021,\n",
       "         'grow': 1020,\n",
       "         'moral': 1020,\n",
       "         'design': 1018,\n",
       "         'magic': 1018,\n",
       "         'accent': 1016,\n",
       "         'insid': 1015,\n",
       "         'superb': 1015,\n",
       "         'scream': 1013,\n",
       "         'creepi': 1011,\n",
       "         'crazi': 1010,\n",
       "         'previou': 1009,\n",
       "         'forward': 1008,\n",
       "         'amus': 1006,\n",
       "         'public': 1005,\n",
       "         'control': 1002,\n",
       "         'dumb': 1002,\n",
       "         'ride': 1001,\n",
       "         'week': 1000,\n",
       "         'connect': 997,\n",
       "         'fiction': 996,\n",
       "         'plu': 996,\n",
       "         'japanes': 995,\n",
       "         'wood': 994,\n",
       "         'joe': 990,\n",
       "         'land': 990,\n",
       "         'badli': 989,\n",
       "         'flaw': 989,\n",
       "         'rich': 989,\n",
       "         'harri': 985,\n",
       "         'costum': 985,\n",
       "         'free': 983,\n",
       "         'perfectli': 981,\n",
       "         'quickli': 981,\n",
       "         'spirit': 980,\n",
       "         'girlfriend': 977,\n",
       "         'amount': 976,\n",
       "         'b': 975,\n",
       "         'steal': 974,\n",
       "         'front': 970,\n",
       "         'compani': 968,\n",
       "         'plenti': 968,\n",
       "         'fairli': 967,\n",
       "         'answer': 967,\n",
       "         'catch': 967,\n",
       "         'lover': 965,\n",
       "         'track': 965,\n",
       "         'univers': 961,\n",
       "         'bare': 960,\n",
       "         'older': 960,\n",
       "         'inform': 956,\n",
       "         'earlier': 954,\n",
       "         'serv': 954,\n",
       "         'equal': 954,\n",
       "         'promis': 954,\n",
       "         'award': 953,\n",
       "         'jump': 953,\n",
       "         'term': 949,\n",
       "         'variou': 948,\n",
       "         'innoc': 948,\n",
       "         'combin': 948,\n",
       "         'stick': 947,\n",
       "         'disney': 947,\n",
       "         'plain': 947,\n",
       "         'band': 947,\n",
       "         'popular': 943,\n",
       "         'surviv': 939,\n",
       "         'listen': 938,\n",
       "         'spent': 938,\n",
       "         'memori': 937,\n",
       "         'fantasi': 934,\n",
       "         'meant': 934,\n",
       "         'travel': 933,\n",
       "         'execut': 933,\n",
       "         'record': 931,\n",
       "         'mari': 930,\n",
       "         'roll': 929,\n",
       "         'dress': 927,\n",
       "         'familiar': 925,\n",
       "         'concept': 923,\n",
       "         'disturb': 919,\n",
       "         'concern': 916,\n",
       "         'tast': 915,\n",
       "         'store': 913,\n",
       "         'italian': 911,\n",
       "         'histor': 909,\n",
       "         'hardli': 908,\n",
       "         'beat': 903,\n",
       "         'abil': 901,\n",
       "         'clever': 900,\n",
       "         'destroy': 898,\n",
       "         'cute': 897,\n",
       "         'channel': 895,\n",
       "         'teen': 895,\n",
       "         'caught': 893,\n",
       "         'brain': 891,\n",
       "         'collect': 891,\n",
       "         'engag': 890,\n",
       "         'creatur': 890,\n",
       "         'park': 890,\n",
       "         'cat': 887,\n",
       "         'intens': 886,\n",
       "         'eat': 886,\n",
       "         'purpos': 886,\n",
       "         'mistak': 883,\n",
       "         'ghost': 881,\n",
       "         'share': 876,\n",
       "         'intent': 874,\n",
       "         'danger': 873,\n",
       "         'sweet': 871,\n",
       "         'camp': 871,\n",
       "         'player': 867,\n",
       "         'soul': 867,\n",
       "         'tension': 866,\n",
       "         'desper': 865,\n",
       "         'social': 864,\n",
       "         'reach': 864,\n",
       "         'ignor': 863,\n",
       "         'fascin': 861,\n",
       "         'kick': 860,\n",
       "         'limit': 859,\n",
       "         'van': 857,\n",
       "         'claim': 854,\n",
       "         'flat': 854,\n",
       "         'liter': 854,\n",
       "         'slightli': 852,\n",
       "         'scott': 851,\n",
       "         'nuditi': 851,\n",
       "         'indian': 850,\n",
       "         'respons': 848,\n",
       "         'search': 847,\n",
       "         'drag': 845,\n",
       "         'blue': 844,\n",
       "         'hole': 844,\n",
       "         'centuri': 844,\n",
       "         'hair': 844,\n",
       "         'languag': 844,\n",
       "         'complex': 843,\n",
       "         'depth': 843,\n",
       "         'sleep': 842,\n",
       "         'door': 841,\n",
       "         'genuin': 839,\n",
       "         'immedi': 839,\n",
       "         'intrigu': 837,\n",
       "         'extra': 837,\n",
       "         'era': 836,\n",
       "         'introduc': 834,\n",
       "         'ruin': 833,\n",
       "         'approach': 829,\n",
       "         'bizarr': 827,\n",
       "         'sadli': 827,\n",
       "         'achiev': 826,\n",
       "         'arriv': 824,\n",
       "         'step': 823,\n",
       "         'violent': 823,\n",
       "         'neither': 822,\n",
       "         'tone': 822,\n",
       "         'fake': 821,\n",
       "         'scienc': 821,\n",
       "         'sick': 820,\n",
       "         'common': 819,\n",
       "         'spot': 818,\n",
       "         'judg': 816,\n",
       "         'tortur': 814,\n",
       "         'skill': 813,\n",
       "         ...})"
      ]
     },
     "execution_count": 45,
     "metadata": {},
     "output_type": "execute_result"
    }
   ],
   "source": [
    "vocab"
   ]
  },
  {
   "cell_type": "code",
   "execution_count": 46,
   "id": "2af9e0e5-2380-43d0-b1c3-a921d2e58fa5",
   "metadata": {},
   "outputs": [
    {
     "data": {
      "text/plain": [
       "121391"
      ]
     },
     "execution_count": 46,
     "metadata": {},
     "output_type": "execute_result"
    }
   ],
   "source": [
    "len(vocab)"
   ]
  },
  {
   "cell_type": "code",
   "execution_count": 47,
   "id": "015a5a91-62dc-46d9-8785-ddb65c8fb911",
   "metadata": {},
   "outputs": [
    {
     "data": {
      "text/plain": [
       "(39723, 2)"
      ]
     },
     "execution_count": 47,
     "metadata": {},
     "output_type": "execute_result"
    }
   ],
   "source": [
    "data.shape"
   ]
  },
  {
   "cell_type": "code",
   "execution_count": 48,
   "id": "486d38b8-e5e3-4926-8112-f5730a512a6c",
   "metadata": {},
   "outputs": [],
   "source": [
    "tokens = [key for key in vocab if vocab[key] > 100]"
   ]
  },
  {
   "cell_type": "code",
   "execution_count": 49,
   "id": "0e58637f-736a-40bb-b20d-75ed99f51944",
   "metadata": {},
   "outputs": [
    {
     "data": {
      "text/plain": [
       "4726"
      ]
     },
     "execution_count": 49,
     "metadata": {},
     "output_type": "execute_result"
    }
   ],
   "source": [
    "len(tokens)"
   ]
  },
  {
   "cell_type": "code",
   "execution_count": 50,
   "id": "33cadc61-3a22-40b5-a824-08a68c3d6ce7",
   "metadata": {},
   "outputs": [],
   "source": [
    "def save_vocabulary(lines, filename):\n",
    "    data = '\\n'.join(lines)\n",
    "    file = open(filename, 'w', encoding=\"utf-8\")\n",
    "    file.write(data)\n",
    "    file.close()\n",
    "\n",
    "save_vocabulary(tokens, '../static/model/vocabulary.txt')"
   ]
  },
  {
   "cell_type": "code",
   "execution_count": 51,
   "id": "415aeb2c-0d5a-4d28-9962-c4e55df8c30c",
   "metadata": {},
   "outputs": [],
   "source": [
    "#divide data set"
   ]
  },
  {
   "cell_type": "code",
   "execution_count": 52,
   "id": "e7c1c6e1-7181-4b14-96d8-c3de7d2c3863",
   "metadata": {},
   "outputs": [],
   "source": [
    "X = data['text']\n",
    "y = data['label']"
   ]
  },
  {
   "cell_type": "code",
   "execution_count": 53,
   "id": "c4ec13dd-e529-4254-a482-09a74e43cc27",
   "metadata": {},
   "outputs": [
    {
     "data": {
      "text/plain": [
       "0        grew b watch love thunderbird mate school watc...\n",
       "1        put movi dvd player sat coke chip expect hope ...\n",
       "2        peopl know particular time past like feel need...\n",
       "3        even though great interest biblic movi bore de...\n",
       "4        im die hard dad armi fan noth ever chang got t...\n",
       "                               ...                        \n",
       "39995    western union someth forgotten classic western...\n",
       "39996    movi incred piec work explor everi nook cranni...\n",
       "39997    wife watch movi plan visit sicili stromboli so...\n",
       "39998    first watch flatlin amaz necessari featur good...\n",
       "39999    would film good gross estim award nomin john t...\n",
       "Name: text, Length: 39723, dtype: object"
      ]
     },
     "execution_count": 53,
     "metadata": {},
     "output_type": "execute_result"
    }
   ],
   "source": [
    "X"
   ]
  },
  {
   "cell_type": "code",
   "execution_count": 54,
   "id": "bc59a6f4-8f8d-4a18-9177-b48c0c7ebec8",
   "metadata": {},
   "outputs": [
    {
     "data": {
      "text/plain": [
       "0        0\n",
       "1        0\n",
       "2        0\n",
       "3        0\n",
       "4        1\n",
       "        ..\n",
       "39995    1\n",
       "39996    1\n",
       "39997    0\n",
       "39998    1\n",
       "39999    1\n",
       "Name: label, Length: 39723, dtype: int64"
      ]
     },
     "execution_count": 54,
     "metadata": {},
     "output_type": "execute_result"
    }
   ],
   "source": [
    "y"
   ]
  },
  {
   "cell_type": "code",
   "execution_count": 55,
   "id": "4c361941-6040-4982-87f3-81e0ee02418d",
   "metadata": {},
   "outputs": [
    {
     "name": "stdout",
     "output_type": "stream",
     "text": [
      "Requirement already satisfied: scikit-learn in f:\\sliit\\y3s1\\irwa\\project_my_part\\text_summarization_project\\env\\lib\\site-packages (1.5.2)\n",
      "Requirement already satisfied: numpy>=1.19.5 in f:\\sliit\\y3s1\\irwa\\project_my_part\\text_summarization_project\\env\\lib\\site-packages (from scikit-learn) (2.1.1)\n",
      "Requirement already satisfied: scipy>=1.6.0 in f:\\sliit\\y3s1\\irwa\\project_my_part\\text_summarization_project\\env\\lib\\site-packages (from scikit-learn) (1.14.1)\n",
      "Requirement already satisfied: joblib>=1.2.0 in f:\\sliit\\y3s1\\irwa\\project_my_part\\text_summarization_project\\env\\lib\\site-packages (from scikit-learn) (1.4.2)\n",
      "Requirement already satisfied: threadpoolctl>=3.1.0 in f:\\sliit\\y3s1\\irwa\\project_my_part\\text_summarization_project\\env\\lib\\site-packages (from scikit-learn) (3.5.0)\n"
     ]
    }
   ],
   "source": [
    "!pip install scikit-learn"
   ]
  },
  {
   "cell_type": "code",
   "execution_count": 56,
   "id": "e707956b-bce2-4bed-b42a-b6e75b91eac6",
   "metadata": {},
   "outputs": [],
   "source": [
    "from sklearn.model_selection import train_test_split\n",
    "X_train, X_test, y_train, y_test = train_test_split(X, y, test_size=0.2)"
   ]
  },
  {
   "cell_type": "code",
   "execution_count": 57,
   "id": "31fa9eb3-f0da-4aef-b18d-50e7e7c7d91e",
   "metadata": {},
   "outputs": [
    {
     "data": {
      "text/plain": [
       "33774    read hole th grade heard movi ecstat cours bus...\n",
       "29342    film shot movi flat rout near lone pine califo...\n",
       "8648     first movi joan crawford clark gabl made toget...\n",
       "17798    fey stori martian attempt colon earth thing mu...\n",
       "37810    surprisingli underr movi realist authent great...\n",
       "                               ...                        \n",
       "21616    movi call gaynigg outer space could go wrong t...\n",
       "35398    william shakespear play classifi comedi traged...\n",
       "22955    worst movi ive ever attempt watch first minut ...\n",
       "26883    final caught starlight last night televis say ...\n",
       "20496    read novel cant tell faith film stori typic my...\n",
       "Name: text, Length: 31778, dtype: object"
      ]
     },
     "execution_count": 57,
     "metadata": {},
     "output_type": "execute_result"
    }
   ],
   "source": [
    "X_train"
   ]
  },
  {
   "cell_type": "code",
   "execution_count": 58,
   "id": "5d87e990-70d3-4af3-a53c-ed43c4c9ba26",
   "metadata": {},
   "outputs": [
    {
     "data": {
      "text/plain": [
       "24773    need movi plain simpl origin although hate som...\n",
       "32634    remak origin assault mind assault carpent true...\n",
       "21428    film special effect time impress easili explai...\n",
       "39085    fan marlen dietrich film anxiou see documentar...\n",
       "5026     irish origin love movi guy hot funni also sinc...\n",
       "                               ...                        \n",
       "5511     ok bought xma ago brother law took see get sho...\n",
       "33920    tigerland fourbr br blake frenchbr br througho...\n",
       "38923    rent one true thing night learn respect famili...\n",
       "19549    act awkward creepi good wayat write dialogu ch...\n",
       "30379    although director triedth film made tynisia mo...\n",
       "Name: text, Length: 7945, dtype: object"
      ]
     },
     "execution_count": 58,
     "metadata": {},
     "output_type": "execute_result"
    }
   ],
   "source": [
    "X_test"
   ]
  },
  {
   "cell_type": "code",
   "execution_count": 59,
   "id": "e559fd3e-3554-4310-88f9-0584345d8013",
   "metadata": {},
   "outputs": [
    {
     "data": {
      "text/plain": [
       "33774    1\n",
       "29342    1\n",
       "8648     1\n",
       "17798    1\n",
       "37810    1\n",
       "        ..\n",
       "21616    0\n",
       "35398    1\n",
       "22955    0\n",
       "26883    0\n",
       "20496    0\n",
       "Name: label, Length: 31778, dtype: int64"
      ]
     },
     "execution_count": 59,
     "metadata": {},
     "output_type": "execute_result"
    }
   ],
   "source": [
    "y_train"
   ]
  },
  {
   "cell_type": "code",
   "execution_count": 60,
   "id": "d0a51040-f3d2-42c2-9385-1cacf23056dd",
   "metadata": {},
   "outputs": [
    {
     "data": {
      "text/plain": [
       "24773    0\n",
       "32634    0\n",
       "21428    1\n",
       "39085    0\n",
       "5026     1\n",
       "        ..\n",
       "5511     0\n",
       "33920    1\n",
       "38923    1\n",
       "19549    0\n",
       "30379    0\n",
       "Name: label, Length: 7945, dtype: int64"
      ]
     },
     "execution_count": 60,
     "metadata": {},
     "output_type": "execute_result"
    }
   ],
   "source": [
    "y_test"
   ]
  },
  {
   "cell_type": "code",
   "execution_count": 61,
   "id": "5d997dff-f94d-43cc-a6fa-458778fe1877",
   "metadata": {},
   "outputs": [],
   "source": [
    "#vectorization"
   ]
  },
  {
   "cell_type": "code",
   "execution_count": 62,
   "id": "38732899-a314-4ab5-a83f-7d38ce0f496e",
   "metadata": {},
   "outputs": [],
   "source": [
    "def vectorizer(ds, vocabulary):\n",
    "    vectorized_lst = []\n",
    "    \n",
    "    for sentence in ds:\n",
    "        sentence_lst = np.zeros(len(vocabulary))\n",
    "        \n",
    "        for i in range(len(vocabulary)):\n",
    "            if vocabulary[i] in sentence.split():\n",
    "                sentence_lst[i] = 1\n",
    "                \n",
    "        vectorized_lst.append(sentence_lst)\n",
    "        \n",
    "    vectorized_lst_new = np.asarray(vectorized_lst, dtype=np.float32)\n",
    "    \n",
    "    return vectorized_lst_new"
   ]
  },
  {
   "cell_type": "code",
   "execution_count": 63,
   "id": "1f4b4f0d-5a47-4171-b21b-90db73a8a062",
   "metadata": {},
   "outputs": [],
   "source": [
    "vectorized_x_train = vectorizer(X_train, tokens)"
   ]
  },
  {
   "cell_type": "code",
   "execution_count": 64,
   "id": "483d119c-abbf-4d7b-97c9-89eb6c6295b2",
   "metadata": {},
   "outputs": [],
   "source": [
    "vectorized_x_test = vectorizer(X_test, tokens)"
   ]
  },
  {
   "cell_type": "code",
   "execution_count": 65,
   "id": "a13f9b5c-6332-4c8a-bff7-284121da9ffc",
   "metadata": {},
   "outputs": [
    {
     "data": {
      "text/plain": [
       "array([[0., 0., 1., ..., 0., 0., 0.],\n",
       "       [1., 0., 1., ..., 0., 0., 0.],\n",
       "       [0., 0., 0., ..., 0., 0., 0.],\n",
       "       ...,\n",
       "       [0., 0., 1., ..., 0., 0., 0.],\n",
       "       [0., 0., 0., ..., 0., 0., 0.],\n",
       "       [0., 0., 0., ..., 0., 0., 1.]], dtype=float32)"
      ]
     },
     "execution_count": 65,
     "metadata": {},
     "output_type": "execute_result"
    }
   ],
   "source": [
    "vectorized_x_train"
   ]
  },
  {
   "cell_type": "code",
   "execution_count": 66,
   "id": "353b976d-423b-4ba2-8815-e9013cc0bdc7",
   "metadata": {},
   "outputs": [
    {
     "data": {
      "text/plain": [
       "33774    1\n",
       "29342    1\n",
       "8648     1\n",
       "17798    1\n",
       "37810    1\n",
       "        ..\n",
       "21616    0\n",
       "35398    1\n",
       "22955    0\n",
       "26883    0\n",
       "20496    0\n",
       "Name: label, Length: 31778, dtype: int64"
      ]
     },
     "execution_count": 66,
     "metadata": {},
     "output_type": "execute_result"
    }
   ],
   "source": [
    "y_train"
   ]
  },
  {
   "cell_type": "code",
   "execution_count": 67,
   "id": "9de9c00f-7068-4b5b-b9c1-b2140cc5ef6a",
   "metadata": {},
   "outputs": [
    {
     "data": {
      "text/plain": [
       "array([[0., 0., 1., ..., 0., 0., 0.],\n",
       "       [0., 0., 0., ..., 0., 0., 0.],\n",
       "       [0., 0., 0., ..., 0., 0., 0.],\n",
       "       ...,\n",
       "       [0., 0., 0., ..., 0., 0., 0.],\n",
       "       [0., 0., 1., ..., 0., 0., 0.],\n",
       "       [0., 0., 0., ..., 0., 0., 0.]], dtype=float32)"
      ]
     },
     "execution_count": 67,
     "metadata": {},
     "output_type": "execute_result"
    }
   ],
   "source": [
    "vectorized_x_test"
   ]
  },
  {
   "cell_type": "code",
   "execution_count": 68,
   "id": "96cc60a6-d2d9-45a6-b1f3-04ed1903a72d",
   "metadata": {},
   "outputs": [
    {
     "data": {
      "text/plain": [
       "24773    0\n",
       "32634    0\n",
       "21428    1\n",
       "39085    0\n",
       "5026     1\n",
       "        ..\n",
       "5511     0\n",
       "33920    1\n",
       "38923    1\n",
       "19549    0\n",
       "30379    0\n",
       "Name: label, Length: 7945, dtype: int64"
      ]
     },
     "execution_count": 68,
     "metadata": {},
     "output_type": "execute_result"
    }
   ],
   "source": [
    "y_test"
   ]
  },
  {
   "cell_type": "code",
   "execution_count": 69,
   "id": "c6e3ffda-e921-47fa-8027-2ae40946923f",
   "metadata": {},
   "outputs": [
    {
     "data": {
      "text/plain": [
       "label\n",
       "1    15929\n",
       "0    15849\n",
       "Name: count, dtype: int64"
      ]
     },
     "execution_count": 69,
     "metadata": {},
     "output_type": "execute_result"
    }
   ],
   "source": [
    "y_train.value_counts()"
   ]
  },
  {
   "cell_type": "code",
   "execution_count": 70,
   "id": "5a704233-66d2-443a-98c2-1633784a03d2",
   "metadata": {},
   "outputs": [
    {
     "data": {
      "image/png": "[encoded data removed]",
      "text/plain": [
       "<Figure size 640x480 with 1 Axes>"
      ]
     },
     "metadata": {},
     "output_type": "display_data"
    }
   ],
   "source": [
    "plt.pie(np.array([y_train.value_counts()[1], y_train.value_counts()[0]]), labels=['Positive', 'Negative'])\n",
    "plt.show()"
   ]
  },
  {
   "cell_type": "code",
   "execution_count": 71,
   "id": "b7d2ad5d-c767-4c09-9e44-96aaa8f67373",
   "metadata": {},
   "outputs": [
    {
     "data": {
      "image/png": "[encoded data removed]",
      "text/plain": [
       "<Figure size 640x480 with 1 Axes>"
      ]
     },
     "metadata": {},
     "output_type": "display_data"
    }
   ],
   "source": [
    "# Define the data and labels\n",
    "labels = ['Positive', 'Negative']\n",
    "sizes = np.array([y_train.value_counts()[1], y_train.value_counts()[0]])\n",
    "\n",
    "# Create the pie chart with percentage display\n",
    "plt.pie(sizes, labels=labels, autopct='%1.1f%%')\n",
    "\n",
    "# Display the plot\n",
    "plt.show()\n"
   ]
  },
  {
   "cell_type": "code",
   "execution_count": 72,
   "id": "0f0270bc-d771-44c0-a654-f4d61e0a5f57",
   "metadata": {},
   "outputs": [],
   "source": [
    "#handle imbalance data set"
   ]
  },
  {
   "cell_type": "code",
   "execution_count": 73,
   "id": "1b86365a-1e56-4dcb-8742-f5c74e75249b",
   "metadata": {},
   "outputs": [
    {
     "name": "stdout",
     "output_type": "stream",
     "text": [
      "Requirement already satisfied: imbalanced-learn in f:\\sliit\\y3s1\\irwa\\project_my_part\\text_summarization_project\\env\\lib\\site-packages (0.12.3)\n",
      "Requirement already satisfied: numpy>=1.17.3 in f:\\sliit\\y3s1\\irwa\\project_my_part\\text_summarization_project\\env\\lib\\site-packages (from imbalanced-learn) (2.1.1)\n",
      "Requirement already satisfied: scipy>=1.5.0 in f:\\sliit\\y3s1\\irwa\\project_my_part\\text_summarization_project\\env\\lib\\site-packages (from imbalanced-learn) (1.14.1)\n",
      "Requirement already satisfied: scikit-learn>=1.0.2 in f:\\sliit\\y3s1\\irwa\\project_my_part\\text_summarization_project\\env\\lib\\site-packages (from imbalanced-learn) (1.5.2)\n",
      "Requirement already satisfied: joblib>=1.1.1 in f:\\sliit\\y3s1\\irwa\\project_my_part\\text_summarization_project\\env\\lib\\site-packages (from imbalanced-learn) (1.4.2)\n",
      "Requirement already satisfied: threadpoolctl>=2.0.0 in f:\\sliit\\y3s1\\irwa\\project_my_part\\text_summarization_project\\env\\lib\\site-packages (from imbalanced-learn) (3.5.0)\n"
     ]
    }
   ],
   "source": [
    "!pip install imbalanced-learn"
   ]
  },
  {
   "cell_type": "code",
   "execution_count": 74,
   "id": "01f76fa8-72d2-40ff-b975-bd831b670980",
   "metadata": {},
   "outputs": [
    {
     "name": "stdout",
     "output_type": "stream",
     "text": [
      "(31858, 4726) (31858,)\n"
     ]
    }
   ],
   "source": [
    "from imblearn.over_sampling import SMOTE\n",
    "smote = SMOTE()\n",
    "vectorized_x_train_smote, y_train_smote = smote.fit_resample(vectorized_x_train, y_train)\n",
    "print(vectorized_x_train_smote.shape, y_train_smote.shape)"
   ]
  },
  {
   "cell_type": "code",
   "execution_count": 75,
   "id": "219606d5-2237-4b32-882f-edaadddfc1dc",
   "metadata": {},
   "outputs": [
    {
     "data": {
      "text/plain": [
       "label\n",
       "1    15929\n",
       "0    15929\n",
       "Name: count, dtype: int64"
      ]
     },
     "execution_count": 75,
     "metadata": {},
     "output_type": "execute_result"
    }
   ],
   "source": [
    "y_train_smote.value_counts()"
   ]
  },
  {
   "cell_type": "code",
   "execution_count": 76,
   "id": "fa8c306d-4757-4a5b-8397-988dc416eacf",
   "metadata": {},
   "outputs": [
    {
     "data": {
      "image/png": "[encoded data removed]",
      "text/plain": [
       "<Figure size 640x480 with 1 Axes>"
      ]
     },
     "metadata": {},
     "output_type": "display_data"
    }
   ],
   "source": [
    "plt.pie(np.array([y_train_smote.value_counts()[1], y_train_smote.value_counts()[0]]), labels=['Positive', 'Negative'])\n",
    "plt.show()"
   ]
  },
  {
   "cell_type": "code",
   "execution_count": 77,
   "id": "a918f811-cf26-46f8-a7d8-d22640bd661f",
   "metadata": {},
   "outputs": [
    {
     "data": {
      "image/png": "[encoded data removed]",
      "text/plain": [
       "<Figure size 640x480 with 1 Axes>"
      ]
     },
     "metadata": {},
     "output_type": "display_data"
    }
   ],
   "source": [
    "# Define the data and labels\n",
    "labels = ['Positive', 'Negative']\n",
    "sizes = np.array([y_train_smote.value_counts()[1], y_train_smote.value_counts()[0]])\n",
    "\n",
    "# Create the pie chart with percentage display\n",
    "plt.pie(sizes, labels=labels, autopct='%1.1f%%')\n",
    "\n",
    "# Display the plot\n",
    "plt.show()\n"
   ]
  },
  {
   "cell_type": "code",
   "execution_count": 78,
   "id": "976e3065-459d-477b-8d23-bcbcc3bce77c",
   "metadata": {},
   "outputs": [
    {
     "data": {
      "text/plain": [
       "array([[0., 0., 1., ..., 0., 0., 0.],\n",
       "       [1., 0., 1., ..., 0., 0., 0.],\n",
       "       [0., 0., 0., ..., 0., 0., 0.],\n",
       "       ...,\n",
       "       [0., 0., 0., ..., 0., 0., 0.],\n",
       "       [0., 0., 0., ..., 0., 0., 0.],\n",
       "       [0., 0., 0., ..., 0., 0., 0.]], dtype=float32)"
      ]
     },
     "execution_count": 78,
     "metadata": {},
     "output_type": "execute_result"
    }
   ],
   "source": [
    "vectorized_x_train_smote"
   ]
  },
  {
   "cell_type": "code",
   "execution_count": 79,
   "id": "4e175541-2219-4de5-820e-a7612911c522",
   "metadata": {},
   "outputs": [
    {
     "data": {
      "text/plain": [
       "0        1\n",
       "1        1\n",
       "2        1\n",
       "3        1\n",
       "4        1\n",
       "        ..\n",
       "31853    0\n",
       "31854    0\n",
       "31855    0\n",
       "31856    0\n",
       "31857    0\n",
       "Name: label, Length: 31858, dtype: int64"
      ]
     },
     "execution_count": 79,
     "metadata": {},
     "output_type": "execute_result"
    }
   ],
   "source": [
    "y_train_smote"
   ]
  },
  {
   "cell_type": "code",
   "execution_count": 80,
   "id": "d709ee7b-ac0b-45d1-b00d-758673aa4f84",
   "metadata": {},
   "outputs": [
    {
     "data": {
      "text/plain": [
       "array([[0., 0., 1., ..., 0., 0., 0.],\n",
       "       [0., 0., 0., ..., 0., 0., 0.],\n",
       "       [0., 0., 0., ..., 0., 0., 0.],\n",
       "       ...,\n",
       "       [0., 0., 0., ..., 0., 0., 0.],\n",
       "       [0., 0., 1., ..., 0., 0., 0.],\n",
       "       [0., 0., 0., ..., 0., 0., 0.]], dtype=float32)"
      ]
     },
     "execution_count": 80,
     "metadata": {},
     "output_type": "execute_result"
    }
   ],
   "source": [
    "vectorized_x_test"
   ]
  },
  {
   "cell_type": "code",
   "execution_count": 81,
   "id": "b7c558db-e668-4fdd-8fed-862a4aa0ce50",
   "metadata": {},
   "outputs": [
    {
     "data": {
      "text/plain": [
       "24773    0\n",
       "32634    0\n",
       "21428    1\n",
       "39085    0\n",
       "5026     1\n",
       "        ..\n",
       "5511     0\n",
       "33920    1\n",
       "38923    1\n",
       "19549    0\n",
       "30379    0\n",
       "Name: label, Length: 7945, dtype: int64"
      ]
     },
     "execution_count": 81,
     "metadata": {},
     "output_type": "execute_result"
    }
   ],
   "source": [
    "y_test"
   ]
  },
  {
   "cell_type": "code",
   "execution_count": 82,
   "id": "817b83cf-7bf9-43b0-923a-cf26a2b80b33",
   "metadata": {},
   "outputs": [],
   "source": [
    "#model trainning and evaluation"
   ]
  },
  {
   "cell_type": "code",
   "execution_count": 83,
   "id": "48a534a6-b8be-48aa-bcb3-1f6865e556ff",
   "metadata": {},
   "outputs": [],
   "source": [
    "from sklearn.linear_model import LogisticRegression\n",
    "from sklearn.naive_bayes import MultinomialNB\n",
    "from sklearn.tree import DecisionTreeClassifier\n",
    "from sklearn.ensemble import RandomForestClassifier\n",
    "from sklearn.svm import SVC"
   ]
  },
  {
   "cell_type": "code",
   "execution_count": 84,
   "id": "eabc9093-5aa8-472b-a922-fe6c028cbe3b",
   "metadata": {},
   "outputs": [],
   "source": [
    "from sklearn.metrics import accuracy_score, f1_score, precision_score, recall_score\n",
    "\n",
    "def training_scores(y_act, y_pred):\n",
    "    acc = round(accuracy_score(y_act, y_pred), 3)\n",
    "    pr = round(precision_score(y_act, y_pred), 3)\n",
    "    rec = round(recall_score(y_act, y_pred), 3)\n",
    "    f1 = round(f1_score(y_act, y_pred), 3)\n",
    "    print(f'Training Scores:\\n\\tAccuracy = {acc}\\n\\tPrecision = {pr}\\n\\tRecall = {rec}\\n\\tF1-Score = {f1}')\n",
    "    \n",
    "def validation_scores(y_act, y_pred):\n",
    "    acc = round(accuracy_score(y_act, y_pred), 3)\n",
    "    pr = round(precision_score(y_act, y_pred), 3)\n",
    "    rec = round(recall_score(y_act, y_pred), 3)\n",
    "    f1 = round(f1_score(y_act, y_pred), 3)\n",
    "    print(f'Testing Scores:\\n\\tAccuracy = {acc}\\n\\tPrecision = {pr}\\n\\tRecall = {rec}\\n\\tF1-Score = {f1}')"
   ]
  },
  {
   "cell_type": "code",
   "execution_count": 85,
   "id": "c16b42d7-18cb-4b26-9191-86e45c9211f2",
   "metadata": {},
   "outputs": [],
   "source": [
    "#logistic regression"
   ]
  },
  {
   "cell_type": "code",
   "execution_count": 86,
   "id": "b7b3a2df-cd33-4676-8a3f-6af931f3faad",
   "metadata": {},
   "outputs": [
    {
     "name": "stdout",
     "output_type": "stream",
     "text": [
      "Training Scores:\n",
      "\tAccuracy = 0.936\n",
      "\tPrecision = 0.933\n",
      "\tRecall = 0.94\n",
      "\tF1-Score = 0.936\n",
      "Testing Scores:\n",
      "\tAccuracy = 0.863\n",
      "\tPrecision = 0.86\n",
      "\tRecall = 0.868\n",
      "\tF1-Score = 0.864\n"
     ]
    }
   ],
   "source": [
    "lr = LogisticRegression()\n",
    "lr.fit(vectorized_x_train_smote, y_train_smote)\n",
    "\n",
    "y_train_pred = lr.predict(vectorized_x_train_smote)\n",
    "\n",
    "y_test_pred = lr.predict(vectorized_x_test)\n",
    "\n",
    "training_scores(y_train_smote, y_train_pred)\n",
    "\n",
    "validation_scores(y_test, y_test_pred)"
   ]
  },
  {
   "cell_type": "code",
   "execution_count": 87,
   "id": "5dd2ed14-4f49-4396-be30-b1ff695b4a50",
   "metadata": {},
   "outputs": [],
   "source": [
    "#naive bayes"
   ]
  },
  {
   "cell_type": "code",
   "execution_count": 88,
   "id": "fa674a2f-f96d-4f58-ae34-8f4345ca6ba9",
   "metadata": {},
   "outputs": [
    {
     "name": "stdout",
     "output_type": "stream",
     "text": [
      "Training Scores:\n",
      "\tAccuracy = 0.854\n",
      "\tPrecision = 0.859\n",
      "\tRecall = 0.845\n",
      "\tF1-Score = 0.852\n",
      "Testing Scores:\n",
      "\tAccuracy = 0.846\n",
      "\tPrecision = 0.848\n",
      "\tRecall = 0.844\n",
      "\tF1-Score = 0.846\n"
     ]
    }
   ],
   "source": [
    "mnb = MultinomialNB()\n",
    "mnb.fit(vectorized_x_train_smote, y_train_smote)\n",
    "\n",
    "y_train_pred = mnb.predict(vectorized_x_train_smote)\n",
    "\n",
    "y_test_pred = mnb.predict(vectorized_x_test)\n",
    "\n",
    "training_scores(y_train_smote, y_train_pred)\n",
    "\n",
    "validation_scores(y_test, y_test_pred)"
   ]
  },
  {
   "cell_type": "code",
   "execution_count": 89,
   "id": "f5972ece-12f1-4a12-b947-5b8f037d90e8",
   "metadata": {},
   "outputs": [],
   "source": [
    "#decision tree"
   ]
  },
  {
   "cell_type": "code",
   "execution_count": 90,
   "id": "eadf9f25-6f88-425a-8a6d-e5b1c2ecf5c2",
   "metadata": {},
   "outputs": [
    {
     "name": "stdout",
     "output_type": "stream",
     "text": [
      "Training Scores:\n",
      "\tAccuracy = 1.0\n",
      "\tPrecision = 1.0\n",
      "\tRecall = 1.0\n",
      "\tF1-Score = 1.0\n",
      "Testing Scores:\n",
      "\tAccuracy = 0.704\n",
      "\tPrecision = 0.705\n",
      "\tRecall = 0.704\n",
      "\tF1-Score = 0.704\n"
     ]
    }
   ],
   "source": [
    "dt = DecisionTreeClassifier()\n",
    "\n",
    "dt.fit(vectorized_x_train_smote, y_train_smote)\n",
    "\n",
    "y_train_pred = dt.predict(vectorized_x_train_smote)\n",
    "\n",
    "y_test_pred = dt.predict(vectorized_x_test)\n",
    "\n",
    "training_scores(y_train_smote, y_train_pred)\n",
    "\n",
    "validation_scores(y_test, y_test_pred)"
   ]
  },
  {
   "cell_type": "code",
   "execution_count": 91,
   "id": "24c3a76d-9dd5-46be-9d38-aa45ba409ecb",
   "metadata": {},
   "outputs": [],
   "source": [
    "#random forest"
   ]
  },
  {
   "cell_type": "code",
   "execution_count": null,
   "id": "09e3427f-ac09-448f-8ae9-b14c09729788",
   "metadata": {},
   "outputs": [],
   "source": [
    "rf = RandomForestClassifier()\n",
    "\n",
    "rf.fit(vectorized_x_train_smote, y_train_smote)\n",
    "\n",
    "y_train_pred = rf.predict(vectorized_x_train_smote)\n",
    "\n",
    "y_test_pred = rf.predict(vectorized_x_test)\n",
    "\n",
    "training_scores(y_train_smote, y_train_pred)\n",
    "\n",
    "validation_scores(y_test, y_test_pred)"
   ]
  },
  {
   "cell_type": "code",
   "execution_count": null,
   "id": "fcfbf473-7cdd-4239-97e0-2811c08b86e0",
   "metadata": {},
   "outputs": [],
   "source": [
    "import pickle\n",
    "\n",
    "with open('../static/model/model.pickle', 'wb') as file:\n",
    "    pickle.dump(lr, file)"
   ]
  },
  {
   "cell_type": "code",
   "execution_count": null,
   "id": "c40de5fe-6ce3-4fb3-bfac-1323a951c82a",
   "metadata": {},
   "outputs": [],
   "source": []
  }
 ],
 "metadata": {
  "kernelspec": {
   "display_name": "Python 3 (ipykernel)",
   "language": "python",
   "name": "python3"
  },
  "language_info": {
   "codemirror_mode": {
    "name": "ipython",
    "version": 3
   },
   "file_extension": ".py",
   "mimetype": "text/x-python",
   "name": "python",
   "nbconvert_exporter": "python",
   "pygments_lexer": "ipython3",
   "version": "3.12.2"
  }
 },
 "nbformat": 4,
 "nbformat_minor": 5
}

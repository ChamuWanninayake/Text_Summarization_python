{
 "cells": [
  {
   "cell_type": "code",
   "execution_count": 1,
   "id": "33a970c3-59f8-4df3-a2f1-3dcb19bb2391",
   "metadata": {},
   "outputs": [],
   "source": [
    "from gensim import corpora\n",
    "from gensim.models import LdaModel\n",
    "from nltk.tokenize import sent_tokenize\n",
    "from nltk.corpus import stopwords\n",
    "from nltk.stem import WordNetLemmatizer\n",
    "from collections import defaultdict\n",
    "import nltk"
   ]
  },
  {
   "cell_type": "code",
   "execution_count": 2,
   "id": "04cc5fd8-058d-41bc-b7f1-52e79b16135a",
   "metadata": {},
   "outputs": [
    {
     "name": "stderr",
     "output_type": "stream",
     "text": [
      "[nltk_data] Downloading package punkt to\n",
      "[nltk_data]     C:\\Users\\Chamuditha\\AppData\\Roaming\\nltk_data...\n",
      "[nltk_data]   Package punkt is already up-to-date!\n",
      "[nltk_data] Downloading package stopwords to\n",
      "[nltk_data]     C:\\Users\\Chamuditha\\AppData\\Roaming\\nltk_data...\n",
      "[nltk_data]   Package stopwords is already up-to-date!\n",
      "[nltk_data] Downloading package wordnet to\n",
      "[nltk_data]     C:\\Users\\Chamuditha\\AppData\\Roaming\\nltk_data...\n",
      "[nltk_data]   Package wordnet is already up-to-date!\n"
     ]
    },
    {
     "data": {
      "text/plain": [
       "True"
      ]
     },
     "execution_count": 2,
     "metadata": {},
     "output_type": "execute_result"
    }
   ],
   "source": [
    "nltk.download('punkt')\n",
    "nltk.download('stopwords')\n",
    "nltk.download('wordnet')"
   ]
  },
  {
   "cell_type": "code",
   "execution_count": 3,
   "id": "ecf15595-e229-474f-b1af-e987895a7e50",
   "metadata": {},
   "outputs": [],
   "source": [
    "\n",
    "# Example document\n",
    "document = \"\"\"Sri Lanka President Anura Kumara Dissanayake has ordered the Secretary to the Ministry of Public Security to conduct a transparent and impartial investigation into the Easter Sunday bombing, a statement from his office said.\n",
    "\n",
    "President Dissanayake appointed former police Deputy Inspector General Ravi Seneviratne, who oversaw Criminal Investigation Department probe in to the Easter Sunday bombing as the Secretary to the Public Security Ministry as one of the first acts after being elected.\n",
    "\n",
    "There is a widespread belief in society that the Easter Sunday attacks may have been carried out to gain political mileage, President Dissanayake was quoted as saying when he visited St Sebastian’s Church in Katuwapitiya Sunday.\n",
    "\n",
    "If hundreds of innocent lives were sacrificed for political purposes, it would be a profound tragedy, he said.\n",
    "\n",
    "If politics in the country has reached such an extreme, the first priority must be to eliminate this dangerous situation.\n",
    "\n",
    "Head of the then CID, Shani Abeyesekera who was conducting the investigation was removed from his post in 2019 when President Gotabaya Rajapaksa was elected and later arrested on what courts said was fabricated evidenced.\n",
    "\n",
    "Related\n",
    "\n",
    "Appeal court slams Sri Lanka police for framing top detective\n",
    "\n",
    "Sri Lanka top detective Shani Abeysekera discharged from fabricated case\n",
    "\n",
    "Abeysekera told court that the military intelligence had misled investigators who were going after the bombers, months before the suicide bombings took place.\n",
    "\n",
    "Meanwhile President Dissanayake had said there were “growing suspicions that the government apparatus at the time may have been involved in the attacks.”\n",
    "\n",
    "“If such allegations are true, he warned, the country would remain in a dangerously unstable and insecure state.\n",
    "\n",
    "“Therefore, it is of utmost importance to uncover the truth behind these events, he emphasized.”\n",
    "\n",
    "The head of the Sri Lanka’s State Intelligence Service Retired Major General Suresh Sallay was replaced this week, bringing the unit back under police control. The SIS had shifted to military control under Gotabaya Rajapaksa’s presidency,\n",
    "\n",
    "President Dissanayake had met survivors of the blasts and their family members at the Church Sunday. (Colombo/Oct05/2024)'\"\"\"\n"
   ]
  },
  {
   "cell_type": "code",
   "execution_count": 4,
   "id": "94ec7172-cb79-4b7f-8351-0440bcfd19e2",
   "metadata": {},
   "outputs": [
    {
     "name": "stderr",
     "output_type": "stream",
     "text": [
      "[nltk_data] Downloading package punkt_tab to\n",
      "[nltk_data]     C:\\Users\\Chamuditha\\AppData\\Roaming\\nltk_data...\n",
      "[nltk_data]   Package punkt_tab is already up-to-date!\n"
     ]
    },
    {
     "data": {
      "text/plain": [
       "True"
      ]
     },
     "execution_count": 4,
     "metadata": {},
     "output_type": "execute_result"
    }
   ],
   "source": [
    "import nltk\n",
    "nltk.download('punkt_tab')"
   ]
  },
  {
   "cell_type": "code",
   "execution_count": 5,
   "id": "334e2c50-0904-4a84-9ddc-a5b4913c04f7",
   "metadata": {},
   "outputs": [],
   "source": [
    "# Tokenize sentences\n",
    "sentences = sent_tokenize(document)"
   ]
  },
  {
   "cell_type": "code",
   "execution_count": 6,
   "id": "d53b238f-a5fe-47b1-8169-4aae9d2c21bf",
   "metadata": {},
   "outputs": [],
   "source": [
    "# Preprocess sentences\n",
    "lemmatizer = WordNetLemmatizer()\n",
    "stop_words = set(stopwords.words('english'))\n",
    "processed_sentences = []\n",
    "\n",
    "for sentence in sentences:\n",
    "    words = sentence.lower().split()\n",
    "    words = [lemmatizer.lemmatize(word) for word in words if word not in stop_words]\n",
    "    processed_sentences.append(words)"
   ]
  },
  {
   "cell_type": "code",
   "execution_count": 7,
   "id": "4e34613a-e75f-4be8-ae04-7066536e6c11",
   "metadata": {},
   "outputs": [],
   "source": [
    "# Create dictionary and corpus\n",
    "dictionary = corpora.Dictionary(processed_sentences)\n",
    "corpus = [dictionary.doc2bow(text) for text in processed_sentences]"
   ]
  },
  {
   "cell_type": "code",
   "execution_count": 8,
   "id": "a3100515-00c5-4d2d-86e2-95749d2f86f7",
   "metadata": {},
   "outputs": [],
   "source": [
    "# Apply LDA\n",
    "lda_model = LdaModel(corpus, num_topics=3, id2word=dictionary, passes=15)\n",
    "topics = lda_model.print_topics()"
   ]
  },
  {
   "cell_type": "code",
   "execution_count": 9,
   "id": "d4b9bbd2-f1d6-4fcd-a960-31eef188d6ff",
   "metadata": {},
   "outputs": [
    {
     "name": "stdout",
     "output_type": "stream",
     "text": [
      "Topic 0: 0.029*\"dissanayake\" + 0.029*\"president\" + 0.020*\"church\" + 0.020*\"sunday.\" + 0.020*\"easter\" + 0.020*\"sunday\" + 0.012*\"first\" + 0.012*\"gotabaya\" + 0.012*\"may\" + 0.012*\"political\"\n",
      "Topic 1: 0.020*\"sri\" + 0.020*\"court\" + 0.014*\"police\" + 0.014*\"country\" + 0.014*\"intelligence\" + 0.014*\"said\" + 0.014*\"head\" + 0.014*\"detective\" + 0.014*\"lanka\" + 0.014*\"shani\"\n",
      "Topic 2: 0.028*\"said.\" + 0.016*\"investigation\" + 0.016*\"security\" + 0.016*\"ministry\" + 0.016*\"public\" + 0.016*\"secretary\" + 0.016*\"dissanayake\" + 0.016*\"lanka\" + 0.016*\"would\" + 0.016*\"sunday\"\n"
     ]
    }
   ],
   "source": [
    "for idx, topic in topics:\n",
    "    print(f\"Topic {idx}: {topic}\")"
   ]
  },
  {
   "cell_type": "code",
   "execution_count": 10,
   "id": "3a7e6e7b-38c4-4d16-ad76-8745ee26f9cb",
   "metadata": {},
   "outputs": [],
   "source": [
    "#check the performance matrix\n",
    "#coherence score\n",
    "from gensim.models import CoherenceModel"
   ]
  },
  {
   "cell_type": "code",
   "execution_count": 11,
   "id": "b956549e-9cf0-4cb8-944f-bd6ac25bbc57",
   "metadata": {},
   "outputs": [],
   "source": [
    "#create the coherence model using the LDA model to compute the coherence score\n",
    "coherence_model_lda = CoherenceModel(model = lda_model, \n",
    "                                     texts = processed_sentences,\n",
    "                                     dictionary = dictionary, \n",
    "                                     coherence = 'c_v') #a coherence measure"
   ]
  },
  {
   "cell_type": "code",
   "execution_count": 12,
   "id": "526d9aa0-6911-4ddb-a096-bc8f1388f00a",
   "metadata": {},
   "outputs": [
    {
     "name": "stdout",
     "output_type": "stream",
     "text": [
      "Coherence score of the LDA model :  0.6579852075620177\n"
     ]
    }
   ],
   "source": [
    "coherence_score = coherence_model_lda.get_coherence()\n",
    "print(\"Coherence score of the LDA model : \", coherence_score)"
   ]
  },
  {
   "cell_type": "code",
   "execution_count": 13,
   "id": "38c08f21-21ea-4323-bada-58c6e4edb0a9",
   "metadata": {},
   "outputs": [],
   "source": [
    "import pickle\n",
    "\n",
    "with open('../static/model/lda_small_DB.pickle', 'wb') as file:\n",
    "    pickle.dump(lda_model, file)"
   ]
  },
  {
   "cell_type": "code",
   "execution_count": 14,
   "id": "ffd8702f-1fb8-4b97-ac87-09d9997b4d50",
   "metadata": {},
   "outputs": [],
   "source": [
    "with open('../static/model/dictionary_small_DB.pickle', 'wb') as file:\n",
    "    pickle.dump(dictionary, file)"
   ]
  },
  {
   "cell_type": "code",
   "execution_count": null,
   "id": "9108502e-f3a6-4a12-a7b8-31053b50dac5",
   "metadata": {},
   "outputs": [],
   "source": []
  }
 ],
 "metadata": {
  "kernelspec": {
   "display_name": "Python 3 (ipykernel)",
   "language": "python",
   "name": "python3"
  },
  "language_info": {
   "codemirror_mode": {
    "name": "ipython",
    "version": 3
   },
   "file_extension": ".py",
   "mimetype": "text/x-python",
   "name": "python",
   "nbconvert_exporter": "python",
   "pygments_lexer": "ipython3",
   "version": "3.12.3"
  }
 },
 "nbformat": 4,
 "nbformat_minor": 5
}

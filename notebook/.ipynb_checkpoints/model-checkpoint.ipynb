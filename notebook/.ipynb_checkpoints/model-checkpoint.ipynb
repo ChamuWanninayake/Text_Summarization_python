{
 "cells": [
  {
   "cell_type": "code",
   "execution_count": 1,
   "metadata": {},
   "outputs": [],
   "source": [
    "import pandas as pd"
   ]
  },
  {
   "cell_type": "code",
   "execution_count": 2,
   "metadata": {},
   "outputs": [
    {
     "data": {
      "text/html": [
       "<div>\n",
       "<style scoped>\n",
       "    .dataframe tbody tr th:only-of-type {\n",
       "        vertical-align: middle;\n",
       "    }\n",
       "\n",
       "    .dataframe tbody tr th {\n",
       "        vertical-align: top;\n",
       "    }\n",
       "\n",
       "    .dataframe thead th {\n",
       "        text-align: right;\n",
       "    }\n",
       "</style>\n",
       "<table border=\"1\" class=\"dataframe\">\n",
       "  <thead>\n",
       "    <tr style=\"text-align: right;\">\n",
       "      <th></th>\n",
       "      <th>title</th>\n",
       "      <th>text</th>\n",
       "      <th>url</th>\n",
       "      <th>authors</th>\n",
       "      <th>timestamp</th>\n",
       "      <th>tags</th>\n",
       "    </tr>\n",
       "  </thead>\n",
       "  <tbody>\n",
       "    <tr>\n",
       "      <th>0</th>\n",
       "      <td>Mental Note Vol. 24</td>\n",
       "      <td>Photo by Josh Riemer on Unsplash\\n\\nMerry Chri...</td>\n",
       "      <td>https://medium.com/invisible-illness/mental-no...</td>\n",
       "      <td>['Ryan Fan']</td>\n",
       "      <td>2020-12-26 03:38:10.479000+00:00</td>\n",
       "      <td>['Mental Health', 'Health', 'Psychology', 'Sci...</td>\n",
       "    </tr>\n",
       "    <tr>\n",
       "      <th>1</th>\n",
       "      <td>Your Brain On Coronavirus</td>\n",
       "      <td>Your Brain On Coronavirus\\n\\nA guide to the cu...</td>\n",
       "      <td>https://medium.com/age-of-awareness/how-the-pa...</td>\n",
       "      <td>['Simon Spichak']</td>\n",
       "      <td>2020-09-23 22:10:17.126000+00:00</td>\n",
       "      <td>['Mental Health', 'Coronavirus', 'Science', 'P...</td>\n",
       "    </tr>\n",
       "    <tr>\n",
       "      <th>2</th>\n",
       "      <td>Mind Your Nose</td>\n",
       "      <td>Mind Your Nose\\n\\nHow smell training can chang...</td>\n",
       "      <td>https://medium.com/neodotlife/mind-your-nose-f...</td>\n",
       "      <td>[]</td>\n",
       "      <td>2020-10-10 20:17:37.132000+00:00</td>\n",
       "      <td>['Biotechnology', 'Neuroscience', 'Brain', 'We...</td>\n",
       "    </tr>\n",
       "    <tr>\n",
       "      <th>3</th>\n",
       "      <td>The 4 Purposes of Dreams</td>\n",
       "      <td>Passionate about the synergy between science a...</td>\n",
       "      <td>https://medium.com/science-for-real/the-4-purp...</td>\n",
       "      <td>['Eshan Samaranayake']</td>\n",
       "      <td>2020-12-21 16:05:19.524000+00:00</td>\n",
       "      <td>['Health', 'Neuroscience', 'Mental Health', 'P...</td>\n",
       "    </tr>\n",
       "    <tr>\n",
       "      <th>4</th>\n",
       "      <td>Surviving a Rod Through the Head</td>\n",
       "      <td>You’ve heard of him, haven’t you? Phineas Gage...</td>\n",
       "      <td>https://medium.com/live-your-life-on-purpose/s...</td>\n",
       "      <td>['Rishav Sinha']</td>\n",
       "      <td>2020-02-26 00:01:01.576000+00:00</td>\n",
       "      <td>['Brain', 'Health', 'Development', 'Psychology...</td>\n",
       "    </tr>\n",
       "  </tbody>\n",
       "</table>\n",
       "</div>"
      ],
      "text/plain": [
       "                              title  \\\n",
       "0               Mental Note Vol. 24   \n",
       "1         Your Brain On Coronavirus   \n",
       "2                    Mind Your Nose   \n",
       "3          The 4 Purposes of Dreams   \n",
       "4  Surviving a Rod Through the Head   \n",
       "\n",
       "                                                text  \\\n",
       "0  Photo by Josh Riemer on Unsplash\\n\\nMerry Chri...   \n",
       "1  Your Brain On Coronavirus\\n\\nA guide to the cu...   \n",
       "2  Mind Your Nose\\n\\nHow smell training can chang...   \n",
       "3  Passionate about the synergy between science a...   \n",
       "4  You’ve heard of him, haven’t you? Phineas Gage...   \n",
       "\n",
       "                                                 url                 authors  \\\n",
       "0  https://medium.com/invisible-illness/mental-no...            ['Ryan Fan']   \n",
       "1  https://medium.com/age-of-awareness/how-the-pa...       ['Simon Spichak']   \n",
       "2  https://medium.com/neodotlife/mind-your-nose-f...                      []   \n",
       "3  https://medium.com/science-for-real/the-4-purp...  ['Eshan Samaranayake']   \n",
       "4  https://medium.com/live-your-life-on-purpose/s...        ['Rishav Sinha']   \n",
       "\n",
       "                          timestamp  \\\n",
       "0  2020-12-26 03:38:10.479000+00:00   \n",
       "1  2020-09-23 22:10:17.126000+00:00   \n",
       "2  2020-10-10 20:17:37.132000+00:00   \n",
       "3  2020-12-21 16:05:19.524000+00:00   \n",
       "4  2020-02-26 00:01:01.576000+00:00   \n",
       "\n",
       "                                                tags  \n",
       "0  ['Mental Health', 'Health', 'Psychology', 'Sci...  \n",
       "1  ['Mental Health', 'Coronavirus', 'Science', 'P...  \n",
       "2  ['Biotechnology', 'Neuroscience', 'Brain', 'We...  \n",
       "3  ['Health', 'Neuroscience', 'Mental Health', 'P...  \n",
       "4  ['Brain', 'Health', 'Development', 'Psychology...  "
      ]
     },
     "execution_count": 2,
     "metadata": {},
     "output_type": "execute_result"
    }
   ],
   "source": [
    "df = pd.read_csv(\"C:\\\\Users\\\\Chamuditha\\\\Downloads\\\\mediumArticles\\\\medium_articles.csv\")\n",
    "df.head()"
   ]
  },
  {
   "cell_type": "code",
   "execution_count": 3,
   "metadata": {},
   "outputs": [],
   "source": [
    "#dropping url and timestamp columns\n",
    "df = df.drop(columns = ['url', 'timestamp'], axis = 1)"
   ]
  },
  {
   "cell_type": "code",
   "execution_count": 4,
   "metadata": {},
   "outputs": [
    {
     "data": {
      "text/html": [
       "<div>\n",
       "<style scoped>\n",
       "    .dataframe tbody tr th:only-of-type {\n",
       "        vertical-align: middle;\n",
       "    }\n",
       "\n",
       "    .dataframe tbody tr th {\n",
       "        vertical-align: top;\n",
       "    }\n",
       "\n",
       "    .dataframe thead th {\n",
       "        text-align: right;\n",
       "    }\n",
       "</style>\n",
       "<table border=\"1\" class=\"dataframe\">\n",
       "  <thead>\n",
       "    <tr style=\"text-align: right;\">\n",
       "      <th></th>\n",
       "      <th>title</th>\n",
       "      <th>text</th>\n",
       "      <th>authors</th>\n",
       "      <th>tags</th>\n",
       "    </tr>\n",
       "  </thead>\n",
       "  <tbody>\n",
       "    <tr>\n",
       "      <th>0</th>\n",
       "      <td>Mental Note Vol. 24</td>\n",
       "      <td>Photo by Josh Riemer on Unsplash\\n\\nMerry Chri...</td>\n",
       "      <td>['Ryan Fan']</td>\n",
       "      <td>['Mental Health', 'Health', 'Psychology', 'Sci...</td>\n",
       "    </tr>\n",
       "    <tr>\n",
       "      <th>1</th>\n",
       "      <td>Your Brain On Coronavirus</td>\n",
       "      <td>Your Brain On Coronavirus\\n\\nA guide to the cu...</td>\n",
       "      <td>['Simon Spichak']</td>\n",
       "      <td>['Mental Health', 'Coronavirus', 'Science', 'P...</td>\n",
       "    </tr>\n",
       "    <tr>\n",
       "      <th>2</th>\n",
       "      <td>Mind Your Nose</td>\n",
       "      <td>Mind Your Nose\\n\\nHow smell training can chang...</td>\n",
       "      <td>[]</td>\n",
       "      <td>['Biotechnology', 'Neuroscience', 'Brain', 'We...</td>\n",
       "    </tr>\n",
       "    <tr>\n",
       "      <th>3</th>\n",
       "      <td>The 4 Purposes of Dreams</td>\n",
       "      <td>Passionate about the synergy between science a...</td>\n",
       "      <td>['Eshan Samaranayake']</td>\n",
       "      <td>['Health', 'Neuroscience', 'Mental Health', 'P...</td>\n",
       "    </tr>\n",
       "    <tr>\n",
       "      <th>4</th>\n",
       "      <td>Surviving a Rod Through the Head</td>\n",
       "      <td>You’ve heard of him, haven’t you? Phineas Gage...</td>\n",
       "      <td>['Rishav Sinha']</td>\n",
       "      <td>['Brain', 'Health', 'Development', 'Psychology...</td>\n",
       "    </tr>\n",
       "  </tbody>\n",
       "</table>\n",
       "</div>"
      ],
      "text/plain": [
       "                              title  \\\n",
       "0               Mental Note Vol. 24   \n",
       "1         Your Brain On Coronavirus   \n",
       "2                    Mind Your Nose   \n",
       "3          The 4 Purposes of Dreams   \n",
       "4  Surviving a Rod Through the Head   \n",
       "\n",
       "                                                text                 authors  \\\n",
       "0  Photo by Josh Riemer on Unsplash\\n\\nMerry Chri...            ['Ryan Fan']   \n",
       "1  Your Brain On Coronavirus\\n\\nA guide to the cu...       ['Simon Spichak']   \n",
       "2  Mind Your Nose\\n\\nHow smell training can chang...                      []   \n",
       "3  Passionate about the synergy between science a...  ['Eshan Samaranayake']   \n",
       "4  You’ve heard of him, haven’t you? Phineas Gage...        ['Rishav Sinha']   \n",
       "\n",
       "                                                tags  \n",
       "0  ['Mental Health', 'Health', 'Psychology', 'Sci...  \n",
       "1  ['Mental Health', 'Coronavirus', 'Science', 'P...  \n",
       "2  ['Biotechnology', 'Neuroscience', 'Brain', 'We...  \n",
       "3  ['Health', 'Neuroscience', 'Mental Health', 'P...  \n",
       "4  ['Brain', 'Health', 'Development', 'Psychology...  "
      ]
     },
     "execution_count": 4,
     "metadata": {},
     "output_type": "execute_result"
    }
   ],
   "source": [
    "df.head()"
   ]
  },
  {
   "cell_type": "code",
   "execution_count": 5,
   "metadata": {},
   "outputs": [],
   "source": [
    "df = df.sample(132368)"
   ]
  },
  {
   "cell_type": "code",
   "execution_count": 6,
   "metadata": {},
   "outputs": [],
   "source": [
    "#Removing punctuations\n",
    "#importing regular expression library\n",
    "import re"
   ]
  },
  {
   "cell_type": "code",
   "execution_count": 7,
   "metadata": {},
   "outputs": [],
   "source": [
    "#creating new field name to store the text after removing punctuations\n",
    "df['clean_text'] = df['text'].map(lambda x: re.sub('[,\\\\.!?’]', '', x))"
   ]
  },
  {
   "cell_type": "code",
   "execution_count": 8,
   "metadata": {},
   "outputs": [
    {
     "data": {
      "text/plain": [
       "111959    Tom Blackout / Unsplash\\n\\nWhat in the world i...\n",
       "53447     By Lauren C Leiman White House Cancer Moonshot...\n",
       "22374     Suppose we have a task that we have to perform...\n",
       "50548     Monetary authority of Singapore (MAS) and Bank...\n",
       "171485    Photo Credit: The Denver Post\\n\\nComing off th...\n",
       "                                ...                        \n",
       "25142     Advanced System Design — Scale TinyURL\\n\\nDisc...\n",
       "117236    The central part of the NET platform is the NE...\n",
       "129568    Writing my own projects is something I like to...\n",
       "119189    Back in 1962 the character Sabrina Spellman fi...\n",
       "31423     The info about Ubiatar airdrop and ICO have be...\n",
       "Name: clean_text, Length: 132368, dtype: object"
      ]
     },
     "execution_count": 8,
     "metadata": {},
     "output_type": "execute_result"
    }
   ],
   "source": [
    "df['clean_text']"
   ]
  },
  {
   "cell_type": "code",
   "execution_count": 9,
   "metadata": {},
   "outputs": [],
   "source": [
    "#removing digits in the clean_text\n",
    "df['clean_text'] = df['clean_text'].apply(lambda x: re.sub('\\\\w*\\\\d\\\\w*', '', x))"
   ]
  },
  {
   "cell_type": "code",
   "execution_count": 10,
   "metadata": {},
   "outputs": [
    {
     "data": {
      "text/plain": [
       "111959    Tom Blackout / Unsplash\\n\\nWhat in the world i...\n",
       "53447     By Lauren C Leiman White House Cancer Moonshot...\n",
       "22374     Suppose we have a task that we have to perform...\n",
       "50548     Monetary authority of Singapore (MAS) and Bank...\n",
       "171485    Photo Credit: The Denver Post\\n\\nComing off th...\n",
       "                                ...                        \n",
       "25142     Advanced System Design — Scale TinyURL\\n\\nDisc...\n",
       "117236    The central part of the NET platform is the NE...\n",
       "129568    Writing my own projects is something I like to...\n",
       "119189    Back in  the character Sabrina Spellman first ...\n",
       "31423     The info about Ubiatar airdrop and ICO have be...\n",
       "Name: clean_text, Length: 132368, dtype: object"
      ]
     },
     "execution_count": 10,
     "metadata": {},
     "output_type": "execute_result"
    }
   ],
   "source": [
    "df['clean_text']"
   ]
  },
  {
   "cell_type": "code",
   "execution_count": 11,
   "metadata": {},
   "outputs": [],
   "source": [
    "#converting all content into lowercase\n",
    "df['clean_text'] = df['clean_text'].map(lambda x: x.lower())"
   ]
  },
  {
   "cell_type": "code",
   "execution_count": 12,
   "metadata": {},
   "outputs": [
    {
     "data": {
      "text/plain": [
       "111959    tom blackout / unsplash\\n\\nwhat in the world i...\n",
       "53447     by lauren c leiman white house cancer moonshot...\n",
       "22374     suppose we have a task that we have to perform...\n",
       "50548     monetary authority of singapore (mas) and bank...\n",
       "171485    photo credit: the denver post\\n\\ncoming off th...\n",
       "                                ...                        \n",
       "25142     advanced system design — scale tinyurl\\n\\ndisc...\n",
       "117236    the central part of the net platform is the ne...\n",
       "129568    writing my own projects is something i like to...\n",
       "119189    back in  the character sabrina spellman first ...\n",
       "31423     the info about ubiatar airdrop and ico have be...\n",
       "Name: clean_text, Length: 132368, dtype: object"
      ]
     },
     "execution_count": 12,
     "metadata": {},
     "output_type": "execute_result"
    }
   ],
   "source": [
    "df['clean_text']"
   ]
  },
  {
   "cell_type": "code",
   "execution_count": 13,
   "metadata": {},
   "outputs": [],
   "source": [
    "#creating the word cloud \n",
    "\n",
    "#importing the wordcloud library\n",
    "from wordcloud import WordCloud\n",
    "\n",
    "def create_word_cloud(target_df, column_name):\n",
    "  print(\"Joining all words into long text;\")\n",
    "\n",
    "  #joins all the values into a single string using a comma\n",
    "  full_text = ','.join(list(target_df[column_name].values)) \n",
    "  \n",
    "  wordcloud = WordCloud(background_color = 'black', \n",
    "                         max_words = 100, \n",
    "                         contour_width = 2,\n",
    "                         contour_color = 'yellow')\n",
    "  \n",
    "  print(\"Creating word cloud;\")\n",
    "  wordcloud.generate(full_text)\n",
    "\n",
    "  return wordcloud\n"
   ]
  },
  {
   "cell_type": "code",
   "execution_count": 13,
   "metadata": {},
   "outputs": [
    {
     "name": "stdout",
     "output_type": "stream",
     "text": [
      "Joining all words into long text;\n",
      "Creating word cloud;\n"
     ]
    },
    {
     "data": {
      "image/jpeg": "[encoded data removed]",
      "image/png": "[encoded data removed]",
      "text/plain": [
       "<PIL.Image.Image image mode=RGB size=400x200>"
      ]
     },
     "execution_count": 13,
     "metadata": {},
     "output_type": "execute_result"
    }
   ],
   "source": [
    "wordcloud = create_word_cloud(df, 'clean_text')\n",
    "wordcloud.to_image()"
   ]
  },
  {
   "cell_type": "code",
   "execution_count": 14,
   "metadata": {},
   "outputs": [],
   "source": [
    "#creating doucument term matrix (DTM)\n",
    "\n",
    "#importing count vectorizer\n",
    "from sklearn.feature_extraction.text import CountVectorizer\n",
    "\n",
    "def create_document_term_matrix(dataframe, column_name):\n",
    "\n",
    "  #CountVectorizer converts text data into a DTM\n",
    "  cv = CountVectorizer(analyzer = 'word') #analysis should be done at the word level\n",
    "  \n",
    "  #tokenizes the text pass it into a sparse matrix (word --> frequency)\n",
    "  data = cv.fit_transform(dataframe[column_name])\n",
    "\n",
    "  df_dtm = pd.DataFrame(data.toarray(),  #converts sparse matrix into a 2D array\n",
    "                        columns = cv.get_feature_names_out()) #assign the words as columns in DTM\n",
    "  df_dtm.index = dataframe.index\n",
    "\n",
    "  return df_dtm"
   ]
  },
  {
   "cell_type": "code",
   "execution_count": 15,
   "metadata": {},
   "outputs": [
    {
     "ename": "MemoryError",
     "evalue": "Unable to allocate 1.09 TiB for an array with shape (192368, 779058) and data type int64",
     "output_type": "error",
     "traceback": [
      "\u001b[1;31m---------------------------------------------------------------------------\u001b[0m",
      "\u001b[1;31mMemoryError\u001b[0m                               Traceback (most recent call last)",
      "Cell \u001b[1;32mIn[15], line 1\u001b[0m\n\u001b[1;32m----> 1\u001b[0m df_dtm \u001b[38;5;241m=\u001b[39m \u001b[43mcreate_document_term_matrix\u001b[49m\u001b[43m(\u001b[49m\u001b[43mdf\u001b[49m\u001b[43m,\u001b[49m\u001b[43m \u001b[49m\u001b[38;5;124;43m'\u001b[39;49m\u001b[38;5;124;43mclean_text\u001b[39;49m\u001b[38;5;124;43m'\u001b[39;49m\u001b[43m)\u001b[49m\n",
      "Cell \u001b[1;32mIn[14], line 14\u001b[0m, in \u001b[0;36mcreate_document_term_matrix\u001b[1;34m(dataframe, column_name)\u001b[0m\n\u001b[0;32m     11\u001b[0m \u001b[38;5;66;03m#tokenizes the text pass it into a sparse matrix (word --> frequency)\u001b[39;00m\n\u001b[0;32m     12\u001b[0m data \u001b[38;5;241m=\u001b[39m cv\u001b[38;5;241m.\u001b[39mfit_transform(dataframe[column_name])\n\u001b[1;32m---> 14\u001b[0m df_dtm \u001b[38;5;241m=\u001b[39m pd\u001b[38;5;241m.\u001b[39mDataFrame(\u001b[43mdata\u001b[49m\u001b[38;5;241;43m.\u001b[39;49m\u001b[43mtoarray\u001b[49m\u001b[43m(\u001b[49m\u001b[43m)\u001b[49m,  \u001b[38;5;66;03m#converts sparse matrix into a 2D array\u001b[39;00m\n\u001b[0;32m     15\u001b[0m                       columns \u001b[38;5;241m=\u001b[39m cv\u001b[38;5;241m.\u001b[39mget_feature_names_out()) \u001b[38;5;66;03m#assign the words as columns in DTM\u001b[39;00m\n\u001b[0;32m     16\u001b[0m df_dtm\u001b[38;5;241m.\u001b[39mindex \u001b[38;5;241m=\u001b[39m dataframe\u001b[38;5;241m.\u001b[39mindex\n\u001b[0;32m     18\u001b[0m \u001b[38;5;28;01mreturn\u001b[39;00m df_dtm\n",
      "File \u001b[1;32m~\\Desktop\\IRWA_project\\env\\Lib\\site-packages\\scipy\\sparse\\_compressed.py:1106\u001b[0m, in \u001b[0;36m_cs_matrix.toarray\u001b[1;34m(self, order, out)\u001b[0m\n\u001b[0;32m   1104\u001b[0m \u001b[38;5;28;01mif\u001b[39;00m out \u001b[38;5;129;01mis\u001b[39;00m \u001b[38;5;28;01mNone\u001b[39;00m \u001b[38;5;129;01mand\u001b[39;00m order \u001b[38;5;129;01mis\u001b[39;00m \u001b[38;5;28;01mNone\u001b[39;00m:\n\u001b[0;32m   1105\u001b[0m     order \u001b[38;5;241m=\u001b[39m \u001b[38;5;28mself\u001b[39m\u001b[38;5;241m.\u001b[39m_swap(\u001b[38;5;124m'\u001b[39m\u001b[38;5;124mcf\u001b[39m\u001b[38;5;124m'\u001b[39m)[\u001b[38;5;241m0\u001b[39m]\n\u001b[1;32m-> 1106\u001b[0m out \u001b[38;5;241m=\u001b[39m \u001b[38;5;28;43mself\u001b[39;49m\u001b[38;5;241;43m.\u001b[39;49m\u001b[43m_process_toarray_args\u001b[49m\u001b[43m(\u001b[49m\u001b[43morder\u001b[49m\u001b[43m,\u001b[49m\u001b[43m \u001b[49m\u001b[43mout\u001b[49m\u001b[43m)\u001b[49m\n\u001b[0;32m   1107\u001b[0m \u001b[38;5;28;01mif\u001b[39;00m \u001b[38;5;129;01mnot\u001b[39;00m (out\u001b[38;5;241m.\u001b[39mflags\u001b[38;5;241m.\u001b[39mc_contiguous \u001b[38;5;129;01mor\u001b[39;00m out\u001b[38;5;241m.\u001b[39mflags\u001b[38;5;241m.\u001b[39mf_contiguous):\n\u001b[0;32m   1108\u001b[0m     \u001b[38;5;28;01mraise\u001b[39;00m \u001b[38;5;167;01mValueError\u001b[39;00m(\u001b[38;5;124m'\u001b[39m\u001b[38;5;124mOutput array must be C or F contiguous\u001b[39m\u001b[38;5;124m'\u001b[39m)\n",
      "File \u001b[1;32m~\\Desktop\\IRWA_project\\env\\Lib\\site-packages\\scipy\\sparse\\_base.py:1327\u001b[0m, in \u001b[0;36m_spbase._process_toarray_args\u001b[1;34m(self, order, out)\u001b[0m\n\u001b[0;32m   1325\u001b[0m     \u001b[38;5;28;01mreturn\u001b[39;00m out\n\u001b[0;32m   1326\u001b[0m \u001b[38;5;28;01melse\u001b[39;00m:\n\u001b[1;32m-> 1327\u001b[0m     \u001b[38;5;28;01mreturn\u001b[39;00m \u001b[43mnp\u001b[49m\u001b[38;5;241;43m.\u001b[39;49m\u001b[43mzeros\u001b[49m\u001b[43m(\u001b[49m\u001b[38;5;28;43mself\u001b[39;49m\u001b[38;5;241;43m.\u001b[39;49m\u001b[43mshape\u001b[49m\u001b[43m,\u001b[49m\u001b[43m \u001b[49m\u001b[43mdtype\u001b[49m\u001b[38;5;241;43m=\u001b[39;49m\u001b[38;5;28;43mself\u001b[39;49m\u001b[38;5;241;43m.\u001b[39;49m\u001b[43mdtype\u001b[49m\u001b[43m,\u001b[49m\u001b[43m \u001b[49m\u001b[43morder\u001b[49m\u001b[38;5;241;43m=\u001b[39;49m\u001b[43morder\u001b[49m\u001b[43m)\u001b[49m\n",
      "\u001b[1;31mMemoryError\u001b[0m: Unable to allocate 1.09 TiB for an array with shape (192368, 779058) and data type int64"
     ]
    }
   ],
   "source": [
    "df_dtm = create_document_term_matrix(df, 'clean_text')"
   ]
  },
  {
   "cell_type": "code",
   "execution_count": 21,
   "metadata": {},
   "outputs": [
    {
     "data": {
      "text/html": [
       "<div>\n",
       "<style scoped>\n",
       "    .dataframe tbody tr th:only-of-type {\n",
       "        vertical-align: middle;\n",
       "    }\n",
       "\n",
       "    .dataframe tbody tr th {\n",
       "        vertical-align: top;\n",
       "    }\n",
       "\n",
       "    .dataframe thead th {\n",
       "        text-align: right;\n",
       "    }\n",
       "</style>\n",
       "<table border=\"1\" class=\"dataframe\">\n",
       "  <thead>\n",
       "    <tr style=\"text-align: right;\">\n",
       "      <th></th>\n",
       "      <th>__</th>\n",
       "      <th>___</th>\n",
       "      <th>____</th>\n",
       "      <th>_____</th>\n",
       "      <th>______</th>\n",
       "      <th>_______</th>\n",
       "      <th>________</th>\n",
       "      <th>_________</th>\n",
       "      <th>__________</th>\n",
       "      <th>___________</th>\n",
       "      <th>...</th>\n",
       "      <th>zzrln</th>\n",
       "      <th>zzs</th>\n",
       "      <th>zzt</th>\n",
       "      <th>zztix</th>\n",
       "      <th>zzu</th>\n",
       "      <th>zzwi</th>\n",
       "      <th>zzx</th>\n",
       "      <th>zzyy</th>\n",
       "      <th>zzz</th>\n",
       "      <th>zzzz</th>\n",
       "    </tr>\n",
       "  </thead>\n",
       "  <tbody>\n",
       "    <tr>\n",
       "      <th>0</th>\n",
       "      <td>0</td>\n",
       "      <td>0</td>\n",
       "      <td>0</td>\n",
       "      <td>0</td>\n",
       "      <td>0</td>\n",
       "      <td>0</td>\n",
       "      <td>0</td>\n",
       "      <td>0</td>\n",
       "      <td>0</td>\n",
       "      <td>0</td>\n",
       "      <td>...</td>\n",
       "      <td>0</td>\n",
       "      <td>0</td>\n",
       "      <td>0</td>\n",
       "      <td>0</td>\n",
       "      <td>0</td>\n",
       "      <td>0</td>\n",
       "      <td>0</td>\n",
       "      <td>0</td>\n",
       "      <td>0</td>\n",
       "      <td>0</td>\n",
       "    </tr>\n",
       "    <tr>\n",
       "      <th>1</th>\n",
       "      <td>0</td>\n",
       "      <td>0</td>\n",
       "      <td>0</td>\n",
       "      <td>0</td>\n",
       "      <td>0</td>\n",
       "      <td>0</td>\n",
       "      <td>0</td>\n",
       "      <td>0</td>\n",
       "      <td>0</td>\n",
       "      <td>0</td>\n",
       "      <td>...</td>\n",
       "      <td>0</td>\n",
       "      <td>0</td>\n",
       "      <td>0</td>\n",
       "      <td>0</td>\n",
       "      <td>0</td>\n",
       "      <td>0</td>\n",
       "      <td>0</td>\n",
       "      <td>0</td>\n",
       "      <td>0</td>\n",
       "      <td>0</td>\n",
       "    </tr>\n",
       "    <tr>\n",
       "      <th>2</th>\n",
       "      <td>1</td>\n",
       "      <td>0</td>\n",
       "      <td>0</td>\n",
       "      <td>0</td>\n",
       "      <td>0</td>\n",
       "      <td>0</td>\n",
       "      <td>0</td>\n",
       "      <td>0</td>\n",
       "      <td>0</td>\n",
       "      <td>0</td>\n",
       "      <td>...</td>\n",
       "      <td>0</td>\n",
       "      <td>0</td>\n",
       "      <td>0</td>\n",
       "      <td>0</td>\n",
       "      <td>0</td>\n",
       "      <td>0</td>\n",
       "      <td>0</td>\n",
       "      <td>0</td>\n",
       "      <td>0</td>\n",
       "      <td>0</td>\n",
       "    </tr>\n",
       "    <tr>\n",
       "      <th>3</th>\n",
       "      <td>3</td>\n",
       "      <td>0</td>\n",
       "      <td>1</td>\n",
       "      <td>0</td>\n",
       "      <td>0</td>\n",
       "      <td>0</td>\n",
       "      <td>0</td>\n",
       "      <td>0</td>\n",
       "      <td>0</td>\n",
       "      <td>0</td>\n",
       "      <td>...</td>\n",
       "      <td>0</td>\n",
       "      <td>0</td>\n",
       "      <td>0</td>\n",
       "      <td>0</td>\n",
       "      <td>0</td>\n",
       "      <td>0</td>\n",
       "      <td>0</td>\n",
       "      <td>0</td>\n",
       "      <td>0</td>\n",
       "      <td>0</td>\n",
       "    </tr>\n",
       "    <tr>\n",
       "      <th>4</th>\n",
       "      <td>2</td>\n",
       "      <td>0</td>\n",
       "      <td>1</td>\n",
       "      <td>0</td>\n",
       "      <td>0</td>\n",
       "      <td>0</td>\n",
       "      <td>0</td>\n",
       "      <td>0</td>\n",
       "      <td>0</td>\n",
       "      <td>0</td>\n",
       "      <td>...</td>\n",
       "      <td>0</td>\n",
       "      <td>0</td>\n",
       "      <td>0</td>\n",
       "      <td>0</td>\n",
       "      <td>0</td>\n",
       "      <td>0</td>\n",
       "      <td>0</td>\n",
       "      <td>0</td>\n",
       "      <td>0</td>\n",
       "      <td>0</td>\n",
       "    </tr>\n",
       "    <tr>\n",
       "      <th>...</th>\n",
       "      <td>...</td>\n",
       "      <td>...</td>\n",
       "      <td>...</td>\n",
       "      <td>...</td>\n",
       "      <td>...</td>\n",
       "      <td>...</td>\n",
       "      <td>...</td>\n",
       "      <td>...</td>\n",
       "      <td>...</td>\n",
       "      <td>...</td>\n",
       "      <td>...</td>\n",
       "      <td>...</td>\n",
       "      <td>...</td>\n",
       "      <td>...</td>\n",
       "      <td>...</td>\n",
       "      <td>...</td>\n",
       "      <td>...</td>\n",
       "      <td>...</td>\n",
       "      <td>...</td>\n",
       "      <td>...</td>\n",
       "      <td>...</td>\n",
       "    </tr>\n",
       "    <tr>\n",
       "      <th>7236</th>\n",
       "      <td>0</td>\n",
       "      <td>0</td>\n",
       "      <td>0</td>\n",
       "      <td>0</td>\n",
       "      <td>0</td>\n",
       "      <td>0</td>\n",
       "      <td>0</td>\n",
       "      <td>0</td>\n",
       "      <td>0</td>\n",
       "      <td>0</td>\n",
       "      <td>...</td>\n",
       "      <td>0</td>\n",
       "      <td>0</td>\n",
       "      <td>0</td>\n",
       "      <td>0</td>\n",
       "      <td>0</td>\n",
       "      <td>0</td>\n",
       "      <td>0</td>\n",
       "      <td>0</td>\n",
       "      <td>0</td>\n",
       "      <td>0</td>\n",
       "    </tr>\n",
       "    <tr>\n",
       "      <th>7237</th>\n",
       "      <td>0</td>\n",
       "      <td>0</td>\n",
       "      <td>0</td>\n",
       "      <td>0</td>\n",
       "      <td>0</td>\n",
       "      <td>0</td>\n",
       "      <td>0</td>\n",
       "      <td>0</td>\n",
       "      <td>0</td>\n",
       "      <td>0</td>\n",
       "      <td>...</td>\n",
       "      <td>0</td>\n",
       "      <td>0</td>\n",
       "      <td>0</td>\n",
       "      <td>0</td>\n",
       "      <td>0</td>\n",
       "      <td>0</td>\n",
       "      <td>0</td>\n",
       "      <td>0</td>\n",
       "      <td>0</td>\n",
       "      <td>0</td>\n",
       "    </tr>\n",
       "    <tr>\n",
       "      <th>7238</th>\n",
       "      <td>0</td>\n",
       "      <td>0</td>\n",
       "      <td>0</td>\n",
       "      <td>0</td>\n",
       "      <td>0</td>\n",
       "      <td>0</td>\n",
       "      <td>0</td>\n",
       "      <td>0</td>\n",
       "      <td>0</td>\n",
       "      <td>0</td>\n",
       "      <td>...</td>\n",
       "      <td>0</td>\n",
       "      <td>0</td>\n",
       "      <td>0</td>\n",
       "      <td>0</td>\n",
       "      <td>0</td>\n",
       "      <td>0</td>\n",
       "      <td>0</td>\n",
       "      <td>0</td>\n",
       "      <td>0</td>\n",
       "      <td>0</td>\n",
       "    </tr>\n",
       "    <tr>\n",
       "      <th>7239</th>\n",
       "      <td>0</td>\n",
       "      <td>0</td>\n",
       "      <td>0</td>\n",
       "      <td>0</td>\n",
       "      <td>0</td>\n",
       "      <td>0</td>\n",
       "      <td>0</td>\n",
       "      <td>0</td>\n",
       "      <td>0</td>\n",
       "      <td>0</td>\n",
       "      <td>...</td>\n",
       "      <td>0</td>\n",
       "      <td>0</td>\n",
       "      <td>0</td>\n",
       "      <td>0</td>\n",
       "      <td>0</td>\n",
       "      <td>0</td>\n",
       "      <td>0</td>\n",
       "      <td>0</td>\n",
       "      <td>0</td>\n",
       "      <td>0</td>\n",
       "    </tr>\n",
       "    <tr>\n",
       "      <th>7240</th>\n",
       "      <td>0</td>\n",
       "      <td>0</td>\n",
       "      <td>0</td>\n",
       "      <td>0</td>\n",
       "      <td>0</td>\n",
       "      <td>0</td>\n",
       "      <td>0</td>\n",
       "      <td>0</td>\n",
       "      <td>0</td>\n",
       "      <td>0</td>\n",
       "      <td>...</td>\n",
       "      <td>0</td>\n",
       "      <td>0</td>\n",
       "      <td>0</td>\n",
       "      <td>0</td>\n",
       "      <td>0</td>\n",
       "      <td>0</td>\n",
       "      <td>0</td>\n",
       "      <td>0</td>\n",
       "      <td>0</td>\n",
       "      <td>0</td>\n",
       "    </tr>\n",
       "  </tbody>\n",
       "</table>\n",
       "<p>7241 rows × 193077 columns</p>\n",
       "</div>"
      ],
      "text/plain": [
       "      __  ___  ____  _____  ______  _______  ________  _________  __________  \\\n",
       "0      0    0     0      0       0        0         0          0           0   \n",
       "1      0    0     0      0       0        0         0          0           0   \n",
       "2      1    0     0      0       0        0         0          0           0   \n",
       "3      3    0     1      0       0        0         0          0           0   \n",
       "4      2    0     1      0       0        0         0          0           0   \n",
       "...   ..  ...   ...    ...     ...      ...       ...        ...         ...   \n",
       "7236   0    0     0      0       0        0         0          0           0   \n",
       "7237   0    0     0      0       0        0         0          0           0   \n",
       "7238   0    0     0      0       0        0         0          0           0   \n",
       "7239   0    0     0      0       0        0         0          0           0   \n",
       "7240   0    0     0      0       0        0         0          0           0   \n",
       "\n",
       "      ___________  ...  zzrln  zzs  zzt  zztix  zzu  zzwi  zzx  zzyy  zzz  \\\n",
       "0               0  ...      0    0    0      0    0     0    0     0    0   \n",
       "1               0  ...      0    0    0      0    0     0    0     0    0   \n",
       "2               0  ...      0    0    0      0    0     0    0     0    0   \n",
       "3               0  ...      0    0    0      0    0     0    0     0    0   \n",
       "4               0  ...      0    0    0      0    0     0    0     0    0   \n",
       "...           ...  ...    ...  ...  ...    ...  ...   ...  ...   ...  ...   \n",
       "7236            0  ...      0    0    0      0    0     0    0     0    0   \n",
       "7237            0  ...      0    0    0      0    0     0    0     0    0   \n",
       "7238            0  ...      0    0    0      0    0     0    0     0    0   \n",
       "7239            0  ...      0    0    0      0    0     0    0     0    0   \n",
       "7240            0  ...      0    0    0      0    0     0    0     0    0   \n",
       "\n",
       "      zzzz  \n",
       "0        0  \n",
       "1        0  \n",
       "2        0  \n",
       "3        0  \n",
       "4        0  \n",
       "...    ...  \n",
       "7236     0  \n",
       "7237     0  \n",
       "7238     0  \n",
       "7239     0  \n",
       "7240     0  \n",
       "\n",
       "[7241 rows x 193077 columns]"
      ]
     },
     "execution_count": 21,
     "metadata": {},
     "output_type": "execute_result"
    }
   ],
   "source": [
    "df_dtm"
   ]
  },
  {
   "cell_type": "code",
   "execution_count": 13,
   "metadata": {},
   "outputs": [],
   "source": [
    "#removing stop words\n",
    "\n",
    "import gensim\n",
    "from gensim.utils import simple_preprocess\n",
    "import nltk"
   ]
  },
  {
   "cell_type": "code",
   "execution_count": 14,
   "metadata": {},
   "outputs": [
    {
     "name": "stderr",
     "output_type": "stream",
     "text": [
      "[nltk_data] Downloading package stopwords to\n",
      "[nltk_data]     C:\\Users\\Chamuditha\\AppData\\Roaming\\nltk_data...\n",
      "[nltk_data]   Package stopwords is already up-to-date!\n"
     ]
    },
    {
     "data": {
      "text/plain": [
       "True"
      ]
     },
     "execution_count": 14,
     "metadata": {},
     "output_type": "execute_result"
    }
   ],
   "source": [
    "nltk.download('stopwords')"
   ]
  },
  {
   "cell_type": "code",
   "execution_count": 15,
   "metadata": {},
   "outputs": [],
   "source": [
    "from nltk.corpus import stopwords"
   ]
  },
  {
   "cell_type": "code",
   "execution_count": 16,
   "metadata": {},
   "outputs": [],
   "source": [
    "stop_words = stopwords.words('english')\n",
    "stop_words.extend(['has', 'been', 're', 'com', 'edu', 'use']) #adding more words as stopwords"
   ]
  },
  {
   "cell_type": "code",
   "execution_count": 17,
   "metadata": {},
   "outputs": [],
   "source": [
    "def convert_sentence_to_words(sentences):\n",
    "    for sentence in sentences:\n",
    "        yield(gensim.utils.simple_preprocess(str(sentence), #tokenize each sentence by breaking into words\n",
    "                                             deacc = True)) #remove punctuation marks\n",
    "                                                            #and remove accent marks"
   ]
  },
  {
   "cell_type": "code",
   "execution_count": 18,
   "metadata": {},
   "outputs": [],
   "source": [
    "#creating function to remove stopwords\n",
    "def remove_all_stop_words(texts):\n",
    "    return [[word for word in simple_preprocess(str(doc)) if word not in stop_words] for doc in texts]"
   ]
  },
  {
   "cell_type": "code",
   "execution_count": 19,
   "metadata": {},
   "outputs": [],
   "source": [
    "#converting all the values into a list\n",
    "text_to_list = df.clean_text.values.tolist()"
   ]
  },
  {
   "cell_type": "code",
   "execution_count": 20,
   "metadata": {},
   "outputs": [
    {
     "data": {
      "text/plain": [
       "132368"
      ]
     },
     "execution_count": 20,
     "metadata": {},
     "output_type": "execute_result"
    }
   ],
   "source": [
    "#now every record in the dataset are sentences\n",
    "len(text_to_list)"
   ]
  },
  {
   "cell_type": "code",
   "execution_count": 21,
   "metadata": {},
   "outputs": [
    {
     "data": {
      "text/plain": [
       "'tom blackout / unsplash\\n\\nwhat in the world is going on in crowley county this past week the worst outbreak in the country has been in a rural colorado county i had never heard of — crowley county where more than  in  people have been infected with covid-\\n\\nthe county lies out on the eastern plains in dry land farming country what could possibly be going on there it turns out it has a tiny population only a bit over  people about one of every three of those people is by some reports an inmate at the crowley county correctional facility a privately-owned medium security prison for men census data show that the county would be close to % white and less than % black if the prisoners werent counted but the prison population is nearly % black and nearly % hispanic according to wikipedia: “as a percentage of its population crowley county has more of its census population in prison than any other county in the country”\\n\\nthis prison is owned and run by corecivic the company brags that it is the “nations largest owner of partnership correctional detention and residential reentry facilities” it aims to “better the public good” that includes contracting with ice and incarcerating undocumented people it had to rebrand itself recently leaving behind the name “corrections corporation of america” for a bland name that obscures what business its actually in: profiting from our countrys commitment to incarcerating more people per capita than any other country on the planet\\n\\nweve known for months that facilities where vulnerable people are in close quarters are especially likely to have covid outbreaks this means nursing facilities elder care facilities meatpacking plants and especially prisons now we have three new promising covid- vaccines in the news they are likely to get emergency approval from the fda two of the vaccines have % or higher efficacy and no serious ‘safety signals arising in clinical trials already on radio programs and news sites we are hearing about who should get the vaccine first since it will likely be quite a while before theres enough for all who want it\\n\\nthe obvious priority is medical personnel after that who first responders our elderly in residential facilities or people with certain disabilities essential workers those who provide essential services are at high risk of contracting the virus because of where they work — places like grocery stores and meatpacking plants should we privilege the millions upon millions with health conditions that put them at extra risk what about prisoners forced to live in close quarters and suffering from covid- infection at very high rates\\n\\ni read an article this summer about what experts and public health officials were thinking it has already shifted an expert advisory panel of the center for disease control and prevention met on monday and is leaning toward giving health care workers other essential workers and those living in long-term care facilities priority over the elderly and those with high-risk medical conditions\\n\\nthe goal is to bring people of color closer to the head of the line as they have suffered disproportionately during the pandemic they are also highly represented among health care workers and other essential workers there are various obstacles a september survey conducted by the naacp and other organizations revealed that fewer than half of black people and only / of latino people said they would definitely or probably take a free vaccine if it were offered to them and heres the clincher: only % of black people surveyed said they trust the vaccine will be safe they also mistrust its efficacy in short its safe to say they dont trust the medical establishment\\n\\nthe official label is “vaccine hesitancy” and black americans certainly dont have a corner on that market its possible that the perspective has changed since the recent reports on three vaccines in the pipeline however theres the lingering legacy of the tuskegee experiment —  years in the course of the  century of physicians and government officials making a highly unethical medical experiment of black men infected with syphilis the powers that be pretended to treat their illnesses but instead lied to them and their families all the while trying to create conditions of greater equity in medicine is very difficult when trust is deeply damaged or was never established in the first place letting black americans come near the head of the vaccine line may bring up the old question: am i being used as a guinea pig for white america\\n\\ntheres been a lot of anti-vaccine sentiment in the us in recent years theres also the fact that these covid- vaccines are not necessarily a walk in the park clinical trial volunteers report temporary but unpleasant side effects at least one was elated because he didnt want the placebo — and when he started to feel bad he knew hed hit paydirt\\n\\ntheres no sign that anyone will be coerced into getting a vaccine though the us military hasnt always allowed its personnel freedom to choose civilians are highly likely to have free agency my hope is that those who feel safe enough and choose to take the vaccine will get the % protection the early data suggest and that this time next year well have moved much closer to herd immunity in many communities around the country i was more skeptical about all of this just a handful of months ago but now i am hopeful that the data the scientific process and the governmental approval process will be transparent and largely trust-inspiring time will tell i hope the wealthy countries make sure the low-and-middle income countries get their fair share of access to affordable vaccines that are easy to administer in places with limited infrastructure astrazeneca and oxford university deserve praise for creating an inexpensive vaccine that doesnt require deep freezing and that they plan to offer at cost to poorer countries around the world\\n\\nmay our cherished freedoms return to us all and may we learn lessons that help us prevent future pandemics worldwide'"
      ]
     },
     "execution_count": 21,
     "metadata": {},
     "output_type": "execute_result"
    }
   ],
   "source": [
    "text_to_list[0]"
   ]
  },
  {
   "cell_type": "code",
   "execution_count": 22,
   "metadata": {},
   "outputs": [],
   "source": [
    "text_as_words = list(convert_sentence_to_words(text_to_list))"
   ]
  },
  {
   "cell_type": "code",
   "execution_count": 23,
   "metadata": {},
   "outputs": [
    {
     "data": {
      "text/plain": [
       "132368"
      ]
     },
     "execution_count": 23,
     "metadata": {},
     "output_type": "execute_result"
    }
   ],
   "source": [
    "len(text_as_words)"
   ]
  },
  {
   "cell_type": "code",
   "execution_count": 24,
   "metadata": {},
   "outputs": [
    {
     "name": "stdout",
     "output_type": "stream",
     "text": [
      "['tom', 'blackout', 'unsplash', 'what', 'in', 'the', 'world', 'is', 'going', 'on', 'in', 'crowley', 'county', 'this', 'past', 'week', 'the', 'worst', 'outbreak', 'in', 'the', 'country', 'has', 'been', 'in', 'rural', 'colorado', 'county', 'had', 'never', 'heard', 'of', 'crowley', 'county', 'where', 'more', 'than', 'in', 'people', 'have', 'been', 'infected', 'with', 'covid', 'the', 'county', 'lies', 'out', 'on', 'the', 'eastern', 'plains', 'in', 'dry', 'land', 'farming', 'country', 'what', 'could', 'possibly', 'be', 'going', 'on', 'there', 'it', 'turns', 'out', 'it', 'has', 'tiny', 'population', 'only', 'bit', 'over', 'people', 'about', 'one', 'of', 'every', 'three', 'of', 'those', 'people', 'is', 'by', 'some', 'reports', 'an', 'inmate', 'at', 'the', 'crowley', 'county', 'correctional', 'facility', 'privately', 'owned', 'medium', 'security', 'prison', 'for', 'men', 'census', 'data', 'show', 'that', 'the', 'county', 'would', 'be', 'close', 'to', 'white', 'and', 'less', 'than', 'black', 'if', 'the', 'prisoners', 'werent', 'counted', 'but', 'the', 'prison', 'population', 'is', 'nearly', 'black', 'and', 'nearly', 'hispanic', 'according', 'to', 'wikipedia', 'as', 'percentage', 'of', 'its', 'population', 'crowley', 'county', 'has', 'more', 'of', 'its', 'census', 'population', 'in', 'prison', 'than', 'any', 'other', 'county', 'in', 'the', 'country', 'this', 'prison', 'is', 'owned', 'and', 'run', 'by', 'corecivic', 'the', 'company', 'brags', 'that', 'it', 'is', 'the', 'nations', 'largest', 'owner', 'of', 'partnership', 'correctional', 'detention', 'and', 'residential', 'reentry', 'facilities', 'it', 'aims', 'to', 'better', 'the', 'public', 'good', 'that', 'includes', 'contracting', 'with', 'ice', 'and', 'incarcerating', 'undocumented', 'people', 'it', 'had', 'to', 'rebrand', 'itself', 'recently', 'leaving', 'behind', 'the', 'name', 'corrections', 'corporation', 'of', 'america', 'for', 'bland', 'name', 'that', 'obscures', 'what', 'business', 'its', 'actually', 'in', 'profiting', 'from', 'our', 'countrys', 'commitment', 'to', 'incarcerating', 'more', 'people', 'per', 'capita', 'than', 'any', 'other', 'country', 'on', 'the', 'planet', 'weve', 'known', 'for', 'months', 'that', 'facilities', 'where', 'vulnerable', 'people', 'are', 'in', 'close', 'quarters', 'are', 'especially', 'likely', 'to', 'have', 'covid', 'outbreaks', 'this', 'means', 'nursing', 'facilities', 'elder', 'care', 'facilities', 'meatpacking', 'plants', 'and', 'especially', 'prisons', 'now', 'we', 'have', 'three', 'new', 'promising', 'covid', 'vaccines', 'in', 'the', 'news', 'they', 'are', 'likely', 'to', 'get', 'emergency', 'approval', 'from', 'the', 'fda', 'two', 'of', 'the', 'vaccines', 'have', 'or', 'higher', 'efficacy', 'and', 'no', 'serious', 'safety', 'signals', 'arising', 'in', 'clinical', 'trials', 'already', 'on', 'radio', 'programs', 'and', 'news', 'sites', 'we', 'are', 'hearing', 'about', 'who', 'should', 'get', 'the', 'vaccine', 'first', 'since', 'it', 'will', 'likely', 'be', 'quite', 'while', 'before', 'theres', 'enough', 'for', 'all', 'who', 'want', 'it', 'the', 'obvious', 'priority', 'is', 'medical', 'personnel', 'after', 'that', 'who', 'first', 'responders', 'our', 'elderly', 'in', 'residential', 'facilities', 'or', 'people', 'with', 'certain', 'disabilities', 'essential', 'workers', 'those', 'who', 'provide', 'essential', 'services', 'are', 'at', 'high', 'risk', 'of', 'contracting', 'the', 'virus', 'because', 'of', 'where', 'they', 'work', 'places', 'like', 'grocery', 'stores', 'and', 'meatpacking', 'plants', 'should', 'we', 'privilege', 'the', 'millions', 'upon', 'millions', 'with', 'health', 'conditions', 'that', 'put', 'them', 'at', 'extra', 'risk', 'what', 'about', 'prisoners', 'forced', 'to', 'live', 'in', 'close', 'quarters', 'and', 'suffering', 'from', 'covid', 'infection', 'at', 'very', 'high', 'rates', 'read', 'an', 'article', 'this', 'summer', 'about', 'what', 'experts', 'and', 'public', 'health', 'officials', 'were', 'thinking', 'it', 'has', 'already', 'shifted', 'an', 'expert', 'advisory', 'panel', 'of', 'the', 'center', 'for', 'disease', 'control', 'and', 'prevention', 'met', 'on', 'monday', 'and', 'is', 'leaning', 'toward', 'giving', 'health', 'care', 'workers', 'other', 'essential', 'workers', 'and', 'those', 'living', 'in', 'long', 'term', 'care', 'facilities', 'priority', 'over', 'the', 'elderly', 'and', 'those', 'with', 'high', 'risk', 'medical', 'conditions', 'the', 'goal', 'is', 'to', 'bring', 'people', 'of', 'color', 'closer', 'to', 'the', 'head', 'of', 'the', 'line', 'as', 'they', 'have', 'suffered', 'during', 'the', 'pandemic', 'they', 'are', 'also', 'highly', 'represented', 'among', 'health', 'care', 'workers', 'and', 'other', 'essential', 'workers', 'there', 'are', 'various', 'obstacles', 'september', 'survey', 'conducted', 'by', 'the', 'naacp', 'and', 'other', 'organizations', 'revealed', 'that', 'fewer', 'than', 'half', 'of', 'black', 'people', 'and', 'only', 'of', 'latino', 'people', 'said', 'they', 'would', 'definitely', 'or', 'probably', 'take', 'free', 'vaccine', 'if', 'it', 'were', 'offered', 'to', 'them', 'and', 'heres', 'the', 'clincher', 'only', 'of', 'black', 'people', 'surveyed', 'said', 'they', 'trust', 'the', 'vaccine', 'will', 'be', 'safe', 'they', 'also', 'mistrust', 'its', 'efficacy', 'in', 'short', 'its', 'safe', 'to', 'say', 'they', 'dont', 'trust', 'the', 'medical', 'establishment', 'the', 'official', 'label', 'is', 'vaccine', 'hesitancy', 'and', 'black', 'americans', 'certainly', 'dont', 'have', 'corner', 'on', 'that', 'market', 'its', 'possible', 'that', 'the', 'perspective', 'has', 'changed', 'since', 'the', 'recent', 'reports', 'on', 'three', 'vaccines', 'in', 'the', 'pipeline', 'however', 'theres', 'the', 'lingering', 'legacy', 'of', 'the', 'tuskegee', 'experiment', 'years', 'in', 'the', 'course', 'of', 'the', 'century', 'of', 'physicians', 'and', 'government', 'officials', 'making', 'highly', 'unethical', 'medical', 'experiment', 'of', 'black', 'men', 'infected', 'with', 'syphilis', 'the', 'powers', 'that', 'be', 'pretended', 'to', 'treat', 'their', 'illnesses', 'but', 'instead', 'lied', 'to', 'them', 'and', 'their', 'families', 'all', 'the', 'while', 'trying', 'to', 'create', 'conditions', 'of', 'greater', 'equity', 'in', 'medicine', 'is', 'very', 'difficult', 'when', 'trust', 'is', 'deeply', 'damaged', 'or', 'was', 'never', 'established', 'in', 'the', 'first', 'place', 'letting', 'black', 'americans', 'come', 'near', 'the', 'head', 'of', 'the', 'vaccine', 'line', 'may', 'bring', 'up', 'the', 'old', 'question', 'am', 'being', 'used', 'as', 'guinea', 'pig', 'for', 'white', 'america', 'theres', 'been', 'lot', 'of', 'anti', 'vaccine', 'sentiment', 'in', 'the', 'us', 'in', 'recent', 'years', 'theres', 'also', 'the', 'fact', 'that', 'these', 'covid', 'vaccines', 'are', 'not', 'necessarily', 'walk', 'in', 'the', 'park', 'clinical', 'trial', 'volunteers', 'report', 'temporary', 'but', 'unpleasant', 'side', 'effects', 'at', 'least', 'one', 'was', 'elated', 'because', 'he', 'didnt', 'want', 'the', 'placebo', 'and', 'when', 'he', 'started', 'to', 'feel', 'bad', 'he', 'knew', 'hed', 'hit', 'paydirt', 'theres', 'no', 'sign', 'that', 'anyone', 'will', 'be', 'coerced', 'into', 'getting', 'vaccine', 'though', 'the', 'us', 'military', 'hasnt', 'always', 'allowed', 'its', 'personnel', 'freedom', 'to', 'choose', 'civilians', 'are', 'highly', 'likely', 'to', 'have', 'free', 'agency', 'my', 'hope', 'is', 'that', 'those', 'who', 'feel', 'safe', 'enough', 'and', 'choose', 'to', 'take', 'the', 'vaccine', 'will', 'get', 'the', 'protection', 'the', 'early', 'data', 'suggest', 'and', 'that', 'this', 'time', 'next', 'year', 'well', 'have', 'moved', 'much', 'closer', 'to', 'herd', 'immunity', 'in', 'many', 'communities', 'around', 'the', 'country', 'was', 'more', 'skeptical', 'about', 'all', 'of', 'this', 'just', 'handful', 'of', 'months', 'ago', 'but', 'now', 'am', 'hopeful', 'that', 'the', 'data', 'the', 'scientific', 'process', 'and', 'the', 'governmental', 'approval', 'process', 'will', 'be', 'transparent', 'and', 'largely', 'trust', 'inspiring', 'time', 'will', 'tell', 'hope', 'the', 'wealthy', 'countries', 'make', 'sure', 'the', 'low', 'and', 'middle', 'income', 'countries', 'get', 'their', 'fair', 'share', 'of', 'access', 'to', 'affordable', 'vaccines', 'that', 'are', 'easy', 'to', 'administer', 'in', 'places', 'with', 'limited', 'infrastructure', 'astrazeneca', 'and', 'oxford', 'university', 'deserve', 'praise', 'for', 'creating', 'an', 'inexpensive', 'vaccine', 'that', 'doesnt', 'require', 'deep', 'freezing', 'and', 'that', 'they', 'plan', 'to', 'offer', 'at', 'cost', 'to', 'poorer', 'countries', 'around', 'the', 'world', 'may', 'our', 'cherished', 'freedoms', 'return', 'to', 'us', 'all', 'and', 'may', 'we', 'learn', 'lessons', 'that', 'help', 'us', 'prevent', 'future', 'pandemics', 'worldwide']\n"
     ]
    }
   ],
   "source": [
    "print(text_as_words[0])"
   ]
  },
  {
   "cell_type": "code",
   "execution_count": 25,
   "metadata": {},
   "outputs": [],
   "source": [
    "clean_words = remove_all_stop_words(text_as_words)"
   ]
  },
  {
   "cell_type": "code",
   "execution_count": 26,
   "metadata": {},
   "outputs": [
    {
     "data": {
      "text/plain": [
       "132368"
      ]
     },
     "execution_count": 26,
     "metadata": {},
     "output_type": "execute_result"
    }
   ],
   "source": [
    "len(clean_words)"
   ]
  },
  {
   "cell_type": "code",
   "execution_count": 27,
   "metadata": {},
   "outputs": [
    {
     "name": "stdout",
     "output_type": "stream",
     "text": [
      "['tom', 'blackout', 'unsplash', 'world', 'going', 'crowley', 'county', 'past', 'week', 'worst', 'outbreak', 'country', 'rural', 'colorado', 'county', 'never', 'heard', 'crowley', 'county', 'people', 'infected', 'covid', 'county', 'lies', 'eastern', 'plains', 'dry', 'land', 'farming', 'country', 'could', 'possibly', 'going', 'turns', 'tiny', 'population', 'bit', 'people', 'one', 'every', 'three', 'people', 'reports', 'inmate', 'crowley', 'county', 'correctional', 'facility', 'privately', 'owned', 'medium', 'security', 'prison', 'men', 'census', 'data', 'show', 'county', 'would', 'close', 'white', 'less', 'black', 'prisoners', 'werent', 'counted', 'prison', 'population', 'nearly', 'black', 'nearly', 'hispanic', 'according', 'wikipedia', 'percentage', 'population', 'crowley', 'county', 'census', 'population', 'prison', 'county', 'country', 'prison', 'owned', 'run', 'corecivic', 'company', 'brags', 'nations', 'largest', 'owner', 'partnership', 'correctional', 'detention', 'residential', 'reentry', 'facilities', 'aims', 'better', 'public', 'good', 'includes', 'contracting', 'ice', 'incarcerating', 'undocumented', 'people', 'rebrand', 'recently', 'leaving', 'behind', 'name', 'corrections', 'corporation', 'america', 'bland', 'name', 'obscures', 'business', 'actually', 'profiting', 'countrys', 'commitment', 'incarcerating', 'people', 'per', 'capita', 'country', 'planet', 'weve', 'known', 'months', 'facilities', 'vulnerable', 'people', 'close', 'quarters', 'especially', 'likely', 'covid', 'outbreaks', 'means', 'nursing', 'facilities', 'elder', 'care', 'facilities', 'meatpacking', 'plants', 'especially', 'prisons', 'three', 'new', 'promising', 'covid', 'vaccines', 'news', 'likely', 'get', 'emergency', 'approval', 'fda', 'two', 'vaccines', 'higher', 'efficacy', 'serious', 'safety', 'signals', 'arising', 'clinical', 'trials', 'already', 'radio', 'programs', 'news', 'sites', 'hearing', 'get', 'vaccine', 'first', 'since', 'likely', 'quite', 'theres', 'enough', 'want', 'obvious', 'priority', 'medical', 'personnel', 'first', 'responders', 'elderly', 'residential', 'facilities', 'people', 'certain', 'disabilities', 'essential', 'workers', 'provide', 'essential', 'services', 'high', 'risk', 'contracting', 'virus', 'work', 'places', 'like', 'grocery', 'stores', 'meatpacking', 'plants', 'privilege', 'millions', 'upon', 'millions', 'health', 'conditions', 'put', 'extra', 'risk', 'prisoners', 'forced', 'live', 'close', 'quarters', 'suffering', 'covid', 'infection', 'high', 'rates', 'read', 'article', 'summer', 'experts', 'public', 'health', 'officials', 'thinking', 'already', 'shifted', 'expert', 'advisory', 'panel', 'center', 'disease', 'control', 'prevention', 'met', 'monday', 'leaning', 'toward', 'giving', 'health', 'care', 'workers', 'essential', 'workers', 'living', 'long', 'term', 'care', 'facilities', 'priority', 'elderly', 'high', 'risk', 'medical', 'conditions', 'goal', 'bring', 'people', 'color', 'closer', 'head', 'line', 'suffered', 'pandemic', 'also', 'highly', 'represented', 'among', 'health', 'care', 'workers', 'essential', 'workers', 'various', 'obstacles', 'september', 'survey', 'conducted', 'naacp', 'organizations', 'revealed', 'fewer', 'half', 'black', 'people', 'latino', 'people', 'said', 'would', 'definitely', 'probably', 'take', 'free', 'vaccine', 'offered', 'heres', 'clincher', 'black', 'people', 'surveyed', 'said', 'trust', 'vaccine', 'safe', 'also', 'mistrust', 'efficacy', 'short', 'safe', 'say', 'dont', 'trust', 'medical', 'establishment', 'official', 'label', 'vaccine', 'hesitancy', 'black', 'americans', 'certainly', 'dont', 'corner', 'market', 'possible', 'perspective', 'changed', 'since', 'recent', 'reports', 'three', 'vaccines', 'pipeline', 'however', 'theres', 'lingering', 'legacy', 'tuskegee', 'experiment', 'years', 'course', 'century', 'physicians', 'government', 'officials', 'making', 'highly', 'unethical', 'medical', 'experiment', 'black', 'men', 'infected', 'syphilis', 'powers', 'pretended', 'treat', 'illnesses', 'instead', 'lied', 'families', 'trying', 'create', 'conditions', 'greater', 'equity', 'medicine', 'difficult', 'trust', 'deeply', 'damaged', 'never', 'established', 'first', 'place', 'letting', 'black', 'americans', 'come', 'near', 'head', 'vaccine', 'line', 'may', 'bring', 'old', 'question', 'used', 'guinea', 'pig', 'white', 'america', 'theres', 'lot', 'anti', 'vaccine', 'sentiment', 'us', 'recent', 'years', 'theres', 'also', 'fact', 'covid', 'vaccines', 'necessarily', 'walk', 'park', 'clinical', 'trial', 'volunteers', 'report', 'temporary', 'unpleasant', 'side', 'effects', 'least', 'one', 'elated', 'didnt', 'want', 'placebo', 'started', 'feel', 'bad', 'knew', 'hed', 'hit', 'paydirt', 'theres', 'sign', 'anyone', 'coerced', 'getting', 'vaccine', 'though', 'us', 'military', 'hasnt', 'always', 'allowed', 'personnel', 'freedom', 'choose', 'civilians', 'highly', 'likely', 'free', 'agency', 'hope', 'feel', 'safe', 'enough', 'choose', 'take', 'vaccine', 'get', 'protection', 'early', 'data', 'suggest', 'time', 'next', 'year', 'well', 'moved', 'much', 'closer', 'herd', 'immunity', 'many', 'communities', 'around', 'country', 'skeptical', 'handful', 'months', 'ago', 'hopeful', 'data', 'scientific', 'process', 'governmental', 'approval', 'process', 'transparent', 'largely', 'trust', 'inspiring', 'time', 'tell', 'hope', 'wealthy', 'countries', 'make', 'sure', 'low', 'middle', 'income', 'countries', 'get', 'fair', 'share', 'access', 'affordable', 'vaccines', 'easy', 'administer', 'places', 'limited', 'infrastructure', 'astrazeneca', 'oxford', 'university', 'deserve', 'praise', 'creating', 'inexpensive', 'vaccine', 'doesnt', 'require', 'deep', 'freezing', 'plan', 'offer', 'cost', 'poorer', 'countries', 'around', 'world', 'may', 'cherished', 'freedoms', 'return', 'us', 'may', 'learn', 'lessons', 'help', 'us', 'prevent', 'future', 'pandemics', 'worldwide']\n"
     ]
    }
   ],
   "source": [
    "print(clean_words[0])"
   ]
  },
  {
   "cell_type": "code",
   "execution_count": 28,
   "metadata": {},
   "outputs": [],
   "source": [
    "#creating bigrams and trigrmas from tokenized text using gensim's Phrases model\n",
    "\n",
    "     #bigram will only be considered if it appears at leat 5 times in the corpus\n",
    "bigram = gensim.models.Phrases(clean_words, min_count = 5, \n",
    "                               threshold = 100) \n",
    "trigram = gensim.models.Phrases(bigram[clean_words], #detects bigrams within the text and combines them into a single word\n",
    "                                                     #(ex: data science --> data_science) and pass it through another gensim's Phrase\n",
    "                                threshold = 100)"
   ]
  },
  {
   "cell_type": "code",
   "execution_count": 29,
   "metadata": {},
   "outputs": [],
   "source": [
    "#threshold = 100 --> how frequently word pairs must occur together to be considered as a bigram"
   ]
  },
  {
   "cell_type": "code",
   "execution_count": 30,
   "metadata": {},
   "outputs": [],
   "source": [
    "#creating bigram and trigram models\n",
    "bigram_mod = gensim.models.phrases.Phraser(bigram)\n",
    "trigram_mod = gensim.models.phrases.Phraser(trigram)"
   ]
  },
  {
   "cell_type": "code",
   "execution_count": 31,
   "metadata": {},
   "outputs": [],
   "source": [
    "#creating functions to create bigrams and trigrams\n",
    "def make_bigrams(texts):\n",
    "    return [bigram_mod[doc] for doc in texts]\n",
    "\n",
    "def make_trigram(texts):\n",
    "    return [trigram_mod[bigram_mod[doc]] for doc in texts]"
   ]
  },
  {
   "cell_type": "code",
   "execution_count": 32,
   "metadata": {},
   "outputs": [],
   "source": [
    "#lemmatization\n",
    "def lemmatization(texts, allowed_postags = ['NOUN', 'ADJ', 'VERB', 'ADV']): #tags that are allowed to be lemmatized\n",
    "    texts_out = []    #creating a empty list to store lemmatized sentences  \n",
    "    \n",
    "    for sent in texts:  #loops through each doc\n",
    "        doc = nlp(\" \".join(sent))   #npl() tokenizes the sentence and assigns postags to each word\n",
    "        \n",
    "        texts_out.append([token.lemma_ for token in doc if token.pos_ in allowed_postags])\n",
    "        #extract the base form of each word if the postags of each word in allowed_postags\n",
    "   \n",
    "    return texts_out\n",
    "    "
   ]
  },
  {
   "cell_type": "code",
   "execution_count": 33,
   "metadata": {},
   "outputs": [],
   "source": [
    "#importing spacy library\n",
    "import spacy\n",
    "nlp = spacy.load('en_core_web_sm', disable=['parser', 'ner'])"
   ]
  },
  {
   "cell_type": "code",
   "execution_count": 34,
   "metadata": {},
   "outputs": [],
   "source": [
    "#form bigrams \n",
    "clean_words_bigrams = make_bigrams(clean_words)"
   ]
  },
  {
   "cell_type": "code",
   "execution_count": 35,
   "metadata": {},
   "outputs": [
    {
     "name": "stdout",
     "output_type": "stream",
     "text": [
      "['tom', 'blackout', 'unsplash', 'world', 'going', 'crowley', 'county', 'past', 'week', 'worst', 'outbreak', 'country', 'rural', 'colorado', 'county', 'never', 'heard', 'crowley', 'county', 'people', 'infected', 'covid', 'county', 'lies', 'eastern', 'plains', 'dry', 'land', 'farming', 'country', 'could', 'possibly', 'going', 'turns', 'tiny', 'population', 'bit', 'people', 'one', 'every', 'three', 'people', 'reports', 'inmate', 'crowley', 'county', 'correctional_facility', 'privately_owned', 'medium', 'security', 'prison', 'men', 'census', 'data', 'show', 'county', 'would', 'close', 'white', 'less', 'black', 'prisoners', 'werent', 'counted', 'prison', 'population', 'nearly', 'black', 'nearly', 'hispanic', 'according', 'wikipedia', 'percentage', 'population', 'crowley', 'county', 'census', 'population', 'prison', 'county', 'country', 'prison', 'owned', 'run', 'corecivic', 'company', 'brags', 'nations', 'largest', 'owner', 'partnership', 'correctional', 'detention', 'residential', 'reentry', 'facilities', 'aims', 'better', 'public', 'good', 'includes', 'contracting', 'ice', 'incarcerating', 'undocumented', 'people', 'rebrand', 'recently', 'leaving', 'behind', 'name', 'corrections', 'corporation', 'america', 'bland', 'name', 'obscures', 'business', 'actually', 'profiting', 'countrys', 'commitment', 'incarcerating', 'people', 'per_capita', 'country', 'planet', 'weve', 'known', 'months', 'facilities', 'vulnerable', 'people', 'close', 'quarters', 'especially', 'likely', 'covid', 'outbreaks', 'means', 'nursing', 'facilities', 'elder', 'care', 'facilities', 'meatpacking', 'plants', 'especially', 'prisons', 'three', 'new', 'promising', 'covid', 'vaccines', 'news', 'likely', 'get', 'emergency', 'approval', 'fda', 'two', 'vaccines', 'higher', 'efficacy', 'serious', 'safety', 'signals', 'arising', 'clinical_trials', 'already', 'radio', 'programs', 'news', 'sites', 'hearing', 'get', 'vaccine', 'first', 'since', 'likely', 'quite', 'theres', 'enough', 'want', 'obvious', 'priority', 'medical', 'personnel', 'first', 'responders', 'elderly', 'residential', 'facilities', 'people', 'certain', 'disabilities', 'essential', 'workers', 'provide', 'essential', 'services', 'high', 'risk_contracting', 'virus', 'work', 'places', 'like', 'grocery_stores', 'meatpacking', 'plants', 'privilege', 'millions', 'upon', 'millions', 'health', 'conditions', 'put', 'extra', 'risk', 'prisoners', 'forced', 'live', 'close', 'quarters', 'suffering', 'covid', 'infection', 'high', 'rates', 'read', 'article', 'summer', 'experts', 'public', 'health', 'officials', 'thinking', 'already', 'shifted', 'expert', 'advisory_panel', 'center', 'disease', 'control', 'prevention', 'met', 'monday', 'leaning', 'toward', 'giving', 'health', 'care', 'workers', 'essential', 'workers', 'living', 'long_term', 'care', 'facilities', 'priority', 'elderly', 'high', 'risk', 'medical', 'conditions', 'goal', 'bring', 'people', 'color', 'closer', 'head', 'line', 'suffered', 'pandemic', 'also', 'highly', 'represented', 'among', 'health', 'care', 'workers', 'essential', 'workers', 'various', 'obstacles', 'september', 'survey_conducted', 'naacp', 'organizations', 'revealed', 'fewer', 'half', 'black', 'people', 'latino', 'people', 'said', 'would', 'definitely', 'probably', 'take', 'free', 'vaccine', 'offered', 'heres', 'clincher', 'black', 'people', 'surveyed', 'said', 'trust', 'vaccine', 'safe', 'also', 'mistrust', 'efficacy', 'short', 'safe', 'say', 'dont', 'trust', 'medical', 'establishment', 'official', 'label', 'vaccine_hesitancy', 'black', 'americans', 'certainly', 'dont', 'corner', 'market', 'possible', 'perspective', 'changed', 'since', 'recent', 'reports', 'three', 'vaccines', 'pipeline', 'however', 'theres', 'lingering', 'legacy', 'tuskegee_experiment', 'years', 'course', 'century', 'physicians', 'government', 'officials', 'making', 'highly', 'unethical', 'medical', 'experiment', 'black', 'men', 'infected', 'syphilis', 'powers', 'pretended', 'treat', 'illnesses', 'instead', 'lied', 'families', 'trying', 'create', 'conditions', 'greater', 'equity', 'medicine', 'difficult', 'trust', 'deeply', 'damaged', 'never', 'established', 'first', 'place', 'letting', 'black', 'americans', 'come', 'near', 'head', 'vaccine', 'line', 'may', 'bring', 'old', 'question', 'used', 'guinea_pig', 'white', 'america', 'theres', 'lot', 'anti', 'vaccine', 'sentiment', 'us', 'recent', 'years', 'theres', 'also', 'fact', 'covid', 'vaccines', 'necessarily', 'walk', 'park', 'clinical_trial', 'volunteers', 'report', 'temporary', 'unpleasant', 'side_effects', 'least', 'one', 'elated', 'didnt', 'want', 'placebo', 'started', 'feel', 'bad', 'knew', 'hed', 'hit', 'paydirt', 'theres', 'sign', 'anyone', 'coerced', 'getting', 'vaccine', 'though', 'us', 'military', 'hasnt', 'always', 'allowed', 'personnel', 'freedom', 'choose', 'civilians', 'highly', 'likely', 'free', 'agency', 'hope', 'feel', 'safe', 'enough', 'choose', 'take', 'vaccine', 'get', 'protection', 'early', 'data', 'suggest', 'time', 'next', 'year', 'well', 'moved', 'much', 'closer', 'herd_immunity', 'many', 'communities', 'around', 'country', 'skeptical', 'handful', 'months', 'ago', 'hopeful', 'data', 'scientific', 'process', 'governmental', 'approval', 'process', 'transparent', 'largely', 'trust', 'inspiring', 'time', 'tell', 'hope', 'wealthy', 'countries', 'make', 'sure', 'low', 'middle', 'income', 'countries', 'get', 'fair', 'share', 'access', 'affordable', 'vaccines', 'easy', 'administer', 'places', 'limited', 'infrastructure', 'astrazeneca_oxford', 'university', 'deserve', 'praise', 'creating', 'inexpensive', 'vaccine', 'doesnt', 'require', 'deep', 'freezing', 'plan', 'offer', 'cost', 'poorer', 'countries', 'around', 'world', 'may', 'cherished', 'freedoms', 'return', 'us', 'may', 'learn', 'lessons', 'help', 'us', 'prevent', 'future', 'pandemics', 'worldwide']\n"
     ]
    }
   ],
   "source": [
    "print(clean_words_bigrams[0])"
   ]
  },
  {
   "cell_type": "code",
   "execution_count": 36,
   "metadata": {},
   "outputs": [],
   "source": [
    "#form trigrams\n",
    "clean_words_trigrams = make_trigram(clean_words_bigrams)"
   ]
  },
  {
   "cell_type": "code",
   "execution_count": 37,
   "metadata": {},
   "outputs": [],
   "source": [
    "#do lemmatization on trigrams by keeping only noun, adj, verb, adv\n",
    "clean_words_lemmatized = lemmatization(clean_words_trigrams, allowed_postags = ['NOUN', 'ADJ', 'VERB', 'ADV'])"
   ]
  },
  {
   "cell_type": "code",
   "execution_count": 38,
   "metadata": {},
   "outputs": [
    {
     "name": "stdout",
     "output_type": "stream",
     "text": [
      "['unsplash', 'world', 'go', 'past', 'week', 'bad', 'outbreak', 'country', 'rural', 'county', 'never', 'hear', 'people', 'infect', 'lie', 'eastern', 'plain', 'dry', 'land', 'farming', 'country', 'possibly', 'go', 'turn', 'tiny', 'population', 'bit', 'people', 'people', 'report', 'inmate', 'correctional_facility', 'privately_owne', 'medium', 'security', 'prison', 'man', 'census', 'county', 'close', 'white', 'less', 'black', 'prisoner', 'count', 'prison', 'population', 'nearly', 'black', 'nearly', 'hispanic', 'accord', 'wikipedia', 'percentage', 'population', 'census', 'population', 'country', 'prison', 'own', 'run', 'corecivic', 'company', 'brag', 'nation', 'large', 'owner', 'partnership', 'correctional', 'detention', 'residential', 'reentry', 'facility', 'aim', 'well', 'public', 'good', 'include', 'contract', 'ice', 'incarcerate', 'undocumented', 'people', 'rebrand', 'recently', 'leave', 'name', 'correction', 'obscure', 'business', 'actually', 'profit', 'countrys', 'commitment', 'incarcerate', 'people', 'country', 'planet', 've', 'know', 'month', 'facility', 'vulnerable', 'people', 'close', 'quarter', 'especially', 'likely', 'covid', 'outbreak', 'mean', 'nursing', 'facility', 'eld', 'care', 'facility', 'meatpacke', 'plant', 'especially', 'prison', 'new', 'promise', 'covid', 'vaccine', 'news', 'likely', 'get', 'emergency', 'approval', 'vaccine', 'high', 'efficacy', 'serious', 'safety', 'signal', 'arise', 'clinical_trial', 'already', 'radio', 'program', 'news', 'site', 'hear', 'get', 'vaccine', 'first', 'likely', 'quite', 's', 'enough', 'want', 'obvious', 'priority', 'medical', 'personnel', 'first', 'responder', 'elderly', 'residential', 'facility', 'people', 'certain', 'disability', 'essential', 'worker', 'provide', 'essential', 'service', 'high', 'risk_contracte', 'virus', 'work', 'place', 'grocery_store', 'meatpacke', 'plant', 'privilege', 'million', 'million', 'health', 'condition', 'put', 'extra', 'risk', 'prisoner', 'force', 'live', 'close', 'quarter', 'suffer', 'covid', 'infection', 'high', 'rate', 'read', 'article', 'summer', 'expert', 'public', 'health', 'official', 'think', 'already', 'shift', 'center', 'disease', 'control', 'prevention', 'meet', 'lean', 'give', 'health', 'care', 'worker', 'essential', 'worker', 'live', 'care', 'facility', 'priority', 'elderly', 'high', 'risk', 'medical', 'condition', 'goal', 'bring', 'people', 'color', 'close', 'head', 'line', 'suffer', 'pandemic', 'also', 'highly', 'represent', 'health', 'care', 'worker', 'essential', 'worker', 'various', 'obstacle', 'survey_conducte', 'naacp', 'organization', 'reveal', 'few', 'half', 'black', 'people', 'latino', 'people', 'say', 'definitely', 'probably', 'take', 'free', 'vaccine', 'offer', 'here', 'clincher', 'black', 'people', 'survey', 'say', 'vaccine', 'safe', 'also', 'mistrust', 'efficacy', 'short', 'safe', 'say', 'trust', 'medical', 'establishment', 'official', 'label', 'vaccine_hesitancy', 'black', 'certainly', 'corner', 'market', 'possible', 'perspective', 'change', 'recent', 'report', 'vaccine', 'pipeline', 'however', 's', 'linger', 'legacy', 'tuskegee_experiment', 'year', 'course', 'century', 'physician', 'government_official', 'make', 'highly', 'unethical', 'medical', 'experiment', 'black', 'man', 'infect', 'syphilis', 'power', 'pretend', 'treat', 'illness', 'instead', 'lie', 'family', 'try', 'create', 'condition', 'great', 'equity', 'medicine', 'difficult', 'trust', 'deeply', 'damage', 'never', 'establish', 'first', 'place', 'let', 'black', 'come', 'head', 'vaccine', 'line', 'bring', 'old', 'question', 'use', 's', 'lot', 'anti', 'vaccine', 'sentiment', 'recent', 'year', 's', 'also', 'fact', 'covid', 'vaccine', 'necessarily', 'walk', 'park', 'clinical_trial', 'volunteer', 'report', 'temporary', 'unpleasant', 'side_effect', 'least', 'elated', 'want', 'placebo', 'start', 'feel', 'bad', 'know', 'hit', 'paydirt', 's', 'sign', 'coerce', 'get', 'vaccine', 'military', 'always', 'allow', 'personnel', 'freedom', 'choose', 'civilian', 'highly', 'likely', 'free', 'agency', 'hope', 'feel', 'safe', 'enough', 'choose', 'take', 'vaccine', 'get', 'protection', 'early', 'datum', 'suggest', 'time', 'next', 'year', 'well', 'move', 'much', 'close', 'herd_immunity', 'many', 'community', 'country', 'skeptical', 'handful', 'hopeful', 'data', 'scientific', 'process', 'governmental', 'approval', 'process', 'transparent', 'largely', 'trust', 'inspire', 'time', 'tell', 'wealthy', 'country', 'make', 'sure', 'low', 'middle', 'income', 'country', 'get', 'fair', 'share', 'access', 'affordable', 'vaccine', 'easy', 'administer', 'place', 'limited', 'infrastructure', 'university', 'deserve', 'praise', 'create', 'inexpensive', 'vaccine', 'require', 'deep', 'freeze', 'plan', 'offer', 'cost', 'poor', 'country', 'world', 'cherished', 'freedom', 'return', 'learn', 'lesson', 'help', 'prevent', 'future', 'pandemic', 'worldwide']\n"
     ]
    }
   ],
   "source": [
    "print(clean_words_lemmatized[0])"
   ]
  },
  {
   "cell_type": "code",
   "execution_count": 39,
   "metadata": {},
   "outputs": [
    {
     "name": "stdout",
     "output_type": "stream",
     "text": [
      "132368\n",
      "562\n",
      "396\n"
     ]
    }
   ],
   "source": [
    "print(len(clean_words))\n",
    "print(len(clean_words[0]))\n",
    "print(len(clean_words[7240]))"
   ]
  },
  {
   "cell_type": "code",
   "execution_count": 40,
   "metadata": {},
   "outputs": [
    {
     "name": "stdout",
     "output_type": "stream",
     "text": [
      "132368\n",
      "471\n",
      "350\n"
     ]
    }
   ],
   "source": [
    "print(len(clean_words_lemmatized))\n",
    "print(len(clean_words_lemmatized[0]))\n",
    "print(len(clean_words_lemmatized[7240]))"
   ]
  },
  {
   "cell_type": "code",
   "execution_count": 41,
   "metadata": {},
   "outputs": [],
   "source": [
    "#creating tf_idf matrix\n",
    "from sklearn.feature_extraction.text import TfidfVectorizer"
   ]
  },
  {
   "cell_type": "code",
   "execution_count": 52,
   "metadata": {},
   "outputs": [],
   "source": [
    "def create_tfidf_matrix(lemmatized_trigrams):\n",
    "    \n",
    "    #convert list of lists to a list of strings\n",
    "    trigram_sentences = [' '.join(doc) for doc in lemmatized_trigrams]\n",
    "\n",
    "    #initializing the tfidfvectorizer\n",
    "    tfidf = TfidfVectorizer(analyzer='word', \n",
    "                            min_df=3,  #ignore terms that appear in less than 3 documents\n",
    "                            max_df=0.95)  #ignore words that appear in 95% of documents\n",
    "    \n",
    "    #fit and transform the trigram sentences into a TF-IDF matrix\n",
    "    tfidf_matrix = tfidf.fit_transform(trigram_sentences)\n",
    "\n",
    "    #return the sparse matrix itself without converting to dense\n",
    "    return tfidf_matrix, tfidf\n"
   ]
  },
  {
   "cell_type": "code",
   "execution_count": 56,
   "metadata": {},
   "outputs": [],
   "source": [
    "#create the TF-IDF matrix using lemmatized trigram words\n",
    "tfidf_matrix, tfidf_vectorizer = create_tfidf_matrix(clean_words_lemmatized)"
   ]
  },
  {
   "cell_type": "code",
   "execution_count": 57,
   "metadata": {},
   "outputs": [
    {
     "name": "stdout",
     "output_type": "stream",
     "text": [
      "  (0, 150089)\t0.03792832593380394\n",
      "  (0, 64182)\t0.14465704162295312\n",
      "  (0, 155065)\t0.03702495624994653\n",
      "  (0, 76330)\t0.03520140513681918\n",
      "  (0, 91015)\t0.040879931005076794\n",
      "  (0, 6508)\t0.04411634635075813\n",
      "  (0, 141416)\t0.06128524602279146\n",
      "  (0, 114497)\t0.04353830782980727\n",
      "  (0, 158610)\t0.0417230307254354\n",
      "  (0, 5898)\t0.045241002275559605\n",
      "  (0, 141410)\t0.03442270267176032\n",
      "  (0, 17267)\t0.07828697113852938\n",
      "  (0, 69785)\t0.06247580988138349\n",
      "  (0, 154662)\t0.09855516157890887\n",
      "  (0, 68329)\t0.04864956287728412\n",
      "  (0, 105119)\t0.03449129229652916\n",
      "  (0, 36754)\t0.09850021415513346\n",
      "  (0, 86413)\t0.06882256296435177\n",
      "  (0, 86410)\t0.055013967292086983\n",
      "  (0, 143791)\t0.029082360133277786\n",
      "  (0, 135215)\t0.02848384013119579\n",
      "  (0, 77669)\t0.025055758922717285\n",
      "  (0, 156063)\t0.0872310050598289\n",
      "  (0, 32312)\t0.05834784779173804\n",
      "  (0, 19911)\t0.09005178218927923\n",
      "  :\t:\n",
      "  (192367, 117602)\t0.035730600826056454\n",
      "  (192367, 144217)\t0.04162523076548479\n",
      "  (192367, 12212)\t0.036414166006587076\n",
      "  (192367, 69273)\t0.03806905139977916\n",
      "  (192367, 19622)\t0.047429342663426216\n",
      "  (192367, 68393)\t0.039950429499284346\n",
      "  (192367, 32369)\t0.04479717826906861\n",
      "  (192367, 78812)\t0.039552652964499266\n",
      "  (192367, 22686)\t0.056347101403859\n",
      "  (192367, 61929)\t0.04245975550605347\n",
      "  (192367, 159437)\t0.05162570943962029\n",
      "  (192367, 1015)\t0.0465120228277961\n",
      "  (192367, 156404)\t0.05564441524331169\n",
      "  (192367, 110444)\t0.2140561183920257\n",
      "  (192367, 628)\t0.13392135890212065\n",
      "  (192367, 64567)\t0.19548139818224416\n",
      "  (192367, 83041)\t0.053937961285124555\n",
      "  (192367, 83515)\t0.17280776831642713\n",
      "  (192367, 139096)\t0.05672670747137153\n",
      "  (192367, 131893)\t0.06728683785000897\n",
      "  (192367, 2383)\t0.06556583258717578\n",
      "  (192367, 64576)\t0.06905131694820384\n",
      "  (192367, 19863)\t0.4014433906949785\n",
      "  (192367, 68439)\t0.07986678462851966\n",
      "  (192367, 105280)\t0.6389342770281573\n"
     ]
    }
   ],
   "source": [
    "print(tfidf_matrix)"
   ]
  },
  {
   "cell_type": "code",
   "execution_count": null,
   "metadata": {},
   "outputs": [],
   "source": [
    "#(index of the doc, index of the term) --> tf-idf score"
   ]
  },
  {
   "cell_type": "code",
   "execution_count": 58,
   "metadata": {},
   "outputs": [
    {
     "name": "stdout",
     "output_type": "stream",
     "text": [
      "        aa  aa_aa  aa_aaa  aa_ab  aa_batterie  aa_milne  aa_na  aaa  \\\n",
      "0        0      0       0      0            0         0      0    0   \n",
      "1        0      0       0      0            0         0      0    0   \n",
      "2        0      0       0      0            0         0      0    0   \n",
      "3        0      0       0      0            0         0      0    0   \n",
      "4        0      0       0      0            0         0      0    0   \n",
      "...     ..    ...     ...    ...          ...       ...    ...  ...   \n",
      "192363   0      0       0      0            0         0      0    0   \n",
      "192364   0      0       0      0            0         0      0    0   \n",
      "192365   0      0       0      0            0         0      0    0   \n",
      "192366   0      0       0      0            0         0      0    0   \n",
      "192367   0      0       0      0            0         0      0    0   \n",
      "\n",
      "        aaa_batterie  aaa_batteries  ...  𝐓𝐨𝐤𝐞𝐧𝐨𝐦𝐢𝐜𝐬  𝐚𝐧𝐝  𝐜𝐨𝐩𝐲  𝐬𝐚𝐦𝐩𝐥𝐞  𝐭𝐡𝐞  \\\n",
      "0                  0              0  ...           0    0     0       0    0   \n",
      "1                  0              0  ...           0    0     0       0    0   \n",
      "2                  0              0  ...           0    0     0       0    0   \n",
      "3                  0              0  ...           0    0     0       0    0   \n",
      "4                  0              0  ...           0    0     0       0    0   \n",
      "...              ...            ...  ...         ...  ...   ...     ...  ...   \n",
      "192363             0              0  ...           0    0     0       0    0   \n",
      "192364             0              0  ...           0    0     0       0    0   \n",
      "192365             0              0  ...           0    0     0       0    0   \n",
      "192366             0              0  ...           0    0     0       0    0   \n",
      "192367             0              0  ...           0    0     0       0    0   \n",
      "\n",
      "        𝗮𝗻𝗱  𝘁𝗵𝗲  𝘸𝘪𝘭𝘭  𝘺𝘰𝘶  𝙔𝙊𝙐  \n",
      "0         0    0     0    0    0  \n",
      "1         0    0     0    0    0  \n",
      "2         0    0     0    0    0  \n",
      "3         0    0     0    0    0  \n",
      "4         0    0     0    0    0  \n",
      "...     ...  ...   ...  ...  ...  \n",
      "192363    0    0     0    0    0  \n",
      "192364    0    0     0    0    0  \n",
      "192365    0    0     0    0    0  \n",
      "192366    0    0     0    0    0  \n",
      "192367    0    0     0    0    0  \n",
      "\n",
      "[192368 rows x 161220 columns]\n"
     ]
    }
   ],
   "source": [
    "#display tf-idf matrix into a readable format\n",
    "import pandas as pd\n",
    "\n",
    "#converting into a dataframe\n",
    "df_tfidf = pd.DataFrame.sparse.from_spmatrix(tfidf_matrix, columns=tfidf_vectorizer.get_feature_names_out())\n",
    "\n",
    "print(df_tfidf)"
   ]
  },
  {
   "cell_type": "code",
   "execution_count": 42,
   "metadata": {},
   "outputs": [],
   "source": [
    "#tokenization (converting each word into a vector)\n",
    "import gensim.corpora as corpora"
   ]
  },
  {
   "cell_type": "code",
   "execution_count": 43,
   "metadata": {},
   "outputs": [],
   "source": [
    "#create a dictionary from preprocessed words to map them to a unique ID\n",
    "id2word = corpora.Dictionary(clean_words_lemmatized)\n",
    "\n",
    "texts = clean_words_lemmatized\n",
    "\n",
    "corpus = [id2word.doc2bow(text) for text in texts] \n",
    "#converts lemmatized words into bag of words format {(word_ID : word_freq)}"
   ]
  },
  {
   "cell_type": "code",
   "execution_count": 44,
   "metadata": {},
   "outputs": [
    {
     "name": "stdout",
     "output_type": "stream",
     "text": [
      "[(0, 1), (1, 1), (2, 1), (3, 1), (4, 1), (5, 1), (6, 1), (7, 1), (8, 2), (9, 3), (10, 1), (11, 1), (12, 2), (13, 1), (14, 1), (15, 2), (16, 1), (17, 7), (18, 1), (19, 2), (20, 1), (21, 4), (22, 2), (23, 1), (24, 1), (25, 1), (26, 1), (27, 1), (28, 1), (29, 2), (30, 1), (31, 1), (32, 2), (33, 5), (34, 1), (35, 1), (36, 1), (37, 1), (38, 1), (39, 1), (40, 3), (41, 1), (42, 1), (43, 1), (44, 1), (45, 1), (46, 1), (47, 1), (48, 1), (49, 1), (50, 8), (51, 1), (52, 2), (53, 1), (54, 4), (55, 2), (56, 1), (57, 1), (58, 1), (59, 1), (60, 1), (61, 1), (62, 1), (63, 1), (64, 1), (65, 1), (66, 1), (67, 1), (68, 1), (69, 1), (70, 1), (71, 2), (72, 1), (73, 1), (74, 2), (75, 1), (76, 2), (77, 1), (78, 2), (79, 4), (80, 1), (81, 1), (82, 1), (83, 1), (84, 1), (85, 6), (86, 1), (87, 1), (88, 1), (89, 1), (90, 2), (91, 1), (92, 3), (93, 1), (94, 2), (95, 2), (96, 1), (97, 1), (98, 5), (99, 1), (100, 2), (101, 1), (102, 1), (103, 1), (104, 1), (105, 1), (106, 1), (107, 1), (108, 1), (109, 2), (110, 4), (111, 2), (112, 1), (113, 1), (114, 1), (115, 4), (116, 3), (117, 1), (118, 1), (119, 1), (120, 1), (121, 1), (122, 1), (123, 1), (124, 2), (125, 1), (126, 1), (127, 1), (128, 2), (129, 1), (130, 1), (131, 1), (132, 1), (133, 1), (134, 2), (135, 1), (136, 1), (137, 1), (138, 1), (139, 1), (140, 1), (141, 1), (142, 1), (143, 1), (144, 1), (145, 1), (146, 1), (147, 1), (148, 2), (149, 4), (150, 1), (151, 2), (152, 1), (153, 2), (154, 1), (155, 1), (156, 2), (157, 2), (158, 1), (159, 1), (160, 1), (161, 2), (162, 4), (163, 1), (164, 1), (165, 1), (166, 1), (167, 1), (168, 2), (169, 1), (170, 1), (171, 1), (172, 1), (173, 1), (174, 1), (175, 1), (176, 2), (177, 1), (178, 2), (179, 1), (180, 2), (181, 1), (182, 1), (183, 1), (184, 1), (185, 1), (186, 2), (187, 2), (188, 1), (189, 1), (190, 2), (191, 1), (192, 1), (193, 2), (194, 1), (195, 1), (196, 1), (197, 1), (198, 11), (199, 1), (200, 2), (201, 1), (202, 1), (203, 1), (204, 3), (205, 1), (206, 1), (207, 1), (208, 1), (209, 2), (210, 1), (211, 4), (212, 1), (213, 1), (214, 1), (215, 1), (216, 1), (217, 1), (218, 1), (219, 2), (220, 4), (221, 2), (222, 1), (223, 1), (224, 1), (225, 2), (226, 1), (227, 1), (228, 1), (229, 1), (230, 1), (231, 2), (232, 1), (233, 2), (234, 1), (235, 1), (236, 1), (237, 1), (238, 1), (239, 1), (240, 2), (241, 1), (242, 1), (243, 3), (244, 1), (245, 1), (246, 2), (247, 1), (248, 1), (249, 1), (250, 2), (251, 1), (252, 1), (253, 1), (254, 5), (255, 3), (256, 1), (257, 3), (258, 1), (259, 1), (260, 1), (261, 1), (262, 1), (263, 1), (264, 1), (265, 1), (266, 1), (267, 1), (268, 1), (269, 1), (270, 1), (271, 1), (272, 2), (273, 1), (274, 1), (275, 1), (276, 1), (277, 1), (278, 1), (279, 2), (280, 1), (281, 1), (282, 1), (283, 2), (284, 1), (285, 1), (286, 1), (287, 3), (288, 1), (289, 1), (290, 1), (291, 1), (292, 1), (293, 1), (294, 1), (295, 1), (296, 1), (297, 13), (298, 1), (299, 1), (300, 1), (301, 1), (302, 1), (303, 1), (304, 1), (305, 2), (306, 1), (307, 1), (308, 2), (309, 1), (310, 1), (311, 1), (312, 5), (313, 2), (314, 1), (315, 3)]\n"
     ]
    }
   ],
   "source": [
    "print(corpus[0])"
   ]
  },
  {
   "cell_type": "code",
   "execution_count": 45,
   "metadata": {},
   "outputs": [],
   "source": [
    "#training the LDA model\n",
    "#getting the top 5 topics\n",
    "num_topics = 5"
   ]
  },
  {
   "cell_type": "code",
   "execution_count": null,
   "metadata": {},
   "outputs": [],
   "source": []
  },
  {
   "cell_type": "code",
   "execution_count": 46,
   "metadata": {},
   "outputs": [],
   "source": [
    "#using gensim lib to build the LDA model\n",
    "lda_model = gensim.models.LdaMulticore(corpus = corpus, \n",
    "                                       id2word = id2word,\n",
    "                                       num_topics = num_topics, \n",
    "                                       random_state = 100, \n",
    "                                       chunksize = 200, #how many docs are processed at once during training\n",
    "                                       passes = 100, #how many times the model will iterate over the entire dataset\n",
    "                                       )"
   ]
  },
  {
   "cell_type": "code",
   "execution_count": 47,
   "metadata": {},
   "outputs": [
    {
     "name": "stdout",
     "output_type": "stream",
     "text": [
      "[(0, '0.012*\"use\" + 0.010*\"user\" + 0.009*\"create\" + 0.008*\"code\" + 0.007*\"need\" + 0.007*\"datum\" + 0.007*\"application\" + 0.007*\"file\" + 0.006*\"app\" + 0.006*\"run\"'), (1, '0.008*\"go\" + 0.008*\"get\" + 0.007*\"time\" + 0.007*\"make\" + 0.007*\"people\" + 0.007*\"know\" + 0.007*\"say\" + 0.006*\"life\" + 0.006*\"feel\" + 0.005*\"take\"'), (2, '0.012*\"work\" + 0.010*\"make\" + 0.009*\"time\" + 0.009*\"get\" + 0.007*\"need\" + 0.007*\"people\" + 0.006*\"good\" + 0.006*\"help\" + 0.006*\"team\" + 0.006*\"well\"'), (3, '0.024*\"datum\" + 0.013*\"model\" + 0.012*\"use\" + 0.009*\"value\" + 0.006*\"number\" + 0.006*\"time\" + 0.005*\"image\" + 0.005*\"feature\" + 0.005*\"function\" + 0.005*\"example\"'), (4, '0.005*\"also\" + 0.005*\"market\" + 0.005*\"system\" + 0.004*\"year\" + 0.004*\"new\" + 0.004*\"people\" + 0.004*\"make\" + 0.004*\"country\" + 0.003*\"company\" + 0.003*\"many\"')]\n"
     ]
    }
   ],
   "source": [
    "print(lda_model.print_topics())"
   ]
  },
  {
   "cell_type": "code",
   "execution_count": 48,
   "metadata": {},
   "outputs": [
    {
     "name": "stdout",
     "output_type": "stream",
     "text": [
      "[(0,\n",
      "  '0.012*\"use\" + 0.010*\"user\" + 0.009*\"create\" + 0.008*\"code\" + 0.007*\"need\" + '\n",
      "  '0.007*\"datum\" + 0.007*\"application\" + 0.007*\"file\" + 0.006*\"app\" + '\n",
      "  '0.006*\"run\"'),\n",
      " (1,\n",
      "  '0.008*\"go\" + 0.008*\"get\" + 0.007*\"time\" + 0.007*\"make\" + 0.007*\"people\" + '\n",
      "  '0.007*\"know\" + 0.007*\"say\" + 0.006*\"life\" + 0.006*\"feel\" + 0.005*\"take\"'),\n",
      " (2,\n",
      "  '0.012*\"work\" + 0.010*\"make\" + 0.009*\"time\" + 0.009*\"get\" + 0.007*\"need\" + '\n",
      "  '0.007*\"people\" + 0.006*\"good\" + 0.006*\"help\" + 0.006*\"team\" + 0.006*\"well\"'),\n",
      " (3,\n",
      "  '0.024*\"datum\" + 0.013*\"model\" + 0.012*\"use\" + 0.009*\"value\" + '\n",
      "  '0.006*\"number\" + 0.006*\"time\" + 0.005*\"image\" + 0.005*\"feature\" + '\n",
      "  '0.005*\"function\" + 0.005*\"example\"'),\n",
      " (4,\n",
      "  '0.005*\"also\" + 0.005*\"market\" + 0.005*\"system\" + 0.004*\"year\" + 0.004*\"new\" '\n",
      "  '+ 0.004*\"people\" + 0.004*\"make\" + 0.004*\"country\" + 0.003*\"company\" + '\n",
      "  '0.003*\"many\"')]\n"
     ]
    }
   ],
   "source": [
    "from pprint import pprint\n",
    "pprint(lda_model.print_topics())  \n",
    "#the number before each word represent the weight(contribution) of each word"
   ]
  },
  {
   "cell_type": "code",
   "execution_count": 52,
   "metadata": {},
   "outputs": [
    {
     "name": "stdout",
     "output_type": "stream",
     "text": [
      "[(1, 0.34220034), (4, 0.65648884)]\n"
     ]
    }
   ],
   "source": [
    "#applies the trained LDA model to the corpus to see the topic distribution of the documents\n",
    "#this shows the percentage of how it relates\n",
    "doc_lda = lda_model[corpus]\n",
    "print(doc_lda[0])"
   ]
  },
  {
   "cell_type": "code",
   "execution_count": 53,
   "metadata": {},
   "outputs": [],
   "source": [
    "#LDA model visualization\n",
    "import pyLDAvis.gensim_models\n",
    "import pyLDAvis"
   ]
  },
  {
   "cell_type": "code",
   "execution_count": 54,
   "metadata": {},
   "outputs": [],
   "source": [
    "pyLDAvis.enable_notebook() #enables to view the visualization in the notebook"
   ]
  },
  {
   "cell_type": "code",
   "execution_count": 55,
   "metadata": {},
   "outputs": [
    {
     "data": {
      "text/html": [
       "\n",
       "<link rel=\"stylesheet\" type=\"text/css\" href=\"https://cdn.jsdelivr.net/gh/bmabey/pyLDAvis@3.4.0/pyLDAvis/js/ldavis.v1.0.0.css\">\n",
       "\n",
       "\n",
       "<div id=\"ldavis_el1949222233213125929171128792\" style=\"background-color:white;\"></div>\n",
       "<script type=\"text/javascript\">\n",
       "\n",
       "var ldavis_el1949222233213125929171128792_data = {\"mdsDat\": {\"x\": [0.1656638500180035, 0.06186064485442756, 0.06980784515512829, -0.1632709294468415, -0.13406141058071797], \"y\": [-0.11426844758048334, -0.012039689818464126, 0.17574344001370185, -0.026679545555947332, -0.02275575705880719], \"topics\": [1, 2, 3, 4, 5], \"cluster\": [1, 1, 1, 1, 1], \"Freq\": [33.52836529171781, 24.622663568349136, 18.619473964619278, 13.425685020496351, 9.803812154817432]}, \"tinfo\": {\"Term\": [\"datum\", \"use\", \"model\", \"user\", \"code\", \"value\", \"create\", \"function\", \"file\", \"team\", \"app\", \"business\", \"company\", \"application\", \"market\", \"feature\", \"image\", \"number\", \"people\", \"feel\", \"life\", \"example\", \"service\", \"product\", \"test\", \"run\", \"work\", \"add\", \"system\", \"set\", \"mother\", \"girl\", \"baby\", \"hair\", \"cry\", \"father\", \"son\", \"church\", \"husband\", \"dad\", \"daughter\", \"murder\", \"anger\", \"spiritual\", \"racism\", \"sexual\", \"fuck\", \"trauma\", \"god\", \"racist\", \"rape\", \"pray\", \"kiss\", \"jewish\", \"gay\", \"prayer\", \"tooth\", \"abortion\", \"darkness\", \"shower\", \"man\", \"boy\", \"smile\", \"wife\", \"bed\", \"laugh\", \"soul\", \"breath\", \"mom\", \"woman\", \"night\", \"sleep\", \"skin\", \"brother\", \"drink\", \"eat\", \"song\", \"kid\", \"die\", \"love\", \"child\", \"body\", \"life\", \"sex\", \"heart\", \"feel\", \"wear\", \"parent\", \"family\", \"m\", \"walk\", \"friend\", \"never\", \"say\", \"tell\", \"black\", \"old\", \"eye\", \"fear\", \"go\", \"know\", \"think\", \"day\", \"s\", \"live\", \"people\", \"back\", \"thing\", \"get\", \"come\", \"even\", \"see\", \"time\", \"take\", \"year\", \"make\", \"want\", \"way\", \"look\", \"good\", \"well\", \"find\", \"much\", \"give\", \"first\", \"marketer\", \"freelancer\", \"freelance\", \"internship\", \"target_audience\", \"recruiter\", \"scrum\", \"lose_weight\", \"burnout\", \"affiliate_markete\", \"esport\", \"brainstorm\", \"graphic_design\", \"coaching\", \"journale\", \"procrastination\", \"ppc\", \"copywriter\", \"growth_mindset\", \"mentorship\", \"carb\", \"side_hustle\", \"soft_skill\", \"headset\", \"fiverr\", \"type_diabete\", \"copywriting\", \"keto\", \"scrum_master\", \"soundbar\", \"marketing\", \"designer\", \"seo\", \"brand\", \"influencer\", \"conversion_rate\", \"immersive\", \"skill\", \"agile\", \"blogge\", \"customer\", \"team\", \"ad\", \"niche\", \"mentor\", \"feedback\", \"hire\", \"product\", \"audience\", \"workshop\", \"podcast\", \"business\", \"online\", \"content\", \"goal\", \"employee\", \"social_media\", \"instagram\", \"design\", \"professional\", \"creative\", \"video\", \"work\", \"learn\", \"company\", \"website\", \"interview\", \"student\", \"career\", \"help\", \"experience\", \"job\", \"success\", \"focus\", \"make\", \"good\", \"get\", \"time\", \"need\", \"start\", \"re\", \"well\", \"people\", \"want\", \"way\", \"new\", \"thing\", \"also\", \"take\", \"go\", \"know\", \"find\", \"think\", \"create\", \"blockchain\", \"bitcoin\", \"fund\", \"crypto\", \"cryptocurrency\", \"trading\", \"decentralize\", \"federal\", \"equity\", \"liquidity\", \"trader\", \"miner\", \"decentralized\", \"legislation\", \"cannabis\", \"cbd\", \"regulatory\", \"nft\", \"defi\", \"stablecoin\", \"democratic\", \"ideas_surface\", \"dynamic_thinking_expert_undiscovered\", \"voices_alike_dive_heart\", \"see_homepage_inbox\", \"valuation\", \"shareholder\", \"coalition\", \"financing\", \"supply_chain\", \"economy\", \"economic\", \"government\", \"voter\", \"biden\", \"inflation\", \"climate_change\", \"currency\", \"democracy\", \"election\", \"regulation\", \"ethereum\", \"governance\", \"vote\", \"tax\", \"vaccine\", \"capital\", \"citizen\", \"trade\", \"investor\", \"policy\", \"sector\", \"political\", \"market\", \"trump\", \"country\", \"exchange\", \"financial\", \"coin\", \"asset\", \"legal\", \"investment\", \"global\", \"bank\", \"risk\", \"covid\", \"public\", \"report\", \"community\", \"technology\", \"token\", \"system\", \"price\", \"state\", \"increase\", \"health\", \"year\", \"company\", \"also\", \"support\", \"high\", \"include\", \"provide\", \"new\", \"world\", \"many\", \"people\", \"power\", \"cost\", \"make\", \"base\", \"service\", \"network\", \"need\", \"case\", \"well\", \"server\", \"javascript\", \"browser\", \"docker\", \"kubernete\", \"aw\", \"const\", \"plugin\", \"android\", \"cache\", \"widget\", \"java\", \"authentication\", \"login\", \"nodejs\", \"apis\", \"microservice\", \"consolelog\", \"io\", \"terraform\", \"username\", \"css\", \"mongodb\", \"devop\", \"ui\", \"graphql\", \"mysql\", \"react_native\", \"vpn\", \"frontend\", \"directory\", \"folder\", \"configure\", \"api\", \"backend\", \"password\", \"install\", \"url\", \"configuration\", \"file\", \"database\", \"container\", \"command\", \"controller\", \"module\", \"code\", \"application\", \"app\", \"interface\", \"instal\", \"user\", \"request\", \"component\", \"web\", \"deploy\", \"device\", \"developer\", \"script\", \"string\", \"query\", \"function\", \"add\", \"use\", \"create\", \"run\", \"name\", \"test\", \"update\", \"object\", \"click\", \"version\", \"type\", \"datum\", \"service\", \"store\", \"need\", \"key\", \"new\", \"let\", \"system\", \"project\", \"build\", \"set\", \"get\", \"follow\", \"also\", \"make\", \"call\", \"go\", \"time\", \"see\", \"dataset\", \"neural_network\", \"dataframe\", \"deep_learne\", \"gradient\", \"variance\", \"linear_regression\", \"df\", \"classifier\", \"logistic_regression\", \"computer_vision\", \"coefficient\", \"tensor\", \"categorical\", \"preprocesse\", \"plotly\", \"pytorch\", \"nlp\", \"sentiment_analysis\", \"decision_tree\", \"histogram\", \"hyperparameter\", \"qubit\", \"batch_size\", \"standard_deviation\", \"pre_traine\", \"object_detection\", \"scatter_plot\", \"random_for\", \"bar_chart\", \"machine_learning\", \"machine_learne\", \"ml\", \"visualization\", \"vector\", \"classification\", \"accuracy\", \"axis\", \"image_author\", \"matrix\", \"panda\", \"prediction\", \"probability\", \"regression\", \"graph\", \"tensorflow\", \"column\", \"model\", \"quantum\", \"plot\", \"datum\", \"predict\", \"algorithm\", \"statistical\", \"calculate\", \"sample\", \"data\", \"score\", \"analysis\", \"output\", \"value\", \"map\", \"variable\", \"training\", \"array\", \"input\", \"image\", \"train\", \"number\", \"use\", \"feature\", \"function\", \"example\", \"result\", \"set\", \"method\", \"point\", \"different\", \"time\", \"base\", \"word\", \"also\", \"show\", \"let\", \"mean\", \"see\", \"well\", \"first\", \"problem\", \"find\", \"make\", \"give\"], \"Freq\": [172454.0, 210922.0, 83808.0, 109062.0, 67438.0, 100490.0, 150531.0, 64381.0, 47795.0, 86853.0, 52111.0, 95284.0, 95068.0, 55974.0, 59448.0, 64066.0, 54702.0, 75613.0, 236332.0, 117039.0, 122794.0, 83755.0, 79735.0, 82734.0, 59921.0, 80823.0, 244745.0, 72211.0, 91972.0, 90807.0, 16603.74186633342, 15769.971764025397, 20595.49591371346, 9393.705290817612, 7361.514079508247, 7262.2833593898185, 7175.182030675402, 6735.76193732978, 6707.463780547423, 6513.0250550521105, 6326.138841740253, 4495.216151392996, 4456.454526485709, 4279.788262513574, 4053.518642929385, 3932.1103191581974, 3549.682686133507, 3404.652795208546, 3316.5815561614995, 3167.4294850756846, 2925.9788946221565, 2881.216271079417, 2818.7370434410914, 2779.069450256445, 2669.229003748732, 2551.2720810298515, 2544.545915790564, 2465.432934188055, 2449.737976989377, 2337.4973760162, 48433.13662425984, 9334.2298698447, 8980.765047992974, 7214.098978429591, 9069.887043649429, 6606.4573822044695, 7966.313806610232, 3528.4399594267734, 9205.440281003597, 49676.468085000575, 23088.107161256128, 19300.48555294591, 9155.917281690885, 5002.280079530809, 8906.13462495478, 19092.72336103743, 12059.145299061305, 20536.2086440756, 14515.72262607746, 61815.862868324926, 42983.41160095259, 34109.67722386619, 100010.78379408341, 11057.599083362216, 18570.901312556703, 92616.17761856853, 11196.006929252831, 22344.254777959035, 37771.77641287204, 60626.70723261988, 22417.353531535347, 36795.133790285465, 50938.32069278521, 110984.72609009942, 52925.869080034696, 25346.828660145115, 33345.822001761684, 19189.680095879914, 16842.019852895173, 133544.3769084046, 112169.74239643339, 85131.59590670539, 84953.03245010485, 82724.18389547439, 50086.767349450434, 116663.81543047047, 49585.59099017186, 80794.88794552, 131430.84160324236, 77444.14001782557, 78668.6759441588, 88101.27466381372, 126146.0547440225, 91019.321558729, 78489.03845702068, 121534.5752769148, 76325.43137781849, 74800.08066493657, 63677.67912592786, 68748.34192622289, 64629.815037124295, 57267.77472185083, 53931.318455981185, 54508.77450234424, 54625.118664335736, 3208.798411423414, 2702.3350177690304, 2598.702213273383, 2068.3033926601943, 1810.6231035843543, 1769.0129514813707, 1420.8389116721796, 1335.1038376629494, 1163.6916224562692, 1130.846686783997, 1414.5777600686415, 1084.958232514196, 996.6626001905291, 931.0431657894997, 923.1790564637529, 883.5063251174453, 864.113856120886, 828.5000199104477, 824.2352114109701, 778.5067920358214, 794.4008928378146, 721.6408795538085, 655.8583966724208, 618.3144262856702, 538.1472892098318, 566.2465470575202, 529.8848018453174, 515.8263795482566, 509.650103112287, 505.7477794964527, 28441.75483177435, 11283.651473855032, 4838.808957577553, 29583.599757018263, 3778.0840022392467, 1075.37961781623, 1092.4135736773233, 25758.76469533506, 3869.473912399538, 1375.3276503834222, 50417.81637266633, 77434.55357386665, 12874.507355530937, 3982.6825429019013, 4935.16489715009, 12278.82131460663, 11687.397113574985, 67539.35872888572, 15905.15049630453, 3696.2314161548616, 6442.507212249839, 73208.12106430402, 30847.847717774443, 39952.85628197453, 32821.95613670771, 19319.743527063616, 15719.169618259773, 6470.2357990556975, 51607.32021129284, 16205.15034455431, 11880.159369078128, 35322.28447743675, 144165.40342087948, 61324.936954754965, 62025.62315846537, 28139.629101214046, 13303.0791841697, 24634.655126780573, 14670.020070512406, 79375.49995594515, 51888.12666711821, 35504.871428272156, 18017.63269558255, 30182.445115255774, 129233.95452050418, 79805.98464686604, 108765.60843959279, 109978.59053972861, 87382.8422216036, 60106.66389769735, 47342.23895981944, 74894.47396864739, 81967.10737884675, 65889.23650126581, 66414.46904644342, 59695.60433044799, 54366.689542512286, 63393.96018958886, 58166.02265241629, 59873.804220157814, 54025.07450452371, 48554.50139769714, 47426.488381054536, 47403.58872800075, 25502.104953537557, 25126.051824640715, 18085.896185870097, 11219.968294825405, 10108.4310511374, 8816.537243114826, 4377.785894767494, 4184.03757771534, 4138.605316504568, 3404.2898781178646, 3413.127466229747, 3084.8600053474515, 2860.3930494116257, 2334.9789945003836, 2324.789333500545, 2081.3877790503725, 2017.1100326017274, 2014.0528349900076, 1951.7436076212423, 1609.9400441185542, 3721.2493403932576, 1452.466544725608, 1449.8901506544435, 1449.8901506544435, 1442.4572870915806, 1453.6541321917957, 1387.8337056790997, 1337.4671539168664, 1325.1891130790189, 1337.403346089894, 12744.32394821708, 15629.874423857103, 29596.522329482712, 4528.865142433627, 2885.9409414468705, 2358.3838142745, 4714.510273612697, 7931.029906996462, 4388.872402665844, 10976.598440212512, 5747.889595748907, 8892.179313203138, 4650.830334395858, 13599.24869625555, 6803.4860141422405, 5876.279650868801, 8613.01340370954, 6898.514779565858, 13125.143208871907, 13064.992427505098, 17066.45880590195, 8050.733934599884, 14226.918535287155, 44885.07140841241, 11667.7517611003, 32955.54701677684, 14287.692973538487, 17711.31131724764, 8280.286469580973, 16429.16527721423, 9337.360399703348, 16297.629183307748, 17836.189629020388, 10042.354985164404, 22472.82170153386, 17350.749477072302, 27051.005260337406, 22527.3573941271, 30835.94079828448, 29803.313020788344, 15855.840659650574, 42718.450385759716, 22724.467798642243, 31213.741907908272, 25506.74591855607, 18937.6972074538, 41925.642081101054, 32426.150482737383, 46344.90741702632, 26971.16847186698, 29264.567075513183, 27180.95228085575, 28153.486962525876, 38192.37319639713, 28852.62265617299, 31663.123154822748, 37264.78970029561, 21562.3370704513, 20485.069391625602, 34216.93170415357, 23682.93156198232, 23813.05708115522, 20849.626771806325, 26929.182105414322, 22551.567906761196, 22785.509984875414, 23480.730458858237, 8150.940282382035, 7215.30316593465, 6483.488175035706, 4952.580250078715, 4793.496159534313, 4735.351350587864, 4614.8524467358175, 4047.3675558888594, 3704.2124537577674, 3547.3054041848713, 3531.41198485017, 3436.5168564757414, 3024.116508570071, 2743.9131281289306, 2643.0015108043176, 2514.178015083126, 2481.401148589082, 2476.3093526903317, 2324.056571856267, 2310.246213443924, 2080.287431805156, 1978.8450920735565, 1974.044065345658, 1794.0936570830106, 1736.3883373016815, 1727.1435649930652, 1693.0692244593156, 1658.636621775785, 1600.4264780561282, 6785.467066405434, 7312.250551749774, 6468.798249691562, 18454.68684802239, 3735.1630858103204, 3942.307670966864, 10949.954953189477, 5139.420043405663, 9741.887920909016, 44377.06057826846, 19421.974247577156, 9741.934224231769, 16375.554644879836, 4294.052824270855, 10744.975636973231, 55472.13406897856, 44582.96439133561, 40611.02455581156, 10209.559328742602, 7515.57001156561, 69002.6744387024, 18821.148609941265, 19779.585011631345, 21936.965121415236, 10485.633865437852, 17253.887867810103, 20872.118975224577, 10602.829929733813, 12378.289246215725, 11129.719363359029, 35420.67949019967, 38193.39779769339, 81964.98671000896, 63175.977314871285, 40066.164724145405, 34306.74711307756, 31577.456613514365, 19277.81081418859, 18853.162256411953, 17420.683423598206, 16705.5278188646, 26121.715028315484, 45188.98855795322, 29487.855150616982, 18828.65916585234, 47347.33554390037, 21250.92567387085, 36531.03003062605, 29413.371154754066, 27552.718433217757, 26084.887405882568, 26010.748722935106, 25565.629387688834, 34993.58078032749, 25052.48183849443, 30283.729218941564, 32262.265491396418, 24440.56066904341, 26302.80339959496, 25844.836854289726, 23705.68612723336, 18841.115037355998, 3400.421034052874, 3044.866507094159, 2899.153178908425, 2456.6852276234936, 2254.6183500978723, 2111.002941047186, 1995.8659640275614, 1808.3699035444506, 1258.457345401736, 1219.8340280306766, 1197.798068836171, 1181.3791258712029, 1091.5057916651454, 1084.2397963818057, 1053.5333550309924, 1042.142655592872, 1034.007720915005, 1011.6302749856511, 989.2142891227229, 966.3184882503517, 944.7555386866843, 912.339586230265, 899.4117308541587, 871.5780905370414, 852.4130698515609, 839.6702491379496, 834.3038857477737, 733.9038486441889, 736.9967857668693, 4705.362267292404, 8612.99432944336, 1504.7399855294113, 8037.53208767897, 5697.4566642763775, 5335.618552162645, 7007.430439176611, 4146.831807497551, 3143.8144196745397, 4992.105963556778, 2044.701933982413, 9892.59175967291, 5979.05262889271, 3431.8140306515975, 9016.555859607259, 1641.3362554512128, 12479.484940868233, 64177.9054500062, 1794.56744956424, 10367.179092178207, 116624.23907364259, 10988.756871708942, 7099.336002705286, 2596.751954091649, 7972.313923803617, 9900.885438761186, 19382.566432461183, 10096.683201515772, 13910.910224506872, 12936.486601973387, 44915.82889046873, 13012.426030938808, 13951.866282392637, 14319.516044564014, 9327.697769433322, 12262.926618505306, 25464.760519866315, 12649.333436823677, 30490.17071687639, 59526.141771523195, 24838.285160077947, 24742.45167528953, 24470.674367653533, 21672.98350963117, 23197.243899880377, 16279.557922529712, 19901.003899648527, 19372.96841301878, 29032.644872126883, 17203.4182983828, 15550.916494071951, 21437.2967723561, 17022.83363713992, 17558.541579244644, 17255.14376045782, 19570.283703566743, 19882.10815704912, 18277.897892404708, 15824.476094546844, 16800.6441863413, 17626.628604197656, 15805.591813637717], \"Total\": [172454.0, 210922.0, 83808.0, 109062.0, 67438.0, 100490.0, 150531.0, 64381.0, 47795.0, 86853.0, 52111.0, 95284.0, 95068.0, 55974.0, 59448.0, 64066.0, 54702.0, 75613.0, 236332.0, 117039.0, 122794.0, 83755.0, 79735.0, 82734.0, 59921.0, 80823.0, 244745.0, 72211.0, 91972.0, 90807.0, 16604.55853007853, 15770.789547237202, 20596.60202128368, 9394.527915647577, 7362.327909356368, 7263.097223721869, 7175.996134725614, 6736.575470063334, 6708.274622139934, 6513.8361030376755, 6326.9510181304395, 4496.032117488281, 4457.272320790129, 4280.600541613387, 4054.3382103879844, 3932.926250904158, 3550.4910450213238, 3405.4666078479136, 3317.397324387954, 3168.247056008061, 2926.7909703225096, 2882.038437515341, 2819.551758726226, 2779.882938161244, 2670.0377620119934, 2552.081804705663, 2545.3654655867686, 2466.250226293115, 2450.552656147697, 2338.3138609548473, 49014.41108134809, 9350.53453256343, 9014.975183352188, 7240.980244167457, 9128.893639410267, 6648.094075080562, 8035.658769320055, 3530.0760878732, 9303.797680141446, 51633.2418846437, 23668.994208835782, 19788.18323733703, 9330.102523357798, 5035.262823608237, 9079.694553055931, 19962.48336930039, 12475.011456753611, 21740.362932570122, 15268.531260202759, 69226.50667553363, 47928.01059049717, 38603.48116398323, 122794.00540707608, 11503.107300679363, 20166.240314971765, 117039.94529619017, 11712.21330573101, 25278.001604420144, 45299.64567781921, 77521.0689281188, 25509.42328834746, 44788.78146882306, 64977.36341359419, 157788.61230064416, 69097.28190579843, 29867.452017607422, 41913.74402958927, 22048.71376184663, 19009.938359420532, 234621.18206206948, 189861.25787733382, 138652.74436110558, 140066.73267941052, 135605.87211907387, 73418.92818683178, 236332.81048198717, 74760.6140348082, 146974.119923623, 293990.5439587801, 141172.94022389207, 144911.6975760106, 181576.37828006633, 313428.4040991191, 198328.9470228787, 159716.66931720154, 334874.3555971666, 173269.00586954813, 181461.98857826053, 140864.95582778408, 176121.64595667936, 199147.32536663988, 142817.74083687254, 108473.02690723514, 133970.02989131524, 149658.55140618057, 3209.6151018561377, 2703.146706540445, 2599.5175932170205, 2069.125618892366, 1811.4402393755704, 1769.8270168871052, 1421.6498869201364, 1335.9313076830824, 1164.5112848819674, 1131.6543059655335, 1415.6011827430768, 1085.784718334625, 997.4751224593041, 931.8570885932543, 924.0010612129149, 884.3279388086887, 864.9247910914651, 829.3106915231389, 825.0435167136731, 779.3245796879755, 795.2438447943426, 722.452429966055, 656.6680871620521, 619.1389960449883, 538.9560133287849, 567.1023948519564, 530.6952944579114, 516.6405292581895, 510.458372761201, 506.5616704685991, 28578.469555868836, 11418.976164999096, 4877.813490927586, 30639.374184276123, 3832.4695155315317, 1079.2160585500285, 1097.2801291380067, 27332.370893879182, 3986.507828492114, 1388.0974621744774, 55639.54187896142, 86853.52957120341, 13710.825585059947, 4134.193873162651, 5184.451312758859, 13460.500937937979, 13047.387591880013, 82734.37704116495, 18121.02299400012, 3961.5628620001594, 7167.4943027133395, 95284.22955111011, 38064.24965685945, 50269.96582247763, 41294.89434868623, 23405.62813787387, 18752.621933087026, 7273.70072024536, 69995.71055108232, 19993.878618422572, 14285.575750585607, 48998.37365632397, 244745.73166916682, 93796.3147853418, 95068.99464593439, 39028.009420585106, 16633.17044050833, 34270.436854014064, 18865.372195009655, 139476.61090484756, 84299.44027550926, 55234.30243751089, 24171.049322630457, 48324.64561318438, 334874.3555971666, 176121.64595667936, 293990.5439587801, 313428.4040991191, 225137.09976645376, 138683.42020743812, 97092.82191813774, 199147.32536663988, 236332.81048198717, 173269.00586954813, 181461.98857826053, 175572.2284508802, 146974.119923623, 212309.9007578094, 198328.9470228787, 234621.18206206948, 189861.25787733382, 142817.74083687254, 138652.74436110558, 150531.453710284, 25502.92134789843, 25126.865220983993, 18086.71928285885, 11220.783446678886, 10109.244185818005, 8817.359467730219, 4378.601527227037, 4184.8527892420925, 4139.425204503501, 3405.100517906358, 3413.9462039800765, 3085.6795654216066, 2861.209679783623, 2335.7916052420396, 2325.608481158638, 2082.2065863836215, 2017.9266767506406, 2014.8730727152833, 1952.5546817991208, 1610.7490242193064, 3723.2689029563476, 1453.2798065513325, 1450.702046560828, 1450.702046560828, 1443.2691860267812, 1454.4769565970507, 1388.6574754278731, 1338.2831727454177, 1326.0077961302256, 1338.2299038887097, 12755.536705273062, 15720.914792014923, 29978.061734101226, 4535.340290252132, 2893.186346847417, 2362.519333935343, 4758.7873875414725, 8100.153795839622, 4443.264552591589, 11323.074720912517, 5852.81369010944, 9177.131982033508, 4735.144631463541, 14370.778055466873, 7059.961132662398, 6062.564660793131, 9159.954270388595, 7271.7659672109585, 14454.621577221144, 14482.837823621034, 19678.276544410393, 8702.306406176498, 16341.164959468442, 59448.973387904225, 13194.850846253024, 42427.35054937531, 16589.224888732, 21270.057797264973, 9018.446570442042, 19716.80220434868, 10364.205926265535, 19982.037182667846, 22503.725194295723, 11376.852546202392, 30247.057891886652, 22362.59223771355, 41990.20754908706, 33250.92425209754, 51596.24957438223, 50600.20332094993, 21173.636656551833, 91972.39538150848, 36715.05223064656, 62088.68003474295, 49231.87836619845, 30339.052578858482, 159716.66931720154, 95068.99464593439, 212309.9007578094, 67666.89436174011, 85339.43371184192, 74717.47705228785, 82062.17547860496, 175572.2284508802, 103888.6663151816, 143284.22553000323, 236332.81048198717, 45225.455281437055, 40120.53389413467, 334874.3555971666, 75559.17295554868, 79735.11141088358, 43628.85024056209, 225137.09976645376, 74528.75602861516, 199147.32536663988, 23481.5462655781, 8151.753015296592, 7216.12106285414, 6484.297107081841, 4953.388682647672, 4794.314009450251, 4736.162963832051, 4615.664571044057, 4048.1859295459913, 3705.0296736534497, 3548.124988493186, 3532.2311679777868, 3437.331942927939, 3024.933494474997, 2744.721598373792, 2643.8203063648675, 2514.9879368073093, 2482.211164579362, 2477.1290481274755, 2324.867347356252, 2311.067112324956, 2081.1042158956916, 1979.6544992915865, 1974.8626403538262, 1794.91882720785, 1737.196873042758, 1727.9539153186836, 1693.87779152721, 1659.4585493774337, 1601.2415021645897, 6800.704892174566, 7338.947962843843, 6502.209894495597, 18791.000401188758, 3745.01471375806, 3970.750787403377, 11166.002834240617, 5208.698945675633, 10005.755826372975, 47795.79199631725, 20748.527612106154, 10296.864222007436, 17982.983859541077, 4412.341431191539, 11669.404649460905, 67438.61737907611, 55974.8252403962, 52111.999579506824, 11678.742941382461, 8395.287646026252, 109062.95094071318, 24322.803023520326, 25841.084515629787, 29292.95828782464, 12465.590410055855, 22726.846662869142, 28587.104205018808, 12717.464583480658, 15493.872391674407, 13800.179418105929, 64381.274546115106, 72211.72815249999, 210922.09192995683, 150531.453710284, 80823.55945586391, 65271.5808101234, 59921.451844331175, 30327.149439761703, 30129.750766435573, 27163.346114684362, 26039.388594511198, 60204.3484003077, 172454.8607849397, 79735.11141088358, 34800.20300952196, 225137.09976645376, 46770.89988936912, 175572.2284508802, 103420.96105014703, 91972.39538150848, 79967.1241738996, 84915.05747901212, 90807.968264261, 293990.5439587801, 85578.13009309805, 212309.9007578094, 334874.3555971666, 93032.38404874185, 234621.18206206948, 313428.4040991191, 181576.37828006633, 18841.927879842766, 3401.231183413201, 3045.6772865653097, 2899.9714988563196, 2457.4995783398176, 2255.4347555345535, 2111.8111520485745, 1996.678919136288, 1809.1798441345138, 1259.265646695015, 1220.6572939132684, 1198.6085077685925, 1182.1899878551826, 1092.3232932746173, 1085.0531840990598, 1054.3472532687276, 1042.9543534004815, 1034.8248184839795, 1012.4445205679646, 990.0249669019705, 967.1304017146562, 945.5640217360743, 913.1490258053495, 900.2252622561749, 872.3914769828531, 853.2226930724577, 840.4811208664242, 835.1132629399966, 734.7122692909363, 737.8117575722766, 4726.432864696007, 8787.519866225, 1511.0438471598438, 8260.598107504771, 5817.990934348205, 5466.433351535239, 7244.126635777397, 4251.501519030183, 3235.4899869582255, 5230.848411624722, 2085.583512892551, 10681.635926288434, 6335.7102120092195, 3594.724623822736, 9983.176542483468, 1675.9797787775915, 14408.993331585914, 83808.78486518437, 1848.248002264222, 12273.341850987541, 172454.8607849397, 13448.573706987587, 8497.413257520207, 2787.4549838734342, 9983.767399480972, 12879.4548737525, 28785.56908413367, 13722.188039309323, 21026.308926213744, 19333.546026963333, 100490.77958645934, 20656.29346504501, 23000.759817228307, 24358.93601536707, 13660.033675214725, 19862.813560252347, 54702.38558729135, 20901.866018801225, 75613.69264970443, 210922.09192995683, 64066.7879086038, 64381.274546115106, 83755.34988965795, 67526.60533594519, 90807.968264261, 43443.63373096399, 78355.63076155169, 94288.87793386904, 313428.4040991191, 75559.17295554868, 57673.13076491991, 212309.9007578094, 86440.03594479345, 103420.96105014703, 96051.92364345396, 181576.37828006633, 199147.32536663988, 149658.55140618057, 71052.27154598216, 142817.74083687254, 334874.3555971666, 133970.02989131524], \"Category\": [\"Default\", \"Default\", \"Default\", \"Default\", \"Default\", \"Default\", \"Default\", \"Default\", \"Default\", \"Default\", \"Default\", \"Default\", \"Default\", \"Default\", \"Default\", \"Default\", \"Default\", \"Default\", \"Default\", \"Default\", \"Default\", \"Default\", \"Default\", \"Default\", \"Default\", \"Default\", \"Default\", \"Default\", \"Default\", \"Default\", \"Topic1\", \"Topic1\", \"Topic1\", \"Topic1\", \"Topic1\", \"Topic1\", \"Topic1\", \"Topic1\", \"Topic1\", \"Topic1\", \"Topic1\", \"Topic1\", \"Topic1\", \"Topic1\", \"Topic1\", \"Topic1\", \"Topic1\", \"Topic1\", \"Topic1\", \"Topic1\", \"Topic1\", \"Topic1\", \"Topic1\", \"Topic1\", \"Topic1\", \"Topic1\", \"Topic1\", \"Topic1\", \"Topic1\", \"Topic1\", \"Topic1\", \"Topic1\", \"Topic1\", \"Topic1\", \"Topic1\", \"Topic1\", \"Topic1\", \"Topic1\", \"Topic1\", \"Topic1\", \"Topic1\", \"Topic1\", \"Topic1\", \"Topic1\", \"Topic1\", \"Topic1\", \"Topic1\", \"Topic1\", \"Topic1\", \"Topic1\", \"Topic1\", \"Topic1\", \"Topic1\", \"Topic1\", \"Topic1\", \"Topic1\", \"Topic1\", \"Topic1\", \"Topic1\", \"Topic1\", \"Topic1\", \"Topic1\", \"Topic1\", \"Topic1\", \"Topic1\", \"Topic1\", \"Topic1\", \"Topic1\", \"Topic1\", \"Topic1\", \"Topic1\", \"Topic1\", \"Topic1\", \"Topic1\", \"Topic1\", \"Topic1\", \"Topic1\", \"Topic1\", \"Topic1\", \"Topic1\", \"Topic1\", \"Topic1\", \"Topic1\", \"Topic1\", \"Topic1\", \"Topic1\", \"Topic1\", \"Topic1\", \"Topic1\", \"Topic1\", \"Topic1\", \"Topic1\", \"Topic1\", \"Topic1\", \"Topic1\", \"Topic2\", \"Topic2\", \"Topic2\", \"Topic2\", \"Topic2\", \"Topic2\", \"Topic2\", \"Topic2\", \"Topic2\", \"Topic2\", \"Topic2\", \"Topic2\", \"Topic2\", \"Topic2\", \"Topic2\", \"Topic2\", \"Topic2\", \"Topic2\", \"Topic2\", \"Topic2\", \"Topic2\", \"Topic2\", \"Topic2\", \"Topic2\", \"Topic2\", \"Topic2\", \"Topic2\", \"Topic2\", \"Topic2\", \"Topic2\", \"Topic2\", \"Topic2\", \"Topic2\", \"Topic2\", \"Topic2\", \"Topic2\", \"Topic2\", \"Topic2\", \"Topic2\", \"Topic2\", \"Topic2\", \"Topic2\", \"Topic2\", \"Topic2\", \"Topic2\", \"Topic2\", \"Topic2\", \"Topic2\", \"Topic2\", \"Topic2\", \"Topic2\", \"Topic2\", \"Topic2\", \"Topic2\", \"Topic2\", \"Topic2\", \"Topic2\", \"Topic2\", \"Topic2\", \"Topic2\", \"Topic2\", \"Topic2\", \"Topic2\", \"Topic2\", \"Topic2\", \"Topic2\", \"Topic2\", \"Topic2\", \"Topic2\", \"Topic2\", \"Topic2\", \"Topic2\", \"Topic2\", \"Topic2\", \"Topic2\", \"Topic2\", \"Topic2\", \"Topic2\", \"Topic2\", \"Topic2\", \"Topic2\", \"Topic2\", \"Topic2\", \"Topic2\", \"Topic2\", \"Topic2\", \"Topic2\", \"Topic2\", \"Topic2\", \"Topic2\", \"Topic2\", \"Topic2\", \"Topic2\", \"Topic2\", \"Topic3\", \"Topic3\", \"Topic3\", \"Topic3\", \"Topic3\", \"Topic3\", \"Topic3\", \"Topic3\", \"Topic3\", \"Topic3\", \"Topic3\", \"Topic3\", \"Topic3\", \"Topic3\", \"Topic3\", \"Topic3\", \"Topic3\", \"Topic3\", \"Topic3\", \"Topic3\", \"Topic3\", \"Topic3\", \"Topic3\", \"Topic3\", \"Topic3\", \"Topic3\", \"Topic3\", \"Topic3\", \"Topic3\", \"Topic3\", \"Topic3\", \"Topic3\", \"Topic3\", \"Topic3\", \"Topic3\", \"Topic3\", \"Topic3\", \"Topic3\", \"Topic3\", \"Topic3\", \"Topic3\", \"Topic3\", \"Topic3\", \"Topic3\", \"Topic3\", \"Topic3\", \"Topic3\", \"Topic3\", \"Topic3\", \"Topic3\", \"Topic3\", \"Topic3\", \"Topic3\", \"Topic3\", \"Topic3\", \"Topic3\", \"Topic3\", \"Topic3\", \"Topic3\", \"Topic3\", \"Topic3\", \"Topic3\", \"Topic3\", \"Topic3\", \"Topic3\", \"Topic3\", \"Topic3\", \"Topic3\", \"Topic3\", \"Topic3\", \"Topic3\", \"Topic3\", \"Topic3\", \"Topic3\", \"Topic3\", \"Topic3\", \"Topic3\", \"Topic3\", \"Topic3\", \"Topic3\", \"Topic3\", \"Topic3\", \"Topic3\", \"Topic3\", \"Topic3\", \"Topic3\", \"Topic3\", \"Topic3\", \"Topic3\", \"Topic3\", \"Topic3\", \"Topic3\", \"Topic3\", \"Topic3\", \"Topic3\", \"Topic3\", \"Topic4\", \"Topic4\", \"Topic4\", \"Topic4\", \"Topic4\", \"Topic4\", \"Topic4\", \"Topic4\", \"Topic4\", \"Topic4\", \"Topic4\", \"Topic4\", \"Topic4\", \"Topic4\", \"Topic4\", \"Topic4\", \"Topic4\", \"Topic4\", \"Topic4\", \"Topic4\", \"Topic4\", \"Topic4\", \"Topic4\", \"Topic4\", \"Topic4\", \"Topic4\", \"Topic4\", \"Topic4\", \"Topic4\", \"Topic4\", \"Topic4\", \"Topic4\", \"Topic4\", \"Topic4\", \"Topic4\", \"Topic4\", \"Topic4\", \"Topic4\", \"Topic4\", \"Topic4\", \"Topic4\", \"Topic4\", \"Topic4\", \"Topic4\", \"Topic4\", \"Topic4\", \"Topic4\", \"Topic4\", \"Topic4\", \"Topic4\", \"Topic4\", \"Topic4\", \"Topic4\", \"Topic4\", \"Topic4\", \"Topic4\", \"Topic4\", \"Topic4\", \"Topic4\", \"Topic4\", \"Topic4\", \"Topic4\", \"Topic4\", \"Topic4\", \"Topic4\", \"Topic4\", \"Topic4\", \"Topic4\", \"Topic4\", \"Topic4\", \"Topic4\", \"Topic4\", \"Topic4\", \"Topic4\", \"Topic4\", \"Topic4\", \"Topic4\", \"Topic4\", \"Topic4\", \"Topic4\", \"Topic4\", \"Topic4\", \"Topic4\", \"Topic4\", \"Topic4\", \"Topic4\", \"Topic4\", \"Topic4\", \"Topic4\", \"Topic4\", \"Topic4\", \"Topic5\", \"Topic5\", \"Topic5\", \"Topic5\", \"Topic5\", \"Topic5\", \"Topic5\", \"Topic5\", \"Topic5\", \"Topic5\", \"Topic5\", \"Topic5\", \"Topic5\", \"Topic5\", \"Topic5\", \"Topic5\", \"Topic5\", \"Topic5\", \"Topic5\", \"Topic5\", \"Topic5\", \"Topic5\", \"Topic5\", \"Topic5\", \"Topic5\", \"Topic5\", \"Topic5\", \"Topic5\", \"Topic5\", \"Topic5\", \"Topic5\", \"Topic5\", \"Topic5\", \"Topic5\", \"Topic5\", \"Topic5\", \"Topic5\", \"Topic5\", \"Topic5\", \"Topic5\", \"Topic5\", \"Topic5\", \"Topic5\", \"Topic5\", \"Topic5\", \"Topic5\", \"Topic5\", \"Topic5\", \"Topic5\", \"Topic5\", \"Topic5\", \"Topic5\", \"Topic5\", \"Topic5\", \"Topic5\", \"Topic5\", \"Topic5\", \"Topic5\", \"Topic5\", \"Topic5\", \"Topic5\", \"Topic5\", \"Topic5\", \"Topic5\", \"Topic5\", \"Topic5\", \"Topic5\", \"Topic5\", \"Topic5\", \"Topic5\", \"Topic5\", \"Topic5\", \"Topic5\", \"Topic5\", \"Topic5\", \"Topic5\", \"Topic5\", \"Topic5\", \"Topic5\", \"Topic5\", \"Topic5\", \"Topic5\", \"Topic5\", \"Topic5\", \"Topic5\", \"Topic5\", \"Topic5\", \"Topic5\", \"Topic5\", \"Topic5\", \"Topic5\", \"Topic5\"], \"logprob\": [30.0, 29.0, 28.0, 27.0, 26.0, 25.0, 24.0, 23.0, 22.0, 21.0, 20.0, 19.0, 18.0, 17.0, 16.0, 15.0, 14.0, 13.0, 12.0, 11.0, 10.0, 9.0, 8.0, 7.0, 6.0, 5.0, 4.0, 3.0, 2.0, 1.0, -6.9216, -6.9731, -6.7062, -7.4912, -7.735, -7.7486, -7.7606, -7.8238, -7.828, -7.8574, -7.8866, -8.2282, -8.2369, -8.2773, -8.3317, -8.3621, -8.4644, -8.5061, -8.5323, -8.5783, -8.6576, -8.673, -8.695, -8.7091, -8.7495, -8.7947, -8.7973, -8.8289, -8.8353, -8.8822, -5.8511, -7.4976, -7.5362, -7.7552, -7.5263, -7.8432, -7.656, -8.4704, -7.5115, -5.8257, -6.5919, -6.7711, -7.5168, -8.1214, -7.5445, -6.7819, -7.2414, -6.7091, -7.056, -5.6071, -5.9704, -6.2017, -5.126, -7.3281, -6.8096, -5.2028, -7.3157, -6.6247, -6.0997, -5.6265, -6.6214, -6.1259, -5.8006, -5.0219, -5.7624, -6.4986, -6.2243, -6.7769, -6.9074, -4.8368, -5.0112, -5.287, -5.2891, -5.3157, -5.8175, -4.9719, -5.8275, -5.3393, -4.8528, -5.3817, -5.366, -5.2528, -4.8938, -5.2202, -5.3683, -4.931, -5.3962, -5.4164, -5.5774, -5.5008, -5.5626, -5.6835, -5.7435, -5.7329, -5.7308, -8.2566, -8.4284, -8.4675, -8.6958, -8.8288, -8.8521, -9.0713, -9.1335, -9.2709, -9.2996, -9.0757, -9.341, -9.4259, -9.494, -9.5025, -9.5464, -9.5686, -9.6107, -9.6158, -9.6729, -9.6527, -9.7487, -9.8443, -9.9033, -10.0421, -9.9912, -10.0576, -10.0845, -10.0966, -10.1042, -6.0747, -6.9992, -7.8459, -6.0353, -8.0933, -9.3498, -9.3341, -6.1737, -8.0694, -9.1038, -5.5022, -5.0731, -6.8673, -8.0406, -7.8261, -6.9146, -6.964, -5.2098, -6.6559, -8.1152, -7.5596, -5.1292, -5.9935, -5.7348, -5.9314, -6.4614, -6.6676, -7.5553, -5.4789, -6.6372, -6.9477, -5.858, -4.4516, -5.3063, -5.295, -6.0853, -6.8345, -6.2184, -6.7367, -5.0483, -5.4734, -5.8529, -6.5312, -6.0153, -4.5609, -5.0429, -4.7333, -4.7222, -4.9522, -5.3264, -5.5651, -5.1064, -5.0162, -5.2345, -5.2266, -5.3333, -5.4268, -5.2732, -5.3592, -5.3303, -5.4331, -5.5398, -5.5633, -5.5638, -5.9043, -5.9192, -6.2479, -6.7254, -6.8297, -6.9664, -7.6665, -7.7118, -7.7227, -7.918, -7.9154, -8.0166, -8.0921, -8.2951, -8.2994, -8.41, -8.4414, -8.4429, -8.4743, -8.6669, -7.829, -8.7698, -8.7716, -8.7716, -8.7767, -8.769, -8.8153, -8.8523, -8.8615, -8.8523, -6.598, -6.3939, -5.7554, -7.6326, -8.0832, -8.2851, -7.5924, -7.0723, -7.664, -6.7473, -7.3942, -6.9579, -7.606, -6.533, -7.2256, -7.3721, -6.9898, -7.2118, -6.5685, -6.5731, -6.3059, -7.0573, -6.4879, -5.339, -6.6862, -5.6479, -6.4837, -6.2689, -7.0292, -6.344, -6.909, -6.352, -6.2618, -6.8362, -6.0308, -6.2894, -5.8453, -6.0283, -5.7144, -5.7484, -6.3795, -5.3884, -6.0196, -5.7022, -5.9041, -6.2019, -5.4072, -5.6641, -5.3069, -5.8483, -5.7667, -5.8405, -5.8054, -5.5004, -5.7809, -5.6879, -5.525, -6.0721, -6.1234, -5.6103, -5.9783, -5.9728, -6.1057, -5.8499, -6.0273, -6.0169, -5.6598, -6.7179, -6.8398, -6.9468, -7.2161, -7.2488, -7.261, -7.2867, -7.418, -7.5066, -7.5498, -7.5543, -7.5816, -7.7094, -7.8066, -7.8441, -7.8941, -7.9072, -7.9093, -7.9727, -7.9787, -8.0835, -8.1335, -8.1359, -8.2315, -8.2642, -8.2696, -8.2895, -8.31, -8.3458, -6.9012, -6.8265, -6.949, -5.9007, -7.4982, -7.4443, -6.4227, -7.1791, -6.5396, -5.0233, -5.8496, -6.5396, -6.0202, -7.3588, -6.4416, -4.8001, -5.0187, -5.112, -6.4927, -6.799, -4.5819, -5.881, -5.8314, -5.7278, -6.466, -5.968, -5.7776, -6.4549, -6.3001, -6.4064, -5.2487, -5.1734, -4.4097, -4.6701, -5.1255, -5.2807, -5.3636, -5.8571, -5.8793, -5.9584, -6.0003, -5.5533, -5.0052, -5.432, -5.8806, -4.9585, -5.7596, -5.2179, -5.4346, -5.4999, -5.5547, -5.5575, -5.5748, -5.2609, -5.595, -5.4054, -5.3421, -5.6198, -5.5463, -5.5639, -5.6503, -5.5656, -7.2777, -7.3882, -7.4372, -7.6028, -7.6886, -7.7545, -7.8105, -7.9092, -8.2717, -8.3029, -8.3211, -8.3349, -8.4141, -8.4207, -8.4495, -8.4603, -8.4682, -8.4901, -8.5125, -8.5359, -8.5585, -8.5934, -8.6076, -8.6391, -8.6613, -8.6764, -8.6828, -8.811, -8.8068, -6.9529, -6.3484, -8.093, -6.4175, -6.7616, -6.8272, -6.5547, -7.0793, -7.3562, -6.8938, -7.7864, -6.2098, -6.7134, -7.2685, -6.3026, -8.0061, -5.9775, -4.34, -7.9169, -6.163, -3.7427, -6.1048, -6.5416, -7.5474, -6.4256, -6.209, -5.5373, -6.1894, -5.869, -5.9416, -4.6968, -5.9357, -5.866, -5.84, -6.2686, -5.995, -5.2643, -5.964, -5.0842, -4.4152, -5.2892, -5.2931, -5.3041, -5.4256, -5.3576, -5.7117, -5.5109, -5.5377, -5.1332, -5.6565, -5.7575, -5.4365, -5.6671, -5.6361, -5.6535, -5.5276, -5.5118, -5.5959, -5.7401, -5.6802, -5.6322, -5.7413], \"loglift\": [30.0, 29.0, 28.0, 27.0, 26.0, 25.0, 24.0, 23.0, 22.0, 21.0, 20.0, 19.0, 18.0, 17.0, 16.0, 15.0, 14.0, 13.0, 12.0, 11.0, 10.0, 9.0, 8.0, 7.0, 6.0, 5.0, 4.0, 3.0, 2.0, 1.0, 1.0927, 1.0927, 1.0927, 1.0927, 1.0927, 1.0927, 1.0927, 1.0927, 1.0927, 1.0927, 1.0926, 1.0926, 1.0926, 1.0926, 1.0926, 1.0926, 1.0926, 1.0925, 1.0925, 1.0925, 1.0925, 1.0925, 1.0925, 1.0925, 1.0925, 1.0925, 1.0925, 1.0924, 1.0924, 1.0924, 1.0808, 1.091, 1.089, 1.0891, 1.0863, 1.0865, 1.0841, 1.0923, 1.0822, 1.0541, 1.0679, 1.0678, 1.0739, 1.0862, 1.0735, 1.0482, 1.0589, 1.0358, 1.0422, 0.9796, 0.9839, 0.969, 0.8875, 1.0533, 1.0104, 0.8587, 1.0477, 0.9694, 0.911, 0.847, 0.9636, 0.8962, 0.8494, 0.7409, 0.8262, 0.9287, 0.8641, 0.9539, 0.9717, 0.5292, 0.5665, 0.605, 0.5928, 0.5985, 0.7104, 0.3868, 0.6822, 0.4944, 0.2877, 0.4923, 0.4819, 0.3696, 0.1826, 0.3139, 0.3823, 0.0792, 0.2729, 0.2066, 0.2988, 0.1521, -0.0326, 0.1789, 0.394, 0.1935, 0.0849, 1.4012, 1.4012, 1.4012, 1.4011, 1.4011, 1.401, 1.4009, 1.4009, 1.4008, 1.4008, 1.4008, 1.4007, 1.4007, 1.4006, 1.4006, 1.4006, 1.4006, 1.4005, 1.4005, 1.4005, 1.4004, 1.4004, 1.4003, 1.4002, 1.4, 1.4, 1.4, 1.3999, 1.3999, 1.3999, 1.3967, 1.3896, 1.3935, 1.3664, 1.3872, 1.3979, 1.3971, 1.3422, 1.3717, 1.3923, 1.303, 1.2867, 1.3386, 1.3642, 1.3522, 1.3096, 1.2914, 1.1986, 1.2711, 1.3322, 1.2949, 1.1379, 1.1913, 1.1718, 1.1719, 1.2097, 1.2251, 1.2845, 1.0967, 1.1914, 1.2171, 1.0742, 0.8722, 0.9766, 0.9744, 1.0744, 1.1781, 1.0714, 1.15, 0.8378, 0.9162, 0.9596, 1.1077, 0.9308, 0.4494, 0.6099, 0.4072, 0.3542, 0.4551, 0.5654, 0.6832, 0.4235, 0.3426, 0.4346, 0.3964, 0.3227, 0.407, 0.1928, 0.1749, 0.0358, 0.1447, 0.3226, 0.3287, 0.246, 1.6809, 1.6809, 1.6809, 1.6809, 1.6809, 1.6809, 1.6808, 1.6808, 1.6808, 1.6807, 1.6807, 1.6807, 1.6807, 1.6806, 1.6806, 1.6806, 1.6806, 1.6806, 1.6805, 1.6805, 1.6804, 1.6804, 1.6804, 1.6804, 1.6804, 1.6804, 1.6804, 1.6804, 1.6803, 1.6803, 1.6801, 1.6752, 1.6682, 1.6795, 1.6785, 1.6792, 1.6716, 1.6599, 1.6686, 1.6499, 1.6629, 1.6494, 1.663, 1.6258, 1.644, 1.6498, 1.6194, 1.6283, 1.5845, 1.5779, 1.5386, 1.6031, 1.5424, 1.3999, 1.558, 1.4283, 1.5316, 1.4979, 1.5956, 1.4985, 1.5766, 1.4771, 1.4485, 1.5562, 1.3839, 1.4272, 1.2412, 1.2916, 1.1662, 1.1516, 1.3917, 0.9141, 1.2012, 0.9933, 1.0234, 1.2097, 0.3435, 0.6053, 0.159, 0.7611, 0.6107, 0.6698, 0.6112, 0.1555, 0.3998, 0.1713, -0.1662, 0.9403, 1.0088, -0.6001, 0.5208, 0.4725, 0.9426, -0.4425, 0.4856, -0.487, 2.008, 2.0079, 2.0079, 2.0079, 2.0078, 2.0078, 2.0078, 2.0078, 2.0078, 2.0078, 2.0078, 2.0078, 2.0078, 2.0077, 2.0077, 2.0077, 2.0077, 2.0077, 2.0077, 2.0077, 2.0076, 2.0076, 2.0076, 2.0076, 2.0075, 2.0075, 2.0075, 2.0075, 2.0075, 2.0075, 2.0058, 2.0044, 2.0028, 1.9899, 2.0054, 2.0008, 1.9885, 1.9946, 1.9813, 1.9338, 1.9419, 1.9526, 1.9144, 1.9808, 1.9255, 1.8127, 1.7805, 1.7586, 1.8736, 1.8973, 1.5502, 1.7516, 1.7407, 1.7188, 1.835, 1.7325, 1.6935, 1.8261, 1.7835, 1.7929, 1.4105, 1.3711, 1.0628, 1.1398, 1.3063, 1.3648, 1.3674, 1.5549, 1.5392, 1.5638, 1.5641, 1.173, 0.6687, 1.0133, 1.3938, 0.4488, 1.2191, 0.4381, 0.7506, 0.8026, 0.8877, 0.8249, 0.7405, -0.1204, 0.7795, 0.0606, -0.3319, 0.6713, -0.1803, -0.4875, -0.028, 2.3224, 2.3222, 2.3221, 2.3221, 2.3221, 2.322, 2.322, 2.322, 2.322, 2.3218, 2.3217, 2.3217, 2.3217, 2.3217, 2.3216, 2.3216, 2.3216, 2.3216, 2.3216, 2.3216, 2.3216, 2.3215, 2.3215, 2.3215, 2.3215, 2.3214, 2.3214, 2.3214, 2.3213, 2.3213, 2.3179, 2.3023, 2.3182, 2.295, 2.3015, 2.2982, 2.2892, 2.2975, 2.2937, 2.2757, 2.3026, 2.2457, 2.2645, 2.276, 2.2206, 2.3015, 2.1786, 2.0555, 2.2929, 2.1536, 1.9312, 2.1204, 2.1426, 2.2515, 2.0974, 2.0594, 1.9269, 2.0156, 1.9093, 1.9206, 1.5171, 1.8603, 1.8225, 1.7911, 1.9409, 1.8401, 1.5578, 1.8202, 1.4142, 1.0573, 1.3749, 1.3661, 1.092, 1.1859, 0.9577, 1.3408, 0.9519, 0.7399, -0.0568, 0.8426, 1.0117, 0.0295, 0.6975, 0.5491, 0.6056, 0.0947, 0.0182, 0.2197, 0.8205, 0.1822, -0.6219, 0.1851]}, \"token.table\": {\"Topic\": [1, 3, 5, 1, 2, 3, 4, 5, 1, 2, 3, 4, 5, 2, 2, 4, 2, 3, 4, 5, 1, 2, 3, 4, 5, 2, 3, 4, 5, 4, 1, 4, 5, 4, 2, 3, 4, 2, 3, 4, 5, 1, 3, 4, 5, 2, 3, 4, 1, 2, 5, 4, 4, 1, 5, 1, 1, 2, 3, 4, 5, 4, 5, 1, 2, 3, 5, 5, 1, 2, 3, 4, 5, 5, 1, 2, 5, 1, 3, 3, 1, 3, 4, 5, 3, 2, 4, 1, 2, 3, 4, 5, 1, 2, 2, 2, 3, 4, 1, 2, 1, 2, 3, 5, 4, 1, 2, 3, 4, 5, 2, 2, 3, 4, 5, 4, 1, 2, 3, 4, 5, 1, 2, 3, 4, 5, 3, 1, 2, 3, 4, 5, 2, 1, 2, 3, 1, 2, 3, 4, 5, 5, 3, 1, 2, 3, 4, 5, 1, 1, 3, 3, 5, 5, 1, 2, 3, 4, 5, 1, 3, 2, 3, 1, 2, 3, 4, 5, 5, 1, 3, 5, 1, 2, 4, 5, 1, 2, 3, 4, 5, 1, 3, 4, 5, 1, 2, 3, 4, 5, 2, 3, 4, 5, 2, 3, 4, 5, 5, 4, 5, 4, 5, 4, 4, 1, 3, 4, 1, 2, 3, 4, 5, 1, 3, 4, 2, 5, 2, 2, 1, 2, 3, 4, 5, 1, 2, 3, 4, 5, 1, 2, 3, 5, 1, 2, 3, 4, 5, 1, 2, 3, 1, 3, 3, 4, 3, 4, 5, 2, 3, 4, 5, 1, 1, 3, 4, 5, 3, 4, 5, 5, 5, 3, 4, 5, 1, 1, 2, 3, 4, 5, 3, 3, 5, 5, 3, 1, 3, 1, 3, 3, 4, 5, 2, 3, 4, 5, 2, 3, 4, 5, 2, 3, 4, 1, 2, 3, 4, 5, 4, 5, 1, 2, 3, 4, 5, 1, 2, 3, 4, 5, 4, 5, 4, 1, 2, 3, 1, 2, 1, 3, 5, 1, 3, 1, 3, 2, 3, 4, 3, 2, 3, 4, 1, 2, 3, 4, 5, 1, 2, 3, 4, 5, 1, 2, 3, 4, 1, 2, 3, 4, 5, 1, 2, 3, 4, 5, 1, 2, 3, 4, 5, 1, 1, 2, 3, 1, 2, 3, 4, 5, 3, 2, 3, 4, 5, 1, 2, 4, 5, 1, 3, 4, 5, 1, 2, 3, 3, 1, 2, 3, 4, 5, 1, 2, 3, 4, 5, 2, 1, 2, 3, 4, 5, 4, 5, 1, 2, 3, 4, 5, 2, 2, 1, 2, 4, 4, 1, 1, 2, 3, 4, 5, 3, 1, 1, 2, 3, 4, 5, 1, 1, 2, 3, 4, 5, 1, 2, 3, 4, 5, 1, 2, 3, 4, 5, 1, 2, 3, 4, 5, 1, 1, 2, 3, 4, 5, 3, 4, 1, 3, 5, 3, 4, 5, 2, 4, 2, 1, 2, 1, 2, 3, 4, 1, 2, 3, 4, 5, 1, 2, 3, 4, 5, 1, 2, 3, 4, 5, 1, 2, 3, 5, 1, 5, 3, 1, 2, 3, 4, 5, 4, 5, 2, 3, 1, 2, 3, 4, 5, 1, 2, 3, 4, 5, 3, 5, 2, 3, 2, 3, 4, 5, 1, 2, 4, 1, 3, 4, 5, 3, 4, 5, 2, 3, 4, 5, 2, 1, 2, 3, 5, 2, 3, 2, 3, 4, 4, 4, 1, 1, 2, 3, 4, 5, 2, 2, 1, 2, 3, 4, 5, 1, 2, 1, 1, 2, 3, 4, 5, 4, 1, 2, 1, 2, 3, 4, 5, 1, 2, 3, 5, 3, 1, 2, 3, 4, 5, 1, 2, 3, 4, 5, 5, 3, 1, 2, 3, 4, 5, 4, 5, 1, 2, 3, 4, 5, 2, 1, 2, 4, 1, 2, 4, 5, 3, 4, 5, 4, 5, 1, 2, 3, 4, 5, 1, 2, 3, 4, 1, 2, 3, 4, 5, 1, 2, 3, 4, 5, 2, 3, 5, 2, 2, 3, 1, 2, 3, 4, 5, 1, 2, 3, 4, 5, 1, 2, 2, 1, 2, 3, 4, 5, 4, 3, 4, 5, 1, 2, 3, 4, 5, 4, 5, 1, 2, 4, 1, 1, 2, 3, 4, 5, 1, 4, 1, 2, 3, 4, 5, 1, 2, 3, 4, 5, 2, 3, 4, 5, 5, 1, 2, 3, 4, 5, 1, 2, 3, 4, 5, 3, 2, 3, 5, 1, 2, 5, 5, 4, 1, 2, 3, 4, 5, 1, 4, 5, 5, 1, 2, 3, 4, 5, 1, 2, 3, 4, 5, 2, 3, 4, 5, 4, 5, 1, 2, 3, 4, 5, 4, 5, 1, 2, 3, 4, 5, 1, 5, 5, 4, 1, 2, 3, 1, 2, 3, 4, 5, 1, 3, 4, 5, 1, 3, 1, 2, 3, 4, 5, 2, 1, 1, 5, 1, 2, 3, 5, 3, 5, 5, 1, 2, 3, 4, 5, 2, 3, 5, 1, 2, 3, 4, 5, 2, 2, 3, 4, 5, 1, 2, 3, 4, 1, 2, 3, 4, 5, 1, 2, 3, 4, 5, 1, 2, 3, 4, 5, 5, 3, 5, 5, 2, 4, 5, 1, 1, 5, 1, 1, 2, 4, 5, 4, 2, 4, 5, 1, 2, 3, 3, 1, 2, 3, 4, 5, 1, 2, 3, 4, 5, 1, 2, 3, 4, 5, 1, 2, 3, 4, 5, 1, 2, 3, 4, 5, 1, 2, 3, 4, 5, 1, 2, 3, 4, 5, 1, 2, 3, 4, 5, 5, 1, 2, 3, 5, 1, 2, 4, 5, 2, 2, 2, 3, 1, 2, 3, 4, 5, 3, 5, 2, 4, 4, 1, 2, 3, 4, 1, 2, 3, 4, 5, 1, 5, 1, 3, 1, 2, 3, 4, 5, 1, 2, 1, 2, 3, 4, 5, 1, 2, 3, 5, 1, 2, 4, 1, 2, 1, 2, 3, 2, 1, 1, 2, 4, 5, 1, 2, 2, 1, 3, 5, 1, 2, 3, 4, 5, 1, 2, 3, 4, 5, 3, 5, 1, 2, 3, 4, 5, 1, 4, 5, 1, 2, 3, 4, 5, 1, 2, 3, 4, 5, 3, 1, 2, 3, 4, 5, 1, 2, 3, 4, 5, 1, 2, 3, 4, 5, 2, 1, 2, 3, 5, 1, 2, 3, 4, 5, 2, 3, 4, 5, 1, 2, 4, 5, 5, 4, 5, 4, 1, 2, 3, 4, 5, 1, 2, 3, 4, 5, 1, 2, 3, 4, 5, 1, 2, 3, 4, 5, 3, 4, 5, 1, 1, 2, 3, 5, 3, 3, 1, 2, 3, 5, 1, 2, 3, 5, 1, 1, 3, 1, 2, 3, 4, 5, 2, 4, 1, 2, 3, 4, 5, 4, 5, 1, 2, 3, 4, 5, 2, 3, 4, 5, 4, 1, 3, 3, 1, 2, 3, 4, 5, 4, 5, 5, 4, 5, 1, 2, 3, 4, 5, 1, 2, 3, 4, 5, 2, 4, 5, 3, 1, 3, 5, 1, 3, 4, 1, 2, 4, 5, 1, 2, 3, 4, 5, 1, 2, 3, 4, 5, 1, 2, 5, 1, 2, 3, 4, 5, 2, 3, 4, 5, 1, 2, 3, 4, 5, 4, 1, 2, 1, 2, 3, 1, 2, 3, 4, 5, 1, 2, 3, 4, 5, 1, 2, 3, 5, 1, 2, 3, 4, 5, 1, 2, 3, 4, 5], \"Freq\": [0.9994930659185407, 0.032578116295543455, 0.9672663596731906, 0.025308468687553713, 0.9390390038969858, 0.02625662457498368, 0.007512312031175886, 0.001969246843123776, 0.12391338954114503, 0.16998623788752293, 0.06516946928706174, 0.5289030047770398, 0.11201781493052326, 0.9994218146282975, 0.9705236177758715, 0.029098149305247116, 0.08637922833168203, 0.05413412129778438, 0.024007305966843508, 0.8354307110716768, 0.23950837817029869, 0.29859182154823827, 0.21828939599414932, 0.14264054522142233, 0.10097032650612967, 0.09202756445700334, 0.2290939421133773, 0.01726408573534481, 0.6615997153288752, 0.9997070466706246, 0.9997145517036968, 0.9821190786006528, 0.01788090004929934, 0.9996897268838988, 0.22050583536846022, 0.00019189438288091568, 0.7793022783176867, 0.048718329861474306, 0.09722227763334916, 0.7964830583843451, 0.05757945623158477, 0.015519727479490824, 0.015300108694403689, 0.2863096894919274, 0.6828680090975963, 0.056195725276161804, 0.833248709893558, 0.11051487849887777, 0.12085410413778021, 0.8777098293659334, 0.0014347975833709065, 0.99990343006336, 0.9997259233651234, 0.02446194586418109, 0.9754200913342209, 0.9999222191465357, 0.6632636802168718, 0.16167603966404487, 0.07661788327919658, 0.08226256671910945, 0.016184992801645925, 0.9973258546298178, 0.002403194830433296, 0.048695366117312115, 0.06416537412570007, 0.8826694342058633, 0.00439488863874658, 0.9988997768550779, 0.05330921240191002, 0.2241422098408014, 0.31343646408004844, 0.18143396048107857, 0.22767586418819713, 0.9986389381552078, 0.993548655320507, 0.004053065076831175, 0.002300388286850126, 0.0024194777524882225, 0.9975161133830015, 0.9999655659002273, 0.8486495595626125, 0.10395931993695158, 0.005390483255990082, 0.04198550312429542, 0.9999638728486882, 0.9905644506013576, 0.00864492611433912, 0.8835990685685721, 0.011527457798681166, 0.020205431647126536, 0.06983826118032455, 0.014843220940773725, 0.9982317018876463, 0.0017111321223700815, 0.999277279997246, 0.9655549693042447, 0.03107113070503113, 0.00336168746073341, 0.9994118858003282, 0.00028328001298195244, 0.9933940243491796, 0.001985993651237864, 0.004170586667599514, 0.0003971987302475728, 0.9998446446720647, 0.06256840845115341, 0.41886564121788533, 0.14678197683703675, 0.30631787544192574, 0.06547719762627763, 0.9995609446738687, 0.7683118218501362, 0.2179689136160731, 0.012352516314031396, 0.0013643391001054218, 0.9997220876095078, 0.00951544604343835, 0.02914731366990063, 0.12309982302511296, 0.03966438561264828, 0.798496166929374, 0.4199290429828379, 0.12015170969007505, 0.09890104498643591, 0.26271497016775136, 0.09830985299923299, 0.999738356149125, 0.009497864010221657, 0.03417047626665952, 0.9402885370119439, 0.008078642951223017, 0.007969472100530815, 0.9984358950999938, 0.22199402994592532, 0.7776151908564289, 0.0003710501933193594, 0.13783941323340623, 0.11305703260047512, 0.3025946118212574, 0.24620027191859933, 0.20031194394641502, 0.9997040315109933, 0.9994205251335233, 0.8968242051031922, 0.0028793183422339184, 0.03949673639020875, 0.054957424010464793, 0.005821230561472922, 0.9999145752814778, 0.051294280052725884, 0.9487379037098013, 0.023781502789838222, 0.9761392222044366, 0.9993478569096715, 0.05139278475140917, 0.2845746605504247, 0.012001466926188675, 0.641342194236604, 0.010712965875830994, 0.009246052915747446, 0.9907986249488455, 0.9990802360107083, 0.99904117994491, 0.0030694579462749337, 0.04116335873845032, 0.007784857110117585, 0.8225554164046527, 0.12541775511880865, 0.9994923215005996, 0.031047475617109046, 0.9181182075345103, 0.05078479940227123, 0.027205231550818883, 6.940110089494613e-05, 0.10660009097463725, 0.8660563380680327, 0.5485753847527601, 0.2719288833902395, 0.09507487751344902, 0.056490995989402173, 0.027930281778835456, 0.06951015525361762, 0.013290341684491688, 0.9106386419465937, 0.006506150531738609, 0.08690554133272366, 0.28810233539494584, 0.5976403373184359, 0.026784892533859073, 0.0005814376092733518, 0.6524314286798081, 0.34107860423647274, 0.006174463106359387, 0.000315560295043921, 0.05197150294476598, 0.04744382919604102, 0.7654477499981169, 0.13513364726963722, 0.9994615246092855, 0.9736395899570353, 0.026284870884695163, 0.9948925219218606, 0.005075197592119555, 0.9995120622303835, 0.9997544502077036, 0.04797577100649499, 0.005924133666793917, 0.9461132816705956, 0.013049541396478874, 0.7947687917889031, 0.005768852141736088, 0.1523175891354249, 0.034115798010611695, 0.005439288952196719, 0.02130388172943715, 0.9731794483638629, 0.996093406397517, 0.002779795552737257, 0.9996253617295489, 0.9986898424290316, 0.00964593345196178, 0.3067008039441594, 0.5105864257453153, 0.067471684378451, 0.10558184522612428, 0.1727894837899073, 0.010794923417784414, 0.7767630920447668, 0.005350322305321097, 0.034317485799768795, 0.1802563833901998, 0.0406482392710721, 0.7758939489465039, 0.0032196625165205623, 0.07107484672666166, 0.31491092945421717, 0.09878998464082489, 0.4196863741287576, 0.09553485099318827, 0.1676516257947687, 0.8316080644851156, 0.0007000067882871343, 0.9999554611855918, 0.9999301789681078, 0.9998769259308475, 0.9994694086498612, 0.9791172118328787, 0.017407076896789296, 0.003456724490142555, 0.9061541180493471, 0.04548923148048113, 0.01906917210619932, 0.029295712095292074, 0.9998716419903034, 0.9997744769342906, 0.04714167699911708, 0.27948031794981354, 0.6733582352792089, 0.02670068982035898, 0.9360664218249316, 0.03720745946086125, 0.9997776236608201, 0.9999507545168052, 0.06170310278044229, 0.2620337855037503, 0.6762581203520629, 0.9998496877678184, 0.606518038758306, 0.28897654157924024, 0.0669966366780213, 0.011366010826024075, 0.026137541227433503, 0.9998626211535129, 0.9995772138644119, 0.9989647060061749, 0.9996649971019705, 0.9997159199666512, 0.012153226385879687, 0.9877872334745547, 0.0002685811919751433, 0.9993906153395082, 0.13773916385179116, 0.8411956156959127, 0.02101785726800774, 0.737288036562435, 0.0715186682239144, 0.14795192331739063, 0.04324550713419673, 0.9881796613769264, 8.75735254676468e-05, 0.01147213183626173, 0.0002627205764029404, 0.22810984817605837, 0.041767084606994895, 0.7301194220412038, 0.01716032170169817, 0.11220210343418036, 0.0965818106031474, 0.7591902324130776, 0.014828277983262266, 0.99956318969421, 0.9996599758079373, 0.9507135789698239, 0.0051740405579096226, 0.0368077315638634, 0.00261976737109348, 0.004715581267968264, 0.227259041252234, 0.326623888997809, 0.08860005743051909, 0.15205398891325736, 0.2054643180035248, 0.9976906964169792, 0.002205653713523167, 0.9997999618061263, 0.9808700004123518, 0.019053504387080266, 0.9995160642652346, 0.956444128056856, 0.04353165805695322, 0.004071009915562123, 0.9942169528161873, 0.0017174573081277706, 0.0008623706123986666, 0.9990955531280552, 0.03055707116027193, 0.9694363298448121, 0.8254424912757329, 0.1517583710668428, 0.022772300613352257, 0.9998972793365034, 0.9995753163034861, 0.9689301643921299, 0.03094648748170995, 0.5428754290780129, 0.2508838182709865, 0.12487604729430553, 0.04882283568784326, 0.032543956622454955, 0.055900906702296874, 0.23505364165914536, 0.13835534106497568, 0.27852549157436596, 0.292172381014931, 0.05515628404202906, 0.05166003871477476, 0.8612819523415423, 0.03188816858823319, 0.2981988957203446, 0.6155201010874866, 0.05781770298913833, 0.020628843967605982, 0.007829233478217337, 0.8703455542702276, 0.09302129920835002, 0.010612863975989227, 0.004263287238217894, 0.021724623267089058, 0.8338255064651623, 0.057969548342092454, 0.10019945922496483, 0.0010816861647991356, 0.006931621545855685, 0.9998489317039175, 0.8859576334004159, 0.06643893189554241, 0.047554073185724736, 0.029250725081978592, 0.20873529696974372, 0.03017163905200887, 0.34414086798690713, 0.3876891726713897, 0.99979622001417, 0.912224593766198, 0.0014115373631043051, 0.06247910117740635, 0.0239218437326098, 0.7913195769668118, 0.19451478674555625, 0.011389273949390603, 0.002776829732597109, 0.007490199137773143, 0.021675548342829542, 0.9284708579244659, 0.04236774651952686, 0.002914895699435867, 0.1643625058907708, 0.8326728666565909, 0.9992399772209736, 0.4009865977743754, 0.33997877095297196, 0.040933289980250726, 0.10047071124300679, 0.117639446623023, 0.36499751926467, 0.24842549691059343, 0.11964568567420011, 0.1447962698849501, 0.12213134383743045, 0.9982261755966313, 0.1240567814606878, 0.6245674358709723, 0.1639329145507204, 0.03712391425195562, 0.05030559395011377, 0.9963280891239076, 0.0035427421112173953, 0.1958677991884736, 0.21739198998343653, 0.13717289671122132, 0.29273834299425133, 0.1568157657266028, 0.9998008887424455, 0.9995757882701407, 0.8215226847734753, 0.1747759091291416, 0.0037062852472454656, 0.9992246627614189, 0.9998616965892613, 0.023174440247083154, 0.014274336854604167, 0.02806716724294856, 0.5501755013350753, 0.38430428994191107, 0.999960231435696, 0.999611330586122, 0.4470585966140044, 0.3699642802635512, 0.01529300888204886, 0.1190310393279399, 0.04865802759290679, 0.9999499360995949, 0.4068745826527102, 0.2991937826133039, 0.09451367600852367, 0.08144358860598655, 0.11798161135608318, 0.008354172403760712, 0.06581132622324264, 0.7925798882631706, 0.09469543293837275, 0.03852695464925818, 0.5691898695006603, 0.255194349775973, 0.0332791776572602, 0.11210837729494301, 0.030227449788074966, 0.03741382619735781, 0.7948198080580441, 0.10323310102222417, 0.012301762917966193, 0.05223406026388401, 0.9998802300872937, 0.39034384232878416, 0.45312999186726816, 0.04644517120860905, 0.046104497581162036, 0.0639785072345485, 0.9822297652949338, 0.017739690450392268, 0.012709293995702113, 0.9872886466950012, 0.9997967127464757, 0.0062104481210122475, 0.09065250886316265, 0.9032195275349586, 0.9995236748780936, 0.9993110320071774, 0.998735197971339, 0.9999438060483382, 0.9981603548601137, 0.2908792216586759, 0.07620541195182536, 0.6242119773112753, 0.00870165603602158, 0.9208955020838747, 0.05266227037925125, 0.015570577117782385, 0.0030248573381679157, 0.00783487638410706, 0.23517204631805394, 0.5690918318495025, 0.09902018632659501, 0.058662165268568565, 0.03804939025669682, 0.1839477872914653, 0.27170323250905887, 0.3429247034708072, 0.03292733356408571, 0.16850357887955605, 0.038475135077033935, 0.8957348678193139, 0.06576029062967155, 0.9988311796292909, 0.9998099925522239, 0.9994035076175606, 0.9991193667278915, 0.1443081488174432, 0.09083698903900117, 0.00029249181417267435, 0.2990728799915595, 0.465519002994197, 0.028125569965231648, 0.9717229886888824, 0.9951879843644351, 0.003645377232104158, 0.11997193098111336, 0.2648777873769762, 0.3637836965637709, 0.16060499461996433, 0.09074182196027986, 0.021713573308101777, 0.298749519378448, 0.5180992650792816, 0.032966444788633475, 0.12847366807646748, 0.9980870700737017, 0.0016931078372751515, 0.9857873584353932, 0.01409013164518561, 0.04037695855963172, 0.012233916371559237, 0.3299633246880627, 0.6173848414174112, 0.10751060980876062, 0.8895059404893623, 0.002887113562639352, 0.013579046342022564, 0.07039663498364329, 0.8952641430407157, 0.020725912837823914, 0.01110513778661718, 0.9806553126085332, 0.008149738214372286, 0.07637808319586237, 0.0036819031137018854, 0.8742379253696803, 0.045724099132948996, 0.9994559929652947, 0.15066279810954752, 0.7997873915607784, 0.043046513745585005, 0.006553170388643528, 0.18436558626742286, 0.8156325529279201, 0.0978399411259663, 0.9021022094641848, 0.99954421101786, 0.9996514475074711, 0.9999076253543037, 0.9996823829704757, 0.18609812284004323, 0.642807067947829, 0.07451890977815137, 0.08992600215453786, 0.006662526433031998, 0.998916601663205, 0.9987602032323921, 0.05332375485396377, 0.2301644831607538, 0.1859703366959811, 0.45436371868547876, 0.07617984705079106, 0.9446024458604683, 0.055380860187768007, 0.9998043097721052, 0.590799835912133, 0.2845498897668984, 0.02480758872377772, 0.05452402515255774, 0.04531730220369076, 0.9999215319708237, 0.9936682491846278, 0.00616718108031634, 0.19344043570926614, 0.653810335089878, 0.0019936817392875203, 0.03856228262568428, 0.11220057018321852, 0.05953181598180764, 0.029331721326530828, 0.9008890856112446, 0.010131022168703083, 0.999661097659456, 0.3721489300543034, 0.16919200732930265, 0.00448651796781326, 0.2844007607484729, 0.16978182973455397, 0.8144615827820925, 0.16052086528699666, 0.018380376082022802, 0.0035832368081923057, 0.0030538950069820786, 0.9996158974500217, 0.9996768031074058, 0.6822082702234745, 0.19065928018424333, 0.10009680312001745, 0.026328360379778707, 0.0007082642212873734, 0.9996914000004621, 0.9989949327226255, 0.45204997670144587, 0.30015272252447994, 0.037220045036679555, 0.1159834247204407, 0.0945941445954139, 0.9993028775673372, 0.8929527570953875, 0.10185404895625044, 0.005185874851126635, 0.7820712593142417, 0.1837951952547432, 0.02947585774544415, 0.004656798532212401, 0.001024179761412736, 0.018776628959233495, 0.9801400316719885, 0.004231521016492076, 0.9954653191297609, 0.3629271634827696, 0.3859178758837557, 0.10217862140856485, 0.09634061092097843, 0.05263765261620751, 0.9881379563985144, 0.0018361946622316664, 0.009527810080690981, 0.0004896519099284444, 0.35463778243586014, 0.3026292659893684, 0.22098036181498484, 0.06028577094267249, 0.061465244812701623, 0.048605041446520336, 0.06104677018332883, 0.03713154062697321, 0.2232733577204699, 0.6299290829702416, 0.2441421470022069, 0.7550172432268194, 0.0008242362686446286, 0.9998083565048712, 0.9952247423326134, 0.00475882726099555, 0.013573323945349646, 0.019882051976286806, 0.0019117357669506544, 0.010323373141533533, 0.9543384948617667, 0.37885758680981935, 0.2267211230546149, 0.13385468517762703, 0.0809249800019985, 0.17964241990666208, 0.0480282261282336, 0.9518847226619791, 0.9995835115477745, 0.016941492614496095, 0.12093831820185122, 0.05151502781418786, 0.43587514150556805, 0.3747384507662995, 0.9996071802998135, 0.9997797679871812, 0.003970764985594292, 0.9960002172199014, 2.3863846769968324e-05, 0.07002845834647205, 0.07637624158728362, 0.08780702419009845, 0.7657669790015135, 0.9207839065291468, 0.07918141736928168, 0.9893809298591772, 0.01053333309355778, 0.9996693871118315, 0.9999663628468339, 0.4971835076209421, 0.30026819504036095, 0.09962845426303094, 0.047477240626872336, 0.05544235439417674, 0.9997704381416079, 0.9994479509492545, 0.3077909214186538, 0.0660624416703452, 0.0297679323203805, 0.5256039393285095, 0.07076586690058545, 0.22150502983174106, 0.3881323872904415, 0.11961156125727315, 0.21030296672167967, 0.06044761176242082, 0.11574909657612235, 0.47789478487369325, 0.26881295141480455, 0.13754659971352678, 0.9996380183096035, 0.7839345477250166, 0.16505748212239985, 0.017282941950904896, 0.025901327963822742, 0.007818107311718333, 0.183628130054861, 0.34000821500480716, 0.21752870791114304, 0.20806821398989228, 0.05076543186039008, 0.9995666859976908, 0.9634284511560685, 0.033863917439580615, 0.0029026214948211955, 0.9754533630069125, 0.02277240829265098, 0.001774473373453323, 0.9992029390199707, 0.9997370959684146, 0.0819163802605825, 0.1495760834270565, 0.2271546250170754, 0.13812313132733672, 0.40323384471184376, 0.06505198184989411, 0.6257270478653335, 0.30919605250694565, 0.9994275649333703, 0.7955862873156639, 0.07882855794670886, 0.04468701241954773, 0.06737646720384559, 0.013527782190007241, 0.017234018952526076, 0.810419232694397, 0.11383384774587728, 0.02188405150526558, 0.03662229027411791, 0.015413623532092734, 0.01044816091772729, 0.3049621622322777, 0.6690960872857437, 0.01917928471947064, 0.9805409312829364, 0.8839306346152339, 0.03762164489433797, 0.003362607587822005, 0.06824115398815246, 0.006843895443449493, 0.9927593573752891, 0.007051563167556595, 0.49364284105144135, 0.34682869396269195, 0.15768017959080746, 4.2313210677796175e-06, 0.0018448559855519134, 0.1552959269888371, 0.8446762198810464, 0.9996706462053645, 0.9998560183406251, 0.09570987726356568, 0.8989194449113027, 0.005441232089328078, 0.3247373513900115, 0.23269546582409428, 0.10886262948936128, 0.07971347992855222, 0.2539830233842648, 0.0037604919228060993, 0.8672507453325525, 0.09772197253454228, 0.031252736926023664, 0.12936654181286508, 0.8706233634681322, 0.3031920831901086, 0.08999356611608388, 0.47676689744348905, 0.0605411262962746, 0.06951837146657683, 0.9989307843861222, 0.9996396864449053, 0.9995761089226574, 0.9985669707540774, 0.029296787048524422, 0.029742931013730378, 0.12387930767218702, 0.8171126722747077, 0.0737714714710191, 0.9261689939883148, 0.9990293709889122, 0.009532874903766314, 0.18695329525557708, 0.6189287123233878, 0.02296061012535715, 0.16159584801155868, 0.015625714669264285, 0.04072155944111299, 0.943698464722537, 0.1862713142314506, 0.3529936405167369, 0.15504078561191234, 0.08298116121712375, 0.2227092766451435, 0.9996291660657805, 0.8163353906248136, 0.10953125319951526, 0.04647403095918519, 0.027642681093278682, 0.06256915048225387, 0.8104980683972214, 0.12373787233660757, 0.0032009797209146666, 1.2505138959672494e-05, 0.4220109244720676, 0.20538440227366103, 0.326196549763057, 0.04640657067934462, 0.028039714845238425, 0.28602702600931607, 0.3430691403902639, 0.24546022430579642, 0.09740175608778388, 0.09423625723626679, 0.045320090351431815, 0.6442216311595281, 0.21126354256834032, 0.004953535887071896, 0.9990849518990261, 0.028675805376265313, 0.9711900122716272, 0.9987416886259763, 0.02188377345324757, 0.8065112534259783, 0.17159197197778225, 0.9999165806179865, 0.9996063892789875, 0.9990305466225251, 0.9997297482701942, 0.45658370128923614, 0.48759526260258096, 0.05127052547918652, 0.004552344769345207, 0.9994817857984792, 0.9995327131526335, 0.045066038974558346, 0.9547323812387917, 0.004100591829970113, 0.01383949742614913, 0.9820917432778421, 0.9995407777887486, 0.04105149046838579, 0.13713904508120087, 0.6774849273123272, 0.09557629062895974, 0.048750524578207596, 0.046458461177656285, 0.06750866659620497, 0.09431478755888807, 0.7738006175439548, 0.01792556555173287, 0.0846777351171871, 0.24525148151027204, 0.2032828383969268, 0.14583881347220332, 0.3209549760746408, 0.09290159757170112, 0.14143524356289586, 0.7429813531063484, 0.008529755221885725, 0.014150136569639885, 0.2702924759448345, 0.12190752382516043, 0.06436242148974775, 0.49572179534952576, 0.047721234080345454, 0.6100325797644003, 0.3013512568549903, 0.01277230825578963, 0.05937795962795502, 0.0164594642187774, 0.020497761946277324, 0.05116676182801801, 0.01910018726812205, 0.14045625515460483, 0.7687437160230749, 0.7033777557314059, 0.1515952238329074, 0.1004952117189972, 0.02310052637420349, 0.021433739423197862, 0.9986669317930871, 0.0862107410721318, 0.13525539765839106, 0.04270455982102218, 0.7358155981448138, 0.09349347837338982, 0.03876558859384457, 0.8337353668570667, 0.03404766706112514, 0.9995428642972397, 0.9991020369423631, 0.0748077543601487, 0.9251570358733598, 0.4852007779564344, 0.1979717865313668, 0.0784903858915915, 0.1305566298025588, 0.10777833650704784, 0.9991206172493191, 0.9995609432823883, 0.992042850551835, 0.007790375763787917, 0.999976736388144, 0.006910381013461409, 0.3246123262639231, 0.298651366739667, 0.3698245287204175, 0.1600410214851124, 0.23847026217987402, 0.06449874512064291, 0.2815391698402521, 0.2554511508559934, 0.9613054725958198, 0.03868519943074153, 0.9997644881075649, 0.9995265388049198, 0.38617522118245534, 0.20419935978824838, 0.08239237665922072, 0.13030998745990766, 0.19693420778853052, 0.9994381160815123, 0.9993737581226265, 0.04061118606613719, 0.9424356233131783, 0.007427090785068333, 0.003109865599659154, 0.006402664469886494, 0.9813396987951702, 0.010825175794922695, 0.006645157418665417, 0.0011789795420212837, 0.9753295574696362, 0.014958422228549862, 0.009702760364464776, 0.9962312504847568, 0.0037715023401048583, 0.08206852383050482, 0.8382294516515304, 0.07966885939101638, 0.9989826105834694, 0.9998611851641345, 0.9666524188618364, 0.0027254483988143658, 0.0044889738333413086, 0.026132240529808334, 0.9913312932617285, 0.008586725989839224, 0.9988912100908078, 0.9998597062240336, 0.9995349839062175, 0.9995512599639247, 0.30064877212888164, 0.43341157803934977, 0.043040472978469704, 0.16586697938075703, 0.05704358883107285, 0.1876992713241572, 0.01683076527662127, 0.5027325429133553, 0.1847840861422735, 0.10795848770257643, 0.06816253575366332, 0.9316742386961245, 0.0976143730848501, 0.1567232236693472, 0.12508547719704224, 0.5410600620590647, 0.07953976588132619, 0.06002372915500021, 0.798896472559777, 0.14102349269212416, 0.13784475582039982, 0.7188411430219199, 0.13057901826763108, 2.9179668886621472e-05, 0.012722335634566961, 0.09556887535855685, 0.7454372277967434, 0.11021449521869932, 0.04004790967406192, 0.008770823193079676, 0.9990809472384858, 0.10630013491600453, 0.24226026854970975, 0.3985848656776808, 0.22226526194031812, 0.030591030067583676, 0.027693091926494363, 0.11706773489303683, 0.4644654499081218, 0.2995790191797013, 0.09117953235005172, 0.45892947734704753, 0.29328043572625895, 0.10463928897684305, 0.06972255037689903, 0.07342347256207721, 0.9997569672098473, 0.011473150981704329, 0.022379726606287457, 0.9636030386238833, 0.002407945267765106, 0.0012665000552432458, 0.8915584707069157, 0.06729720748087974, 0.039491774449857575, 0.0003799500165729737, 0.3405519912775817, 0.5889897281827859, 0.056106493920441876, 0.01434776843474491, 0.7659635594950749, 0.1727709060433852, 0.0371360483252912, 0.024125406297061745, 0.9989934038797422, 0.020286640943125555, 0.979128758460854, 0.99962692608796, 0.0632327803045122, 0.11041120994844356, 0.05941111055266915, 0.5269732128993353, 0.2399808341987029, 0.5497226317258179, 0.36990866166269626, 0.0012791367629736217, 0.06324242665872241, 0.01584632723917854, 0.6139943381018353, 0.34204876519778277, 0.009296606467759077, 0.01679735955268494, 0.017864774414770544, 0.40247150019022326, 0.3508903422971839, 0.07155063072365313, 0.08245902305595358, 0.09263040496744052, 0.7488557708433908, 0.21512601136425613, 0.035988149431298175, 0.9998564192090647, 0.03721992977303726, 0.036874019645035054, 0.9080140860057881, 0.017848962604913778, 0.9997228415670483, 0.9999592318163352, 0.21945409064788732, 0.13515539700899973, 0.04023564208303319, 0.6051612802714469, 0.04889376117448833, 0.299643629565567, 0.06363167911037525, 0.5878746095874667, 0.9998629826976314, 0.11565117467268242, 0.8842843421237605, 0.10323174596418745, 0.17774463613238453, 0.06202209805796877, 0.43388892487152125, 0.22312341810730973, 0.9980560920532804, 0.9994880953980079, 0.0015497664920125546, 0.16671530603437182, 0.10076779573596524, 0.635668051766341, 0.0952941523811975, 0.9866187417620866, 0.0132470700878739, 0.10181484454047343, 0.12472377719796203, 0.10264453477537833, 0.38860320059417486, 0.28221794813113954, 0.2714212273248658, 0.06908853955451874, 0.6326896476284615, 0.026810204334095925, 0.9995382599149696, 0.03068008514661626, 0.9692267759221352, 0.9996720768968616, 0.016439319177324795, 0.19132103541358747, 0.1675775635267249, 0.17768794384401426, 0.4469663802474095, 0.39337830888624636, 0.6065886566733985, 0.9998072409173058, 0.020625676690478326, 0.9792040008804587, 0.18218553722109976, 0.09186083579950897, 0.025499830673442293, 0.6415665229375406, 0.058910753393163366, 0.16502588548582123, 0.7208810693952731, 0.0003061326097313033, 0.0536548420655731, 0.060104035710579214, 0.013437283663413702, 0.013558340272994004, 0.9730530278064805, 0.9995160642652346, 0.03312277165250089, 0.9462953187024361, 0.020527768145982693, 0.0013229437299106046, 0.9986020254608547, 0.9997236753050531, 0.8787732966993393, 0.07456068208601255, 0.021913470707718725, 0.024735957095832765, 0.4405000168204581, 0.3802699719395108, 0.004005332612818839, 0.1326434574069386, 0.0425811873449242, 0.41220754046647307, 0.3659940052478655, 0.07491927155938104, 0.09154534307792848, 0.05532839179523248, 0.955925213086888, 0.04294662220281392, 0.001109952462498173, 0.0031748244436839495, 0.22800701569209783, 0.014918261095590172, 0.748883051839729, 0.005052408792099189, 0.7210206315354047, 0.044762723642229996, 0.23162851844634183, 0.002587884995915987, 0.3245336078755416, 0.3760733409907289, 0.11441780580306499, 0.0851379749579113, 0.0998356365740603, 0.9996829343676352, 0.996273951418499, 0.0035906740694317952, 0.9620933760266988, 3.873473613119811e-05, 0.03784383720018056, 0.5139481697433591, 0.18625657836723333, 0.0035198366606356696, 0.02663285276224822, 0.2696402951209128, 0.20105355735688657, 0.5890398946563609, 0.09115991460949653, 0.08295956730900532, 0.03578407656088793, 0.03761141882392626, 0.932965127337124, 0.02549498859876881, 0.0037863844453617044, 0.45994430090221794, 0.2028517714922324, 0.2777300067792247, 0.02380432907375395, 0.03567280369888077, 0.49142647624412183, 0.22222476934771263, 0.26250234355146645, 0.0009516852602161642, 0.02289679603033232], \"Term\": [\"abortion\", \"accuracy\", \"accuracy\", \"ad\", \"ad\", \"ad\", \"ad\", \"ad\", \"add\", \"add\", \"add\", \"add\", \"add\", \"affiliate_markete\", \"agile\", \"agile\", \"algorithm\", \"algorithm\", \"algorithm\", \"algorithm\", \"also\", \"also\", \"also\", \"also\", \"also\", \"analysis\", \"analysis\", \"analysis\", \"analysis\", \"android\", \"anger\", \"api\", \"api\", \"apis\", \"app\", \"app\", \"app\", \"application\", \"application\", \"application\", \"application\", \"array\", \"array\", \"array\", \"array\", \"asset\", \"asset\", \"asset\", \"audience\", \"audience\", \"audience\", \"authentication\", \"aw\", \"axis\", \"axis\", \"baby\", \"back\", \"back\", \"back\", \"back\", \"back\", \"backend\", \"backend\", \"bank\", \"bank\", \"bank\", \"bank\", \"bar_chart\", \"base\", \"base\", \"base\", \"base\", \"base\", \"batch_size\", \"bed\", \"bed\", \"bed\", \"biden\", \"biden\", \"bitcoin\", \"black\", \"black\", \"black\", \"black\", \"blockchain\", \"blogge\", \"blogge\", \"body\", \"body\", \"body\", \"body\", \"body\", \"boy\", \"boy\", \"brainstorm\", \"brand\", \"brand\", \"brand\", \"breath\", \"breath\", \"brother\", \"brother\", \"brother\", \"brother\", \"browser\", \"build\", \"build\", \"build\", \"build\", \"build\", \"burnout\", \"business\", \"business\", \"business\", \"business\", \"cache\", \"calculate\", \"calculate\", \"calculate\", \"calculate\", \"calculate\", \"call\", \"call\", \"call\", \"call\", \"call\", \"cannabis\", \"capital\", \"capital\", \"capital\", \"capital\", \"capital\", \"carb\", \"career\", \"career\", \"career\", \"case\", \"case\", \"case\", \"case\", \"case\", \"categorical\", \"cbd\", \"child\", \"child\", \"child\", \"child\", \"child\", \"church\", \"citizen\", \"citizen\", \"classification\", \"classification\", \"classifier\", \"click\", \"click\", \"click\", \"click\", \"click\", \"climate_change\", \"climate_change\", \"coaching\", \"coalition\", \"code\", \"code\", \"code\", \"code\", \"code\", \"coefficient\", \"coin\", \"coin\", \"coin\", \"column\", \"column\", \"column\", \"column\", \"come\", \"come\", \"come\", \"come\", \"come\", \"command\", \"command\", \"command\", \"command\", \"community\", \"community\", \"community\", \"community\", \"community\", \"company\", \"company\", \"company\", \"company\", \"component\", \"component\", \"component\", \"component\", \"computer_vision\", \"configuration\", \"configuration\", \"configure\", \"configure\", \"consolelog\", \"const\", \"container\", \"container\", \"container\", \"content\", \"content\", \"content\", \"content\", \"content\", \"controller\", \"controller\", \"controller\", \"conversion_rate\", \"conversion_rate\", \"copywriter\", \"copywriting\", \"cost\", \"cost\", \"cost\", \"cost\", \"cost\", \"country\", \"country\", \"country\", \"country\", \"country\", \"covid\", \"covid\", \"covid\", \"covid\", \"create\", \"create\", \"create\", \"create\", \"create\", \"creative\", \"creative\", \"creative\", \"cry\", \"crypto\", \"cryptocurrency\", \"css\", \"currency\", \"currency\", \"currency\", \"customer\", \"customer\", \"customer\", \"customer\", \"dad\", \"darkness\", \"data\", \"data\", \"data\", \"database\", \"database\", \"database\", \"dataframe\", \"dataset\", \"datum\", \"datum\", \"datum\", \"daughter\", \"day\", \"day\", \"day\", \"day\", \"day\", \"decentralize\", \"decentralized\", \"decision_tree\", \"deep_learne\", \"defi\", \"democracy\", \"democracy\", \"democratic\", \"democratic\", \"deploy\", \"deploy\", \"deploy\", \"design\", \"design\", \"design\", \"design\", \"designer\", \"designer\", \"designer\", \"designer\", \"developer\", \"developer\", \"developer\", \"device\", \"device\", \"device\", \"device\", \"device\", \"devop\", \"df\", \"die\", \"die\", \"die\", \"die\", \"die\", \"different\", \"different\", \"different\", \"different\", \"different\", \"directory\", \"directory\", \"docker\", \"drink\", \"drink\", \"dynamic_thinking_expert_undiscovered\", \"eat\", \"eat\", \"economic\", \"economic\", \"economic\", \"economy\", \"economy\", \"election\", \"election\", \"employee\", \"employee\", \"employee\", \"equity\", \"esport\", \"ethereum\", \"ethereum\", \"even\", \"even\", \"even\", \"even\", \"even\", \"example\", \"example\", \"example\", \"example\", \"example\", \"exchange\", \"exchange\", \"exchange\", \"exchange\", \"experience\", \"experience\", \"experience\", \"experience\", \"experience\", \"eye\", \"eye\", \"eye\", \"eye\", \"eye\", \"family\", \"family\", \"family\", \"family\", \"family\", \"father\", \"fear\", \"fear\", \"fear\", \"feature\", \"feature\", \"feature\", \"feature\", \"feature\", \"federal\", \"feedback\", \"feedback\", \"feedback\", \"feedback\", \"feel\", \"feel\", \"feel\", \"feel\", \"file\", \"file\", \"file\", \"file\", \"financial\", \"financial\", \"financial\", \"financing\", \"find\", \"find\", \"find\", \"find\", \"find\", \"first\", \"first\", \"first\", \"first\", \"first\", \"fiverr\", \"focus\", \"focus\", \"focus\", \"focus\", \"focus\", \"folder\", \"folder\", \"follow\", \"follow\", \"follow\", \"follow\", \"follow\", \"freelance\", \"freelancer\", \"friend\", \"friend\", \"friend\", \"frontend\", \"fuck\", \"function\", \"function\", \"function\", \"function\", \"function\", \"fund\", \"gay\", \"get\", \"get\", \"get\", \"get\", \"get\", \"girl\", \"give\", \"give\", \"give\", \"give\", \"give\", \"global\", \"global\", \"global\", \"global\", \"global\", \"go\", \"go\", \"go\", \"go\", \"go\", \"goal\", \"goal\", \"goal\", \"goal\", \"goal\", \"god\", \"good\", \"good\", \"good\", \"good\", \"good\", \"governance\", \"governance\", \"government\", \"government\", \"gradient\", \"graph\", \"graph\", \"graph\", \"graphic_design\", \"graphql\", \"growth_mindset\", \"hair\", \"headset\", \"health\", \"health\", \"health\", \"health\", \"heart\", \"heart\", \"heart\", \"heart\", \"heart\", \"help\", \"help\", \"help\", \"help\", \"help\", \"high\", \"high\", \"high\", \"high\", \"high\", \"hire\", \"hire\", \"hire\", \"histogram\", \"husband\", \"hyperparameter\", \"ideas_surface\", \"image\", \"image\", \"image\", \"image\", \"image\", \"image_author\", \"image_author\", \"immersive\", \"immersive\", \"include\", \"include\", \"include\", \"include\", \"include\", \"increase\", \"increase\", \"increase\", \"increase\", \"increase\", \"inflation\", \"inflation\", \"influencer\", \"influencer\", \"input\", \"input\", \"input\", \"input\", \"instagram\", \"instagram\", \"instagram\", \"instal\", \"instal\", \"instal\", \"instal\", \"install\", \"install\", \"install\", \"interface\", \"interface\", \"interface\", \"interface\", \"internship\", \"interview\", \"interview\", \"interview\", \"interview\", \"investment\", \"investment\", \"investor\", \"investor\", \"io\", \"java\", \"javascript\", \"jewish\", \"job\", \"job\", \"job\", \"job\", \"job\", \"journale\", \"keto\", \"key\", \"key\", \"key\", \"key\", \"key\", \"kid\", \"kid\", \"kiss\", \"know\", \"know\", \"know\", \"know\", \"know\", \"kubernete\", \"laugh\", \"laugh\", \"learn\", \"learn\", \"learn\", \"learn\", \"learn\", \"legal\", \"legal\", \"legal\", \"legal\", \"legislation\", \"let\", \"let\", \"let\", \"let\", \"let\", \"life\", \"life\", \"life\", \"life\", \"life\", \"linear_regression\", \"liquidity\", \"live\", \"live\", \"live\", \"live\", \"live\", \"login\", \"logistic_regression\", \"look\", \"look\", \"look\", \"look\", \"look\", \"lose_weight\", \"love\", \"love\", \"love\", \"m\", \"m\", \"m\", \"m\", \"machine_learne\", \"machine_learne\", \"machine_learne\", \"machine_learning\", \"machine_learning\", \"make\", \"make\", \"make\", \"make\", \"make\", \"man\", \"man\", \"man\", \"man\", \"many\", \"many\", \"many\", \"many\", \"many\", \"map\", \"map\", \"map\", \"map\", \"map\", \"market\", \"market\", \"market\", \"marketer\", \"marketing\", \"marketing\", \"matrix\", \"matrix\", \"matrix\", \"matrix\", \"matrix\", \"mean\", \"mean\", \"mean\", \"mean\", \"mean\", \"mentor\", \"mentor\", \"mentorship\", \"method\", \"method\", \"method\", \"method\", \"method\", \"microservice\", \"miner\", \"ml\", \"ml\", \"model\", \"model\", \"model\", \"model\", \"model\", \"module\", \"module\", \"mom\", \"mom\", \"mongodb\", \"mother\", \"much\", \"much\", \"much\", \"much\", \"much\", \"murder\", \"mysql\", \"name\", \"name\", \"name\", \"name\", \"name\", \"need\", \"need\", \"need\", \"need\", \"need\", \"network\", \"network\", \"network\", \"network\", \"neural_network\", \"never\", \"never\", \"never\", \"never\", \"never\", \"new\", \"new\", \"new\", \"new\", \"new\", \"nft\", \"niche\", \"niche\", \"niche\", \"night\", \"night\", \"night\", \"nlp\", \"nodejs\", \"number\", \"number\", \"number\", \"number\", \"number\", \"object\", \"object\", \"object\", \"object_detection\", \"old\", \"old\", \"old\", \"old\", \"old\", \"online\", \"online\", \"online\", \"online\", \"online\", \"output\", \"output\", \"output\", \"output\", \"panda\", \"panda\", \"parent\", \"parent\", \"parent\", \"parent\", \"parent\", \"password\", \"password\", \"people\", \"people\", \"people\", \"people\", \"people\", \"plot\", \"plot\", \"plotly\", \"plugin\", \"podcast\", \"podcast\", \"podcast\", \"point\", \"point\", \"point\", \"point\", \"point\", \"policy\", \"policy\", \"policy\", \"policy\", \"political\", \"political\", \"power\", \"power\", \"power\", \"power\", \"power\", \"ppc\", \"pray\", \"prayer\", \"pre_traine\", \"predict\", \"predict\", \"predict\", \"predict\", \"prediction\", \"prediction\", \"preprocesse\", \"price\", \"price\", \"price\", \"price\", \"price\", \"probability\", \"probability\", \"probability\", \"problem\", \"problem\", \"problem\", \"problem\", \"problem\", \"procrastination\", \"product\", \"product\", \"product\", \"product\", \"professional\", \"professional\", \"professional\", \"professional\", \"project\", \"project\", \"project\", \"project\", \"project\", \"provide\", \"provide\", \"provide\", \"provide\", \"provide\", \"public\", \"public\", \"public\", \"public\", \"public\", \"pytorch\", \"quantum\", \"quantum\", \"qubit\", \"query\", \"query\", \"query\", \"racism\", \"racist\", \"random_for\", \"rape\", \"re\", \"re\", \"re\", \"re\", \"react_native\", \"recruiter\", \"regression\", \"regression\", \"regulation\", \"regulation\", \"regulation\", \"regulatory\", \"report\", \"report\", \"report\", \"report\", \"report\", \"request\", \"request\", \"request\", \"request\", \"request\", \"result\", \"result\", \"result\", \"result\", \"result\", \"risk\", \"risk\", \"risk\", \"risk\", \"risk\", \"run\", \"run\", \"run\", \"run\", \"run\", \"s\", \"s\", \"s\", \"s\", \"s\", \"sample\", \"sample\", \"sample\", \"sample\", \"sample\", \"say\", \"say\", \"say\", \"say\", \"say\", \"scatter_plot\", \"score\", \"score\", \"score\", \"score\", \"script\", \"script\", \"script\", \"script\", \"scrum\", \"scrum_master\", \"sector\", \"sector\", \"see\", \"see\", \"see\", \"see\", \"see\", \"see_homepage_inbox\", \"sentiment_analysis\", \"seo\", \"seo\", \"server\", \"service\", \"service\", \"service\", \"service\", \"set\", \"set\", \"set\", \"set\", \"set\", \"sex\", \"sex\", \"sexual\", \"shareholder\", \"show\", \"show\", \"show\", \"show\", \"show\", \"shower\", \"side_hustle\", \"skill\", \"skill\", \"skill\", \"skill\", \"skill\", \"skin\", \"skin\", \"skin\", \"skin\", \"sleep\", \"sleep\", \"sleep\", \"smile\", \"smile\", \"social_media\", \"social_media\", \"social_media\", \"soft_skill\", \"son\", \"song\", \"song\", \"song\", \"song\", \"soul\", \"soul\", \"soundbar\", \"spiritual\", \"stablecoin\", \"standard_deviation\", \"start\", \"start\", \"start\", \"start\", \"start\", \"state\", \"state\", \"state\", \"state\", \"state\", \"statistical\", \"statistical\", \"store\", \"store\", \"store\", \"store\", \"store\", \"string\", \"string\", \"string\", \"student\", \"student\", \"student\", \"student\", \"student\", \"success\", \"success\", \"success\", \"success\", \"success\", \"supply_chain\", \"support\", \"support\", \"support\", \"support\", \"support\", \"system\", \"system\", \"system\", \"system\", \"system\", \"take\", \"take\", \"take\", \"take\", \"take\", \"target_audience\", \"tax\", \"tax\", \"tax\", \"tax\", \"team\", \"team\", \"team\", \"team\", \"team\", \"technology\", \"technology\", \"technology\", \"technology\", \"tell\", \"tell\", \"tell\", \"tell\", \"tensor\", \"tensorflow\", \"tensorflow\", \"terraform\", \"test\", \"test\", \"test\", \"test\", \"test\", \"thing\", \"thing\", \"thing\", \"thing\", \"thing\", \"think\", \"think\", \"think\", \"think\", \"think\", \"time\", \"time\", \"time\", \"time\", \"time\", \"token\", \"token\", \"token\", \"tooth\", \"trade\", \"trade\", \"trade\", \"trade\", \"trader\", \"trading\", \"train\", \"train\", \"train\", \"train\", \"training\", \"training\", \"training\", \"training\", \"trauma\", \"trump\", \"trump\", \"type\", \"type\", \"type\", \"type\", \"type\", \"type_diabete\", \"ui\", \"update\", \"update\", \"update\", \"update\", \"update\", \"url\", \"url\", \"use\", \"use\", \"use\", \"use\", \"use\", \"user\", \"user\", \"user\", \"user\", \"username\", \"vaccine\", \"vaccine\", \"valuation\", \"value\", \"value\", \"value\", \"value\", \"value\", \"variable\", \"variable\", \"variance\", \"vector\", \"vector\", \"version\", \"version\", \"version\", \"version\", \"version\", \"video\", \"video\", \"video\", \"video\", \"video\", \"visualization\", \"visualization\", \"visualization\", \"voices_alike_dive_heart\", \"vote\", \"vote\", \"vote\", \"voter\", \"voter\", \"vpn\", \"walk\", \"walk\", \"walk\", \"walk\", \"want\", \"want\", \"want\", \"want\", \"want\", \"way\", \"way\", \"way\", \"way\", \"way\", \"wear\", \"wear\", \"wear\", \"web\", \"web\", \"web\", \"web\", \"web\", \"website\", \"website\", \"website\", \"website\", \"well\", \"well\", \"well\", \"well\", \"well\", \"widget\", \"wife\", \"wife\", \"woman\", \"woman\", \"woman\", \"word\", \"word\", \"word\", \"word\", \"word\", \"work\", \"work\", \"work\", \"work\", \"work\", \"workshop\", \"workshop\", \"workshop\", \"workshop\", \"world\", \"world\", \"world\", \"world\", \"world\", \"year\", \"year\", \"year\", \"year\", \"year\"]}, \"R\": 30, \"lambda.step\": 0.01, \"plot.opts\": {\"xlab\": \"PC1\", \"ylab\": \"PC2\"}, \"topic.order\": [2, 3, 5, 1, 4]};\n",
       "\n",
       "function LDAvis_load_lib(url, callback){\n",
       "  var s = document.createElement('script');\n",
       "  s.src = url;\n",
       "  s.async = true;\n",
       "  s.onreadystatechange = s.onload = callback;\n",
       "  s.onerror = function(){console.warn(\"failed to load library \" + url);};\n",
       "  document.getElementsByTagName(\"head\")[0].appendChild(s);\n",
       "}\n",
       "\n",
       "if(typeof(LDAvis) !== \"undefined\"){\n",
       "   // already loaded: just create the visualization\n",
       "   !function(LDAvis){\n",
       "       new LDAvis(\"#\" + \"ldavis_el1949222233213125929171128792\", ldavis_el1949222233213125929171128792_data);\n",
       "   }(LDAvis);\n",
       "}else if(typeof define === \"function\" && define.amd){\n",
       "   // require.js is available: use it to load d3/LDAvis\n",
       "   require.config({paths: {d3: \"https://d3js.org/d3.v5\"}});\n",
       "   require([\"d3\"], function(d3){\n",
       "      window.d3 = d3;\n",
       "      LDAvis_load_lib(\"https://cdn.jsdelivr.net/gh/bmabey/pyLDAvis@3.4.0/pyLDAvis/js/ldavis.v3.0.0.js\", function(){\n",
       "        new LDAvis(\"#\" + \"ldavis_el1949222233213125929171128792\", ldavis_el1949222233213125929171128792_data);\n",
       "      });\n",
       "    });\n",
       "}else{\n",
       "    // require.js not available: dynamically load d3 & LDAvis\n",
       "    LDAvis_load_lib(\"https://d3js.org/d3.v5.js\", function(){\n",
       "         LDAvis_load_lib(\"https://cdn.jsdelivr.net/gh/bmabey/pyLDAvis@3.4.0/pyLDAvis/js/ldavis.v3.0.0.js\", function(){\n",
       "                 new LDAvis(\"#\" + \"ldavis_el1949222233213125929171128792\", ldavis_el1949222233213125929171128792_data);\n",
       "            })\n",
       "         });\n",
       "}\n",
       "</script>"
      ],
      "text/plain": [
       "<IPython.core.display.HTML object>"
      ]
     },
     "execution_count": 55,
     "metadata": {},
     "output_type": "execute_result"
    }
   ],
   "source": [
    "#prepare the visualization data\n",
    "LDAvis_prepared = pyLDAvis.gensim_models.prepare(lda_model, corpus, id2word)\n",
    "\n",
    "pyLDAvis.display(LDAvis_prepared)"
   ]
  },
  {
   "cell_type": "code",
   "execution_count": 56,
   "metadata": {},
   "outputs": [
    {
     "data": {
      "image/png": "[encoded data removed]",
      "text/plain": [
       "<Figure size 640x480 with 1 Axes>"
      ]
     },
     "metadata": {},
     "output_type": "display_data"
    }
   ],
   "source": [
    "#visualize the model using bar plot\n",
    "import matplotlib.pyplot as plt\n",
    "\n",
    "#get the topic distributions\n",
    "topic_dist = [lda_model.get_document_topics(corpus[i]) for i in range(len(corpus))]\n",
    "\n",
    "topic_counts = [0] * num_topics   #count how many documents belong to each topic\n",
    "\n",
    "for doc in topic_dist:\n",
    "    for topic in doc:\n",
    "        topic_counts[topic[0]] += 1\n",
    "\n",
    "#creating a bar plot\n",
    "plt.bar(range(num_topics), topic_counts)\n",
    "plt.xlabel('Topic ID')\n",
    "plt.ylabel('Number of Documents')\n",
    "plt.title('Distribution of Topics Across Documents')\n",
    "plt.show()\n"
   ]
  },
  {
   "cell_type": "code",
   "execution_count": 57,
   "metadata": {},
   "outputs": [],
   "source": [
    "#check the performance matrix\n",
    "#coherence score\n",
    "from gensim.models import CoherenceModel"
   ]
  },
  {
   "cell_type": "code",
   "execution_count": 58,
   "metadata": {},
   "outputs": [],
   "source": [
    "#create the coherence model using the LDA model to compute the coherence score\n",
    "coherence_model_lda = CoherenceModel(model = lda_model, \n",
    "                                     texts = clean_words_lemmatized,\n",
    "                                     dictionary = id2word, \n",
    "                                     coherence = 'c_v') #a coherence measure"
   ]
  },
  {
   "cell_type": "code",
   "execution_count": 59,
   "metadata": {},
   "outputs": [
    {
     "name": "stdout",
     "output_type": "stream",
     "text": [
      "Coherence score of the LDA model :  0.40163619074073154\n"
     ]
    }
   ],
   "source": [
    "coherence_score = coherence_model_lda.get_coherence()\n",
    "print(\"Coherence score of the LDA model : \", coherence_score)"
   ]
  },
  {
   "cell_type": "code",
   "execution_count": 68,
   "metadata": {},
   "outputs": [],
   "source": [
    "#creating TF-IDF matrix\n",
    "from sklearn.feature_extraction.text import TfidfVectorizer\n",
    "\n",
    "#joining the lemmatized words into a list of strings\n",
    "clean_documents = [\" \".join(doc) for doc in clean_words_lemmatized]\n",
    "\n",
    "tfidf_vectorizer = TfidfVectorizer(max_df=0.95, min_df=2)\n",
    "tfidf_matrix = tfidf_vectorizer.fit_transform(clean_documents)"
   ]
  },
  {
   "cell_type": "code",
   "execution_count": 69,
   "metadata": {},
   "outputs": [
    {
     "name": "stdout",
     "output_type": "stream",
     "text": [
      "Coherence Score for NMF:  1.0\n"
     ]
    }
   ],
   "source": [
    "\n",
    "from sklearn.decomposition import NMF\n",
    "\n",
    "nmf_model = NMF(n_components=5, random_state=42)\n",
    "nmf_model.fit(tfidf_matrix)\n",
    "\n",
    "# Extract Topics for Coherence Score\n",
    "nmf_topics = nmf_model.components_\n",
    "\n",
    "# Coherence Score\n",
    "coherence_model_nmf = CoherenceModel(topics=nmf_topics, texts=clean_words_lemmatized, dictionary=id2word, coherence='c_v')\n",
    "coherence_nmf = coherence_model_nmf.get_coherence()\n",
    "print('Coherence Score for NMF: ', coherence_nmf)"
   ]
  },
  {
   "cell_type": "code",
   "execution_count": 70,
   "metadata": {},
   "outputs": [
    {
     "name": "stdout",
     "output_type": "stream",
     "text": [
      "NMF Model Coherence Score:  1.0\n"
     ]
    }
   ],
   "source": [
    "\n",
    "from sklearn.feature_extraction.text import CountVectorizer\n",
    "\n",
    "# Create Bag-of-Words (BoW) matrix using CountVectorizer\n",
    "bow_vectorizer = CountVectorizer(max_df=0.95, min_df=2, stop_words='english')\n",
    "bow_matrix = bow_vectorizer.fit_transform([' '.join(text) for text in clean_words_lemmatized])\n",
    "\n",
    "# NMF Model\n",
    "nmf_model = NMF(n_components=5, random_state=42)\n",
    "nmf_model.fit(bow_matrix)\n",
    "\n",
    "# Extract Topics for Coherence Score\n",
    "nmf_topics = nmf_model.components_\n",
    "\n",
    "# Coherence Score\n",
    "coherence_model_nmf = CoherenceModel(topics=nmf_topics, texts=clean_words_lemmatized, dictionary=id2word, coherence='c_v')\n",
    "coherence_nmf = coherence_model_nmf.get_coherence()\n",
    "print('NMF Model Coherence Score: ', coherence_nmf)\n",
    "\n",
    "# (Perplexity does not apply to NMF)\n"
   ]
  },
  {
   "cell_type": "code",
   "execution_count": null,
   "metadata": {},
   "outputs": [],
   "source": []
  }
 ],
 "metadata": {
  "kernelspec": {
   "display_name": "Python 3 (ipykernel)",
   "language": "python",
   "name": "python3"
  },
  "language_info": {
   "codemirror_mode": {
    "name": "ipython",
    "version": 3
   },
   "file_extension": ".py",
   "mimetype": "text/x-python",
   "name": "python",
   "nbconvert_exporter": "python",
   "pygments_lexer": "ipython3",
   "version": "3.12.3"
  }
 },
 "nbformat": 4,
 "nbformat_minor": 4
}
